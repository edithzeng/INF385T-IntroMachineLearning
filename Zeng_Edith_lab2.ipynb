{
 "cells": [
  {
   "cell_type": "code",
   "execution_count": 1,
   "metadata": {},
   "outputs": [],
   "source": [
    "# "As a student of The University of Texas at Austin, I shall abide by the core values of the University and uphold academic integrity.""
    "import numpy as np\n",
    "import pandas as pd\n",
    "import matplotlib.pyplot as plt\n",
    "%matplotlib inline\n",
    "from sklearn.preprocessing import LabelEncoder, StandardScaler, MinMaxScaler\n",
    "from sklearn.model_selection import train_test_split, cross_val_score, KFold, StratifiedKFold\n",
    "from sklearn.tree import DecisionTreeClassifier\n",
    "from sklearn.neighbors import KNeighborsClassifier\n",
    "from sklearn.svm import SVC, LinearSVC\n",
    "from sklearn.naive_bayes import GaussianNB\n",
    "from sklearn.metrics import accuracy_score, precision_score, recall_score, confusion_matrix\n",
    "import seaborn as sns"
   ]
  },
  {
   "cell_type": "markdown",
   "metadata": {},
   "source": [
    "## 1. Construct Datasets for Training and Evaluation\n",
    "### (a) Load a real dataset of your choice that is designed for classifcation but was not used in class; e.g., from sklearn.datasets, Kaggle, or your own data. (Code)\n",
    "\n",
    "Dataset:\n",
    "[Austin Animal Shelter Outcome](https://www.kaggle.com/aaronschlegel/austin-animal-center-shelter-intakes-and-outcomes#aac_outcomes.csv)\n",
    "\n",
    "X = animal type, age and sex (3 features).\n",
    "\n",
    "Y = (binary) whether outcome for 'adoption'. \n",
    "\n",
    "I initially used multinomial classification to determine which type of outcome ('Transfer', 'Adoption', 'Euthanasia', 'Return to Owner', 'Died','Disposal', 'Relocate', 'Missing', 'Rto-Adopt') but some X become negative after scaling and the class distribution is very imbalanced. So I cleaned up Y to only predict the 'adoption' class. \n",
    "\n",
    "'outcome_type' = 1 if 'Adoption' else 0. The goal is to predict whether an animal will be adopted based on their type, age and sex. Positive is defined as adoption == 1. "
   ]
  },
  {
   "cell_type": "code",
   "execution_count": 2,
   "metadata": {
    "scrolled": true
   },
   "outputs": [],
   "source": [
    "df = pd.read_csv('aac_outcomes.csv', index_col='animal_id', infer_datetime_format=True)"
   ]
  },
  {
   "cell_type": "code",
   "execution_count": 3,
   "metadata": {
    "scrolled": true
   },
   "outputs": [
    {
     "data": {
      "text/plain": [
       "(80681, 11)"
      ]
     },
     "execution_count": 3,
     "metadata": {},
     "output_type": "execute_result"
    }
   ],
   "source": [
    "df.shape"
   ]
  },
  {
   "cell_type": "code",
   "execution_count": 4,
   "metadata": {
    "scrolled": false
   },
   "outputs": [
    {
     "data": {
      "text/html": [
       "<div>\n",
       "<style scoped>\n",
       "    .dataframe tbody tr th:only-of-type {\n",
       "        vertical-align: middle;\n",
       "    }\n",
       "\n",
       "    .dataframe tbody tr th {\n",
       "        vertical-align: top;\n",
       "    }\n",
       "\n",
       "    .dataframe thead th {\n",
       "        text-align: right;\n",
       "    }\n",
       "</style>\n",
       "<table border=\"1\" class=\"dataframe\">\n",
       "  <thead>\n",
       "    <tr style=\"text-align: right;\">\n",
       "      <th></th>\n",
       "      <th>age_upon_outcome</th>\n",
       "      <th>animal_type</th>\n",
       "      <th>breed</th>\n",
       "      <th>color</th>\n",
       "      <th>date_of_birth</th>\n",
       "      <th>datetime</th>\n",
       "      <th>monthyear</th>\n",
       "      <th>name</th>\n",
       "      <th>outcome_subtype</th>\n",
       "      <th>outcome_type</th>\n",
       "      <th>sex_upon_outcome</th>\n",
       "    </tr>\n",
       "    <tr>\n",
       "      <th>animal_id</th>\n",
       "      <th></th>\n",
       "      <th></th>\n",
       "      <th></th>\n",
       "      <th></th>\n",
       "      <th></th>\n",
       "      <th></th>\n",
       "      <th></th>\n",
       "      <th></th>\n",
       "      <th></th>\n",
       "      <th></th>\n",
       "      <th></th>\n",
       "    </tr>\n",
       "  </thead>\n",
       "  <tbody>\n",
       "    <tr>\n",
       "      <th>A697365</th>\n",
       "      <td>1 year</td>\n",
       "      <td>Dog</td>\n",
       "      <td>Pit Bull Mix</td>\n",
       "      <td>Blue/White</td>\n",
       "      <td>2013-08-22T00:00:00</td>\n",
       "      <td>2015-03-31T15:50:00</td>\n",
       "      <td>2015-03-31T15:50:00</td>\n",
       "      <td>*Cherica</td>\n",
       "      <td>NaN</td>\n",
       "      <td>Adoption</td>\n",
       "      <td>Spayed Female</td>\n",
       "    </tr>\n",
       "    <tr>\n",
       "      <th>A684012</th>\n",
       "      <td>7 years</td>\n",
       "      <td>Dog</td>\n",
       "      <td>Chihuahua Shorthair Mix</td>\n",
       "      <td>Tan</td>\n",
       "      <td>2010-05-25T00:00:00</td>\n",
       "      <td>2017-07-14T12:27:00</td>\n",
       "      <td>2017-07-14T12:27:00</td>\n",
       "      <td>Lucca</td>\n",
       "      <td>Partner</td>\n",
       "      <td>Transfer</td>\n",
       "      <td>Neutered Male</td>\n",
       "    </tr>\n",
       "    <tr>\n",
       "      <th>A754970</th>\n",
       "      <td>2 months</td>\n",
       "      <td>Dog</td>\n",
       "      <td>Dachshund Mix</td>\n",
       "      <td>Black/Tan</td>\n",
       "      <td>2017-05-12T00:00:00</td>\n",
       "      <td>2017-07-31T17:21:00</td>\n",
       "      <td>2017-07-31T17:21:00</td>\n",
       "      <td>Benny</td>\n",
       "      <td>NaN</td>\n",
       "      <td>Adoption</td>\n",
       "      <td>Neutered Male</td>\n",
       "    </tr>\n",
       "  </tbody>\n",
       "</table>\n",
       "</div>"
      ],
      "text/plain": [
       "          age_upon_outcome animal_type                    breed       color  \\\n",
       "animal_id                                                                     \n",
       "A697365             1 year         Dog             Pit Bull Mix  Blue/White   \n",
       "A684012            7 years         Dog  Chihuahua Shorthair Mix         Tan   \n",
       "A754970           2 months         Dog            Dachshund Mix   Black/Tan   \n",
       "\n",
       "                 date_of_birth             datetime            monthyear  \\\n",
       "animal_id                                                                  \n",
       "A697365    2013-08-22T00:00:00  2015-03-31T15:50:00  2015-03-31T15:50:00   \n",
       "A684012    2010-05-25T00:00:00  2017-07-14T12:27:00  2017-07-14T12:27:00   \n",
       "A754970    2017-05-12T00:00:00  2017-07-31T17:21:00  2017-07-31T17:21:00   \n",
       "\n",
       "               name outcome_subtype outcome_type sex_upon_outcome  \n",
       "animal_id                                                          \n",
       "A697365    *Cherica             NaN     Adoption    Spayed Female  \n",
       "A684012       Lucca         Partner     Transfer    Neutered Male  \n",
       "A754970       Benny             NaN     Adoption    Neutered Male  "
      ]
     },
     "execution_count": 4,
     "metadata": {},
     "output_type": "execute_result"
    }
   ],
   "source": [
    "df.sample(3)"
   ]
  },
  {
   "cell_type": "code",
   "execution_count": 5,
   "metadata": {},
   "outputs": [],
   "source": [
    "df = df[['animal_type', 'age_upon_outcome', 'sex_upon_outcome', 'outcome_type']]"
   ]
  },
  {
   "cell_type": "code",
   "execution_count": 6,
   "metadata": {
    "scrolled": true
   },
   "outputs": [],
   "source": [
    "df.dropna(axis=0, how='any', inplace=True)"
   ]
  },
  {
   "cell_type": "code",
   "execution_count": 7,
   "metadata": {
    "scrolled": false
   },
   "outputs": [
    {
     "data": {
      "text/plain": [
       "animal_type         False\n",
       "age_upon_outcome    False\n",
       "sex_upon_outcome    False\n",
       "outcome_type        False\n",
       "dtype: bool"
      ]
     },
     "execution_count": 7,
     "metadata": {},
     "output_type": "execute_result"
    }
   ],
   "source": [
    "df.isnull().any()"
   ]
  },
  {
   "cell_type": "code",
   "execution_count": 8,
   "metadata": {},
   "outputs": [],
   "source": [
    "# strip ages as days\n",
    "\n",
    "for i in range(len(df)):\n",
    "    \n",
    "    c = df.iloc[i,1]\n",
    "    res = -1 \n",
    "    a = c.split(\" \")\n",
    "    num, t = a[0], a[1].lower()\n",
    "    \n",
    "    if t.startswith('d'):\n",
    "        res = int(num)\n",
    "    elif t.startswith('w'):\n",
    "        res = int(num) * 7\n",
    "    elif t.startswith('m'):\n",
    "        res = int(num) * 30\n",
    "    elif t.startswith('y'):\n",
    "        res = int(num) * 30 * 12\n",
    "    \n",
    "    df.iloc[i, 1] = res"
   ]
  },
  {
   "cell_type": "code",
   "execution_count": 9,
   "metadata": {
    "scrolled": false
   },
   "outputs": [
    {
     "data": {
      "text/plain": [
       "array(['Transfer', 'Adoption', 'Euthanasia', 'Return to Owner', 'Died',\n",
       "       'Disposal', 'Relocate', 'Missing', 'Rto-Adopt'], dtype=object)"
      ]
     },
     "execution_count": 9,
     "metadata": {},
     "output_type": "execute_result"
    }
   ],
   "source": [
    "df['outcome_type'].unique()"
   ]
  },
  {
   "cell_type": "code",
   "execution_count": 10,
   "metadata": {},
   "outputs": [],
   "source": [
    "# Clean up Y ('adoption' = 1 else 0)\n",
    "for i in range(len(df)):\n",
    "    c = df.iloc[i,3].lower()    \n",
    "    res = 1 if c.startswith('a') else 0\n",
    "    df.iloc[i, 3] = res"
   ]
  },
  {
   "cell_type": "code",
   "execution_count": 11,
   "metadata": {
    "scrolled": false
   },
   "outputs": [
    {
     "data": {
      "text/html": [
       "<div>\n",
       "<style scoped>\n",
       "    .dataframe tbody tr th:only-of-type {\n",
       "        vertical-align: middle;\n",
       "    }\n",
       "\n",
       "    .dataframe tbody tr th {\n",
       "        vertical-align: top;\n",
       "    }\n",
       "\n",
       "    .dataframe thead th {\n",
       "        text-align: right;\n",
       "    }\n",
       "</style>\n",
       "<table border=\"1\" class=\"dataframe\">\n",
       "  <thead>\n",
       "    <tr style=\"text-align: right;\">\n",
       "      <th></th>\n",
       "      <th>animal_type</th>\n",
       "      <th>age_upon_outcome</th>\n",
       "      <th>sex_upon_outcome</th>\n",
       "      <th>outcome_type</th>\n",
       "    </tr>\n",
       "    <tr>\n",
       "      <th>animal_id</th>\n",
       "      <th></th>\n",
       "      <th></th>\n",
       "      <th></th>\n",
       "      <th></th>\n",
       "    </tr>\n",
       "  </thead>\n",
       "  <tbody>\n",
       "    <tr>\n",
       "      <th>A684346</th>\n",
       "      <td>Cat</td>\n",
       "      <td>14</td>\n",
       "      <td>Intact Male</td>\n",
       "      <td>0</td>\n",
       "    </tr>\n",
       "    <tr>\n",
       "      <th>A666430</th>\n",
       "      <td>Dog</td>\n",
       "      <td>360</td>\n",
       "      <td>Spayed Female</td>\n",
       "      <td>0</td>\n",
       "    </tr>\n",
       "    <tr>\n",
       "      <th>A675708</th>\n",
       "      <td>Dog</td>\n",
       "      <td>360</td>\n",
       "      <td>Neutered Male</td>\n",
       "      <td>1</td>\n",
       "    </tr>\n",
       "    <tr>\n",
       "      <th>A680386</th>\n",
       "      <td>Dog</td>\n",
       "      <td>3240</td>\n",
       "      <td>Neutered Male</td>\n",
       "      <td>0</td>\n",
       "    </tr>\n",
       "    <tr>\n",
       "      <th>A683115</th>\n",
       "      <td>Other</td>\n",
       "      <td>150</td>\n",
       "      <td>Unknown</td>\n",
       "      <td>0</td>\n",
       "    </tr>\n",
       "    <tr>\n",
       "      <th>A664462</th>\n",
       "      <td>Dog</td>\n",
       "      <td>120</td>\n",
       "      <td>Intact Male</td>\n",
       "      <td>0</td>\n",
       "    </tr>\n",
       "    <tr>\n",
       "      <th>A685067</th>\n",
       "      <td>Cat</td>\n",
       "      <td>30</td>\n",
       "      <td>Intact Female</td>\n",
       "      <td>1</td>\n",
       "    </tr>\n",
       "    <tr>\n",
       "      <th>A678580</th>\n",
       "      <td>Cat</td>\n",
       "      <td>90</td>\n",
       "      <td>Spayed Female</td>\n",
       "      <td>1</td>\n",
       "    </tr>\n",
       "    <tr>\n",
       "      <th>A675405</th>\n",
       "      <td>Cat</td>\n",
       "      <td>360</td>\n",
       "      <td>Spayed Female</td>\n",
       "      <td>0</td>\n",
       "    </tr>\n",
       "    <tr>\n",
       "      <th>A673652</th>\n",
       "      <td>Dog</td>\n",
       "      <td>720</td>\n",
       "      <td>Neutered Male</td>\n",
       "      <td>0</td>\n",
       "    </tr>\n",
       "  </tbody>\n",
       "</table>\n",
       "</div>"
      ],
      "text/plain": [
       "          animal_type age_upon_outcome sex_upon_outcome outcome_type\n",
       "animal_id                                                           \n",
       "A684346           Cat               14      Intact Male            0\n",
       "A666430           Dog              360    Spayed Female            0\n",
       "A675708           Dog              360    Neutered Male            1\n",
       "A680386           Dog             3240    Neutered Male            0\n",
       "A683115         Other              150          Unknown            0\n",
       "A664462           Dog              120      Intact Male            0\n",
       "A685067           Cat               30    Intact Female            1\n",
       "A678580           Cat               90    Spayed Female            1\n",
       "A675405           Cat              360    Spayed Female            0\n",
       "A673652           Dog              720    Neutered Male            0"
      ]
     },
     "execution_count": 11,
     "metadata": {},
     "output_type": "execute_result"
    }
   ],
   "source": [
    "df.head(10)"
   ]
  },
  {
   "cell_type": "code",
   "execution_count": 12,
   "metadata": {
    "scrolled": true
   },
   "outputs": [],
   "source": [
    "# encode categorical features as dummy var\n",
    "le = LabelEncoder()\n",
    "data = df.copy()\n",
    "for c in list(data.columns):\n",
    "    data[c] = le.fit_transform(data[c].values)"
   ]
  },
  {
   "cell_type": "code",
   "execution_count": 13,
   "metadata": {
    "scrolled": true
   },
   "outputs": [
    {
     "data": {
      "text/html": [
       "<div>\n",
       "<style scoped>\n",
       "    .dataframe tbody tr th:only-of-type {\n",
       "        vertical-align: middle;\n",
       "    }\n",
       "\n",
       "    .dataframe tbody tr th {\n",
       "        vertical-align: top;\n",
       "    }\n",
       "\n",
       "    .dataframe thead th {\n",
       "        text-align: right;\n",
       "    }\n",
       "</style>\n",
       "<table border=\"1\" class=\"dataframe\">\n",
       "  <thead>\n",
       "    <tr style=\"text-align: right;\">\n",
       "      <th></th>\n",
       "      <th>animal_type</th>\n",
       "      <th>age_upon_outcome</th>\n",
       "      <th>sex_upon_outcome</th>\n",
       "      <th>outcome_type</th>\n",
       "    </tr>\n",
       "    <tr>\n",
       "      <th>animal_id</th>\n",
       "      <th></th>\n",
       "      <th></th>\n",
       "      <th></th>\n",
       "      <th></th>\n",
       "    </tr>\n",
       "  </thead>\n",
       "  <tbody>\n",
       "    <tr>\n",
       "      <th>A748206</th>\n",
       "      <td>1</td>\n",
       "      <td>13</td>\n",
       "      <td>3</td>\n",
       "      <td>1</td>\n",
       "    </tr>\n",
       "    <tr>\n",
       "      <th>A701273</th>\n",
       "      <td>2</td>\n",
       "      <td>32</td>\n",
       "      <td>1</td>\n",
       "      <td>0</td>\n",
       "    </tr>\n",
       "    <tr>\n",
       "      <th>A751337</th>\n",
       "      <td>2</td>\n",
       "      <td>23</td>\n",
       "      <td>1</td>\n",
       "      <td>0</td>\n",
       "    </tr>\n",
       "    <tr>\n",
       "      <th>A721609</th>\n",
       "      <td>1</td>\n",
       "      <td>23</td>\n",
       "      <td>2</td>\n",
       "      <td>0</td>\n",
       "    </tr>\n",
       "    <tr>\n",
       "      <th>A687245</th>\n",
       "      <td>1</td>\n",
       "      <td>8</td>\n",
       "      <td>0</td>\n",
       "      <td>0</td>\n",
       "    </tr>\n",
       "    <tr>\n",
       "      <th>A721545</th>\n",
       "      <td>2</td>\n",
       "      <td>17</td>\n",
       "      <td>2</td>\n",
       "      <td>1</td>\n",
       "    </tr>\n",
       "    <tr>\n",
       "      <th>A725782</th>\n",
       "      <td>2</td>\n",
       "      <td>24</td>\n",
       "      <td>3</td>\n",
       "      <td>1</td>\n",
       "    </tr>\n",
       "    <tr>\n",
       "      <th>A696171</th>\n",
       "      <td>1</td>\n",
       "      <td>29</td>\n",
       "      <td>3</td>\n",
       "      <td>1</td>\n",
       "    </tr>\n",
       "    <tr>\n",
       "      <th>A750698</th>\n",
       "      <td>2</td>\n",
       "      <td>24</td>\n",
       "      <td>3</td>\n",
       "      <td>0</td>\n",
       "    </tr>\n",
       "    <tr>\n",
       "      <th>A681962</th>\n",
       "      <td>2</td>\n",
       "      <td>24</td>\n",
       "      <td>2</td>\n",
       "      <td>0</td>\n",
       "    </tr>\n",
       "  </tbody>\n",
       "</table>\n",
       "</div>"
      ],
      "text/plain": [
       "           animal_type  age_upon_outcome  sex_upon_outcome  outcome_type\n",
       "animal_id                                                               \n",
       "A748206              1                13                 3             1\n",
       "A701273              2                32                 1             0\n",
       "A751337              2                23                 1             0\n",
       "A721609              1                23                 2             0\n",
       "A687245              1                 8                 0             0\n",
       "A721545              2                17                 2             1\n",
       "A725782              2                24                 3             1\n",
       "A696171              1                29                 3             1\n",
       "A750698              2                24                 3             0\n",
       "A681962              2                24                 2             0"
      ]
     },
     "execution_count": 13,
     "metadata": {},
     "output_type": "execute_result"
    }
   ],
   "source": [
    "data.sample(10)"
   ]
  },
  {
   "cell_type": "code",
   "execution_count": 14,
   "metadata": {},
   "outputs": [],
   "source": [
    "M = data.values"
   ]
  },
  {
   "cell_type": "code",
   "execution_count": 15,
   "metadata": {},
   "outputs": [],
   "source": [
    "X = M[:,:3]\n",
    "Y = M[:, 3]"
   ]
  },
  {
   "cell_type": "code",
   "execution_count": 16,
   "metadata": {
    "scrolled": true
   },
   "outputs": [
    {
     "data": {
      "text/plain": [
       "(80660, 3)"
      ]
     },
     "execution_count": 16,
     "metadata": {},
     "output_type": "execute_result"
    }
   ],
   "source": [
    "X.shape"
   ]
  },
  {
   "cell_type": "code",
   "execution_count": 17,
   "metadata": {},
   "outputs": [
    {
     "data": {
      "text/plain": [
       "(80660,)"
      ]
     },
     "execution_count": 17,
     "metadata": {},
     "output_type": "execute_result"
    }
   ],
   "source": [
    "Y.shape"
   ]
  },
  {
   "cell_type": "code",
   "execution_count": 18,
   "metadata": {
    "scrolled": false
   },
   "outputs": [
    {
     "data": {
      "text/plain": [
       "0    46429\n",
       "1    34231\n",
       "Name: outcome_type, dtype: int64"
      ]
     },
     "execution_count": 18,
     "metadata": {},
     "output_type": "execute_result"
    }
   ],
   "source": [
    "# imbalanced class distributions when using all 9 classes; \n",
    "# after changing to binary classification of adoption or not, the distribution is much closer to 50/50.\n",
    "df[\"outcome_type\"].value_counts()"
   ]
  },
  {
   "cell_type": "markdown",
   "metadata": {},
   "source": [
    "### (b) Create a 80/20 train/test split of the dataset. (Code)"
   ]
  },
  {
   "cell_type": "code",
   "execution_count": 19,
   "metadata": {},
   "outputs": [],
   "source": [
    "X_train, X_test, Y_train, Y_test = train_test_split(X, Y, test_size=0.2, random_state=23)"
   ]
  },
  {
   "cell_type": "code",
   "execution_count": 20,
   "metadata": {},
   "outputs": [
    {
     "data": {
      "text/plain": [
       "(64528, 3)"
      ]
     },
     "execution_count": 20,
     "metadata": {},
     "output_type": "execute_result"
    }
   ],
   "source": [
    "X_train.shape"
   ]
  },
  {
   "cell_type": "code",
   "execution_count": 21,
   "metadata": {
    "scrolled": true
   },
   "outputs": [
    {
     "name": "stderr",
     "output_type": "stream",
     "text": [
      "/Users/edithzeng/anaconda3/lib/python3.6/site-packages/sklearn/utils/validation.py:475: DataConversionWarning: Data with input dtype int64 was converted to float64 by StandardScaler.\n",
      "  warnings.warn(msg, DataConversionWarning)\n"
     ]
    }
   ],
   "source": [
    "sc = StandardScaler()\n",
    "X_train_scaled = sc.fit_transform(X_train)\n",
    "X_test_scaled = sc.transform(X_test)"
   ]
  },
  {
   "cell_type": "code",
   "execution_count": 24,
   "metadata": {},
   "outputs": [
    {
     "name": "stdout",
     "output_type": "stream",
     "text": [
      "Stored 'X_train_scaled' (ndarray)\n",
      "Stored 'X_test_scaled' (ndarray)\n",
      "Stored 'Y_train' (ndarray)\n",
      "Stored 'Y_test' (ndarray)\n"
     ]
    }
   ],
   "source": [
    "%store X_train_scaled\n",
    "%store X_test_scaled\n",
    "%store Y_train\n",
    "%store Y_test"
   ]
  },
  {
   "cell_type": "markdown",
   "metadata": {},
   "source": [
    "## 2. Optimize Hyperparameter(s) for Each Classifcation Model: When evaluating each model in this problem, perform stratifed 10-fold cross-validation on the training dataset and use the \"accuracy\" measure to assess performance.\n",
    "### (a) Decision tree: find the optimal hyperparameters for the split criterion (i.e., test \"gini\" and \"entropy\") and tree depth (i.e., test at least 7 different values) when training a decision tree. Report the optimal hyperparameters found and how many hyperparameter combinations you tested in total. (Code and Write-up)"
   ]
  },
  {
   "cell_type": "code",
   "execution_count": 2,
   "metadata": {},
   "outputs": [],
   "source": [
    "def decision_tree(split_criterion='gini', depth=[i*10 for i in range(1,50)]):\n",
    "        \n",
    "    cv_scores = []\n",
    "    best_score, best_depth = -1, -1\n",
    "    skf = StratifiedKFold(n_splits=10, shuffle=True, random_state=3)\n",
    "    \n",
    "    for d in depth:\n",
    "        \n",
    "        # cross validate on training data\n",
    "        dt = DecisionTreeClassifier(criterion=split_criterion, max_depth=d)\n",
    "        cv_accuracy = np.mean(cross_val_score(dt, X_train, Y_train, cv=skf))  # trees are big-scale invariant\n",
    "        cv_scores.append(cv_accuracy)\n",
    "        \n",
    "        if cv_accuracy > best_score:\n",
    "            best_score = cv_accuracy\n",
    "            best_depth = d\n",
    "            \n",
    "    # fit model with selected hyperparameters\n",
    "    dt = DecisionTreeClassifier(criterion=split_criterion, max_depth=best_depth)\n",
    "    dt.fit(X_train, Y_train)\n",
    "        \n",
    "    # evaluate on test data\n",
    "    test_score = dt.score(X_test, Y_test)\n",
    "    \n",
    "    print(\"Tree split criterion:\",split_criterion)\n",
    "    print(\"Best accuracy from 10-fold cv: {:0.4f}\".format(best_score))\n",
    "    print(\"Best max depth d =\", best_depth)\n",
    "    print(\"Test accuracy: {:.4f}\".format(test_score))\n",
    "    print(\"Number of hyperparameter d tested:\", len(depth))"
   ]
  },
  {
   "cell_type": "code",
   "execution_count": 66,
   "metadata": {
    "scrolled": false
   },
   "outputs": [
    {
     "name": "stdout",
     "output_type": "stream",
     "text": [
      "Tree split criterion: gini\n",
      "Best accuracy from 10-fold cv: 0.7613\n",
      "Best max depth d = 10\n",
      "Test accuracy: 0.7719\n",
      "Number of hyperparameter d tested: 49\n"
     ]
    }
   ],
   "source": [
    "decision_tree()"
   ]
  },
  {
   "cell_type": "code",
   "execution_count": 67,
   "metadata": {
    "scrolled": false
   },
   "outputs": [
    {
     "name": "stdout",
     "output_type": "stream",
     "text": [
      "Tree split criterion: entropy\n",
      "Best accuracy from 10-fold cv: 0.7614\n",
      "Best max depth d = 10\n",
      "Test accuracy: 0.7719\n",
      "Number of hyperparameter d tested: 49\n"
     ]
    }
   ],
   "source": [
    "decision_tree('entropy')"
   ]
  },
  {
   "cell_type": "markdown",
   "metadata": {},
   "source": [
    "#### Write-up\n",
    "\n",
    "Optimal parameters: both entropy (maximizing IG) and Gini index works well; limiting the maximum tree depth to 10 is the optimal hyperparameter. Both trees with maximum depth of 10 achieved best test accuracy scores of 77.19%.\n",
    "\n",
    "The above code tested a total of $49\\times 2=98$ combinations of hyperparameters."
   ]
  },
  {
   "cell_type": "markdown",
   "metadata": {},
   "source": [
    "### (b) K-Nearest Neighbors (K-NN): find the optimal hyperparameters for the distance metric (i.e., test \\Euclidean\" and \\Manhattan\") and number of nearest neighbors (i.e., test at least 7 different values) when using k-Nearest Neighbors. Report the optimal hyperparameters found and how many hyperparameter combinations you tested in total. (Code and Write-up)"
   ]
  },
  {
   "cell_type": "code",
   "execution_count": 3,
   "metadata": {},
   "outputs": [],
   "source": [
    "def knn_(dist='Euclidean', w='uniform'):\n",
    "    \n",
    "    skf = StratifiedKFold(n_splits=10, shuffle=True, random_state=3)\n",
    "    train_scores, test_scores = [], []\n",
    "    best_score, best_k = -1, -1\n",
    "    \n",
    "    p = 2 if dist == 'Euclidean' else 1\n",
    "    k_list = [i*5 for i in range(1,25)]\n",
    "    \n",
    "    for k in k_list:\n",
    "        \n",
    "        knn = KNeighborsClassifier(n_neighbors=k, weights=w, p=p)\n",
    "        cv_accuracy = np.mean(cross_val_score(knn, X_train_scaled, Y_train, cv=skf))\n",
    "        train_scores.append(cv_accuracy)\n",
    "        \n",
    "        if cv_accuracy > best_score:\n",
    "            best_score = cv_accuracy\n",
    "            best_k = k\n",
    "\n",
    "        knn.fit(X_train_scaled, Y_train)\n",
    "        test_scores.append(knn.score(X_test_scaled, Y_test))\n",
    "    \n",
    "    # plot\n",
    "    plt.grid()\n",
    "    plt.plot(k_list, train_scores, label='training accuracy')\n",
    "    plt.plot(k_list, test_scores, label='test accuracy')\n",
    "    plt.ylabel('accuracy')\n",
    "    plt.xlabel('number of neighbors')\n",
    "    plt.legend()\n",
    "    \n",
    "    # score the best model\n",
    "    model = KNeighborsClassifier(n_neighbors=best_k, weights=w, p=p)\n",
    "    model.fit(X_train_scaled, Y_train)\n",
    "    best_test_score = model.score(X_test_scaled, Y_test)\n",
    "    \n",
    "    print(\"Distance:\",dist)\n",
    "    print(\"Best accuracy from 10-fold cv: {:0.4f}\".format(best_score))\n",
    "    print(\"Best number of neighbors:\", best_k)\n",
    "    print(\"Test accuracy: {:.4f}\".format(best_test_score))\n",
    "    print(\"Number of hyperparameter d tested:\", len(k_list))"
   ]
  },
  {
   "cell_type": "code",
   "execution_count": 69,
   "metadata": {
    "scrolled": true
   },
   "outputs": [
    {
     "name": "stdout",
     "output_type": "stream",
     "text": [
      "Distance: Euclidean\n",
      "Best accuracy from 10-fold cv: 0.7608\n",
      "Best number of neighbors: 100\n",
      "Test accuracy: 0.7698\n",
      "Number of hyperparameter d tested: 24\n"
     ]
    },
    {
     "data": {
      "image/png": "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\n",
      "text/plain": [
       "<Figure size 432x288 with 1 Axes>"
      ]
     },
     "metadata": {},
     "output_type": "display_data"
    }
   ],
   "source": [
    "knn_()"
   ]
  },
  {
   "cell_type": "code",
   "execution_count": 70,
   "metadata": {},
   "outputs": [
    {
     "name": "stdout",
     "output_type": "stream",
     "text": [
      "Distance: Euclidean\n",
      "Best accuracy from 10-fold cv: 0.7606\n",
      "Best number of neighbors: 100\n",
      "Test accuracy: 0.7698\n",
      "Number of hyperparameter d tested: 24\n"
     ]
    },
    {
     "data": {
      "image/png": "iVBORw0KGgoAAAANSUhEUgAAAZIAAAEKCAYAAAA4t9PUAAAABHNCSVQICAgIfAhkiAAAAAlwSFlzAAALEgAACxIB0t1+/AAAADl0RVh0U29mdHdhcmUAbWF0cGxvdGxpYiB2ZXJzaW9uIDIuMi4yLCBodHRwOi8vbWF0cGxvdGxpYi5vcmcvhp/UCwAAIABJREFUeJzs3Xd8VFX6+PHPSSMJSUiD0JMgvZeAIKIBBbEhNgQRF11k1ZVVd/Wr/lzRdZurrqzdxd4gKHZBBRYiKi1BitJbGkFaGumZyfP7405iCCmTZCaN5/16zSvce889c04S5sm5pxkRQSmllKovj6YugFJKqZZNA4lSSqkG0UCilFKqQTSQKKWUahANJEoppRpEA4lSSqkG0UCilFKqQTSQKKWUahANJEoppRrEq6kL0BjCw8MlKiqKvLw82rZt29TFcSmtU8ugdWr+Wlt9oOF12rx58wkRaV9burMikERFRZGYmEh8fDyxsbFNXRyX0jq1DFqn5q+11QcaXidjTLIz6fTRllJKqQbRQKKUUqpBNJAopZRqkLOij6QqJSUlpKWlUVhY2NRFaZB27dqxa9eupi6GS7myTr6+vnTt2hVvb2+X5KeUOtNZG0jS0tIIDAwkKioKY0xTF6feTp06RWBgYFMXw6VcVScR4eTJk6SlpREdHe2CkimlqnLWPtoqLCwkLCysRQcRVTNjDGFhYS2+1alUc3fWBhJAg8hZQH/GSrnfWR1IlFKq1co9Ts99r0GJ+1vkGkiaSFZWFi+99FK97r3sssvIysqqMc38+fNZtWpVvfJXSrVwRbmw6Ho6HfkGTuxx+9tpIGkiNQUSu91e473Lly8nODi4xjSPP/44F198cb3L1xRsNltTF0Gpls9WDB/MgiPb2dn//6DTELe/pQaSJvLggw9y4MABhg4dyv333098fDzjx4/nxhtvZNCgQQBMnTqVESNGMGDAABYuXFh+b1RUFCdOnCApKYmYmBhuu+02BgwYwKRJkygoKABg9uzZLF26tDz9o48+yvDhwxk0aBC7d+8G4Pjx40ycOJHhw4fzu9/9jsjISE6cOHFGWe+44w5iYmIYMGAAjz76aPn5hIQEzjvvPIYMGcKoUaM4deoUdrud++67j0GDBjF48GCef/7508oMkJiYWL5sw2OPPcbcuXOZNGkSN998M0lJSVxyySUMHz6c4cOHs27duvL3e/LJJxk0aBBDhgwp//4NHz68/Pq+ffsYMWJEg382SrVYpaXw2Z1wYDVMeY6T4SMb5W3P2uG/Ff3lix3sTM9xaZ79Owfx6JUDqr3+xBNP8PPPP7N161bAWhNn06ZN/Pzzz+VDVd944w1CQ0MpKChg5MiRXHvttYSFhZ2Wz4EDB1iyZAmvvvoq06ZN46OPPuKmm2464/3Cw8P58ccfeemll3j66ad57bXX+Mtf/sKECRN46KGH+Prrr08LVhX9/e9/JzQ0FLvdzkUXXcT27dvp27cvN9xwA0uWLGHkyJHk5OTg5+fHwoULOXToEFu2bMHLy4uMjIxav1ebN2/m+++/x8/Pj/z8fD777DPat2/Pvn37mDFjBomJiXz11Vd8+umnbNy4EX9/fzIyMggNDaVdu3Zs3bqVoUOH8uabbzJ79uxa30+pVkkEVvwZfvoQLpoPw26C+PhGeWsNJM3IqFGjTpvv8Nxzz/HJJ58AkJqayr59+84IJJGRkQwdOhSAESNGkJSUVGXe11xzTXmajz/+GIDvv/++PP/JkycTEhJS5b0ffPABCxcuxGazceTIEXbu3Ikxhk6dOjFypPUXT1BQEACrVq3i9ttvx8vL+tUKDQ2ttd5TpkzBz88PsCaKzps3jx07duDp6cnevXvL873lllvw9/c/Ld85c+bw5ptv8swzz7BkyRI2bdpU6/sp1Sqtew42vAjn3g7n/7FR31oDCdTYcmhMFZd7jo+PZ9WqVaxfvx5/f39iY2OrnA/Rpk2b8n97enqWP9qqLp2np2d5X4SI1FqmQ4cO8fTTT5OQkEBISAizZ8+msLAQEalyaG115728vCgtLQU4ox4V671gwQI6dOjAokWLKC0txdfXt8Z8r7322vKW1YgRI84ItEqdFbYuhpXzYcA1cMk/oZGHvWsfSRMJDAzk1KlT1V7Pzs4mJCQEf39/du/ezYYNG1xehvPPP58PPvgAgBUrVpCZmXlGmpycHNq2bUu7du04evQoX331FQB9+/YlPT2dhIQEwJqNbrPZmDRpEq+88kp5sCp7tBUVFcXmzZsB+Oijj6otU3Z2Nh07dsTDw4N33323fODBpEmTeOONN8jPzz8tX19fXy655BLuuOMObrnllgZ/T5RqcfaugM9+D9EXwtWvgEfjf6xrIGkiYWFhjB07loEDB3L//fefcX3y5MnYbDYGDx7MI488wujRo11ehkcffZQVK1YwfPhwvvrqKzp16nTG0iRDhgxh2LBhDBgwgFtvvZWxY8cC4OPjw5IlS5g3bx5Dhgxh4sSJFBYWMmfOHLp3787gwYMZMmQIixYtKn+vu+++m3HjxuHp6Vltme68804WLVrE6NGj2bt3b3lrZfLkyUyZMoWYmBiGDh3K008/XX7PzJkzMcYwadIkV3+LlGre0hLhw99AxAC44T3walP7Pe4gIq3+NWLECBERWbNmjZTZuXOntAY5OTn1vrewsFBKSkpERGTdunUyZMgQVxWrQepap6eeekr+/Oc/V3u9OfysK/7utRatrU4trj7H9og8ESXynyEip45WmaShdQISxYnPWO0jOYulpKQwbdo0SktL8fHx4dVXX23qItXZ1VdfzYEDB1i9enVTF0WpxpOTDu9dAx6eMOtjCOjQpMVxayAxxkwGngU8gddE5IlK1xcA4x2H/kAHEQk2xowHFlRI2heYLiKfGmOigTggFPgRmCUixe6sR2vVq1cvtmzZ0tTFaJCyUWdKnTUKsuC9a6EgE2Yvg9AeTV0i9/WRGGM8gReBS4H+wAxjTP+KaUTkXhEZKiJDgeeBjx3n11Q4PwHIB1Y4bvsXsEBEegGZwG/dVQellGpWSgpg8Qw4sc/qE+k8tKlLBLi3s30UsF9EDjpaDHHAVTWknwEsruL8dcBXIpJvrPGfE4CljmtvA1NdWGallGqeSu3w0RxIWQ/X/BfOGV/7PY3EnYGkC5Ba4TjNce4MxphIIBqo6kH3dH4NMGFAloiULcpUbZ5KKdVqiMCyP8LuL2HyEzDw2qYu0Wnc2UdS1YyY6mbATQeWishpqxUaYzoBg4Bv6pqnMWYuMBcgIiKC+Ph4cnNziXcsGdCuXbsa53G0FHa7vVXUoyJX16mwsLD8595UKv7utRburlPb3CSikuLwtOdzNCKW4+3Po9TT1+XvE3DqIB1/Wc3grN1sy7iJzFD3PS7yKsml994XCcrZX6f7jNhpU3yS5O7Xcaiwr9NLnzTW7507A0ka0K3CcVcgvZq004HfV3F+GvCJiJQ4jk8AwcYYL0erpNo8RWQhsBAgJiZGYmNjiY+PL18scNeuXU26RW1WVhaLFi3izjvvrNf9//nPf5g7dy6AbrVbC19fX4YNG+ay/JxWdAr2/w/Sf2ST6c2o2CsavwxuVPH/k0tlpcKaf8C2xeAbBH6hhO5+ln4HX4f+U2HYTOg+pmGzt/NOWGtSbXkfjv4Enj4UeQYy5KfH4ZJ/wLm/c/3s8BP7YPF0yEyGAVPBw7tu93foR+R584isQ7nc9jOqxJ2BJAHo5RhldRgrWNxYOZExpg8QAqyvIo8ZwENlByIixpg1WP0mccBvgM9cX3T3K1tGviGB5KabbjptiZTGZrPZytfUUg7Zh2HvV7B7OSR9B3ZrQOEwrwAY1BO6u35iaauRnwHfPwMbHYuHnjcPxv0RfIMhZQNsfQ92fGp9DYmGoTNhyHQI7lZzvmXsJbBvJWx9H/Z+DaU26DwMLnsaBl7LpnUbGHf8Pfj6ATi2Ay77N3j5uKZu+1fBh7eCpzf85guIHOOafJsJt/WROFoMd2E9ltoFfCAiO4wxjxtjplRIOgOIc0x+KWeMicJq0XxbKesHgD8aY/Zj9Zm87p4auFflZeQBnnrqKUaOHMngwYPLl2vPy8vj8ssvZ8iQIQwcOJAlS5bw3HPPkZ6ezvjx47n88svPyPvxxx9n5MiRDBw4kLlz55avqbV//34uvvhihgwZwvDhwzlw4ABw5vLsALGxsSQmJgJw4sQJoqKiAHjrrbe4/vrrufLKK5k0aRK5ublcdNFF5UvUf/bZr3H9nXfeKZ/hPmvWLE6dOkV0dDQlJVYDMycnh6ioqPLjFkkEjmyH+H/Bfy+ABf1h2Z8g8xCMmguzl8O8HynxDoJ3roJdXzZ1iZufkgL4/j/w3FBY9wIMug7mbYZJfwW/EKtlEDkGrnoR7tsLU1+Bdl1hzd/gP4Os7+v2D6A4v+r8j+6Abx6GZ/pB3AxI3WgtbHjHOpgbD6NuA/9Q7F7+1kiocffBj+9Y+eadua1CnYhYdXr/egjuDnPXtLogAm6eRyIiy4Hllc7Nr3T8WDX3JlFFR7qIHMQaEeY6Xz0Iv/zk0izpOAgufaLay5WXkV+xYgX79u1j06ZNiAhTpkxh7dq1HD9+nM6dO7Ns2TLAWouqXbt2PPPMM6xZs6bKFsldd93F/PnWt3nWrFl8+eWXXHnllcycOZMHH3yQq6++msLCQkpLS6tcnr0269evZ/v27YSGhmKz2fjkk08ICgrixIkTjB49milTprBz507+/ve/88MPPxAeHk5GRgaBgYHExsaybNkypk6dSlxcHNdeey3e3nVs4jc1WzEkfw97vrJe2amAga4j4eLHoM9lEN77tEcjW4b9i7HJz1obDl32FIyc01Sl/1VpKWx8xerA7TzMWqspcgy0aaRHpaV26/HVmn9AzmHoNcn6/kXUsIiqT1sYOsN6ZSbBtjirhfHxbdAmCAZcbbVUwnvBT0uta0e2Wo+R+ky2rvW82GoZVMXDAy56BDr0s9avWjgeZiyy/j/Xla0IvrzXKkO/K60A2Cag7vm0APpcoplYsWIFK1asKH+Wn5uby759+xg3bhz33XcfDzzwAFdccQXjxo2rNa81a9bw5JNPkp+fT0ZGBgMGDCA2NpbDhw9z9dVXA5Svqlvd8uw1mThxYnk6EeH//b//x9q1a/Hw8ODw4cMcPXqU1atXc9111xEeHn5avnPmzOHJJ59k6tSpvPnmmy1rNn3OEVjxsPV4pCgHvPzgnAlw4QPQ+5IaZxeX+ATBbz6HpbdaLZacIzDhz42+Smu5zCT49PdWQAzrBZsWwvoXwMMLuoyA6AusV9dR4O3iDm4R2PsNrHoMju+y3u/q/0J07b/bpwmJgtgH4YL/g+QfYOsiq9/jx7exxuUIdBwMk/8Fg66HtnVYGXrQddZEv7iZ8Pol1nDbflc6f3/uMVhyk9X6ufBB63ekCRZTbCwaSKDGlkNjEREeeughfve7351xbfPmzSxfvpyHHnqISZMmlbc2qlJYWMidd95JYmIi3bp147HHHitf9r26923Isu/vv/8+x48fZ/PmzXh7exMVFVXjMvNjx44lKSmJb7/9FrvdzsCBA6utS7Pz9QPWB+Cg66Hv5dZf8D7+zt/v0xZueB++vAe+expO/QJX/qf6v47dQcT6oP3mYcDAlBesDZBshdaH3sFv4dBa+O7fsPYp8PKFbuc6AsuFVsvFswEfG6kJsOpR64M/9By4/m3of1XDAqqHhxWEosfBZU/Czs8g45DVoV2flkSZLsOtR1FxM62gMP5huOD+2st6ZJs1aTA/A65/y2oltXIaSJpI5WXkL7nkEh555BFmzpxJQEAAhw8fxtvbG5vNRmhoKDfddBMBAQG89dZbp91f+dFW2Yd+eHg4ubm5LF26lOuuu46goCC6du3Kp59+ytSpUykqKsJutzNp0iQef/xxbrzxxtN2Hixb9n3UqFHlW/ZWJTs7mw4dOuDt7c2aNWtITk4G4KKLLuLqq6/m3nvvJSwsrDxfgJtvvpkZM2bwyCOPuPJb6l6pm6wPqNiHrL+C68vTC6Y8D0Fd4NsnIPcoTHvbCjLulnMEvvgD7FsBUeNg6kvWc3sAbz/oEWu9AAqzIXm9FVQOfQur/wr8FXwCIWosdB9Dl7RU+GG7NaDAXuL4WvHflc4VZELKOmjbAS7/Nwz/jeuDaJtAKzC6SmBHaxmSL+6GNX+3+lumvlT9z2vHJ/DJHeAfBr/9plH2S28ONJA0kYrLyF966aU89dRT7Nq1izFjrI64gIAA3nvvPfbv38/999+Ph4cH3t7evPzyywDMnTuXSy+9lA4dOrB27dryfIODg7ntttsYNGgQUVFR5TsYArz77rv87ne/Y/78+Xh7e/Phhx8yefJktm7dSkxMDD4+Plx22WX84x//4L777mPatGm8++67TJgwodp6zJw5kyuvvLJ8efe+ffsCMGDAAB5++GEuvPBCPD09GTZsWHkQnDlzJn/+85+ZMWOGq7+t7iFi/QUfEAFj7mp4fsbA+IesD6llf4S3roAbP4CA9g3Puyoi8PNH1iM1WxFc+iSMvK3mRy2+7aw+hT6TreO8E9YotENrrdfer+kFUHE6hIc3ePpYwcHTp+p/xz5kfQ9bUl+Bt6+1z0dEf1j5KGQchOmLTh8tVloK8f+EtU9aLbgb3mvyhRQblTNLBLf0ly4j37x8+OGHctNNN1V73dV1avDPesenIo8GiSS+We8sql3Oe9cykb92EHl2qMjJA/XOv1q5J0SW3GyVf+EEkeP7XJNvfoZ8t+JzkcJTIiVFIqWlrsm3CTm15Pqeb0T+0VXkyXNEkjdY5wpPiSy+0foef3KnSEmhW8tZF7qMvGqV5s2bx1dffcXy5ctrT9wc2IqtTuH2/WCoCx+ZlOl7mTWvYNE0eH2S1TLpMtw1ee/5Cj7/g/VI6aL5cN7dDevfqMgvBJt3YMtqWbhC70kwZxUsugHevgIuetQaeXZspzWRcfSdTTeAogm13mEEqll6/vnn2b9/P717927qojgn8Q3rUcbEx133IVxZt1Fw6wprFNhbV1iT1xqiMNsakbV4uvV4ZW48jPuT+8p/tmnfB25bbc2uX/GwNRN/5ocw5vdnZRCBszyQSDUjmVTr0aCfcUEWfPsva8RSr4muK1RV2veG366whpwuugG2VrUQthMOfgsvj4Vti6zgcdsa6NiCRsa1FP6hcNPHcMUCa2RXz4ubukRN6qz9E8XX15eTJ08SFhZW5TBV1fKJCCdPniyfM1Nn3y+wHgtN+lvj/KUZ1AluWW4NNf30dtjwIpg6/K1XWmqtGxXW02rhdBtZ+z2q/jy9IObWpi5Fs3DWBpKuXbuSlpbG8ePHm7ooDVJYWFj/D8pmypV18vX1pWvXrnW/MSsFNrwMg29o3CGcvkEwc6m1/MfxPXW/v/cka4mPusxvUaqBztpA4u3tTXR0dFMXo8Hi4+ObZmVbN2oWdVrtaIVM+HPjv7eXj9Uno1QLcVb3kShVpfStsH0JjL7D+ZVllTqLaSBRqiIRWPFna2by+fc2dWmUahE0kChV0b4V1gzuCx+0ZncrpWqlgUSpMnYbrJxvLSYYc0tTl0apFuOs7WxX6gxb3oXju2Hau427Iq9SLZy2SJQCKMq1NljqNrpu+04opdwbSIwxk40xe4wx+40xZ6y9bYxZYIzZ6njtNcZkVbjW3Rizwhizyxiz07H1LsaYt4wxhyrcN9SddVDNXKnd2h89eV3D8ln3POQda7zJh0q1Im57tGWM8QReBCYCaUCCMeZzEdlZlkZE7q2Qfh5QcfLAO8DfRWSlMSYAKK1w7X4RqX6TDNX62W3W0uhrn4KT+6xz0RfChEfqPqM75wise87agEhngytVZ+5skYwC9ovIQREpBuKAq2pIPwNYDGCM6Q94ichKABHJFZF8N5ZVtRR2m7Wl6ouj4JO54NXG2oXukn9amw69fjG8P83apc5Z8f+wNl666FG3FVup1sy4a+FCY8x1wGQRmeM4ngWcKyJn7AxkjIkENgBdRcRujJkKzAGKgWhgFfCg49pbwBigCPif43xRFXnOBeYCREREjIiLiyM3N5eAgNa17PXZUidTaiPi6Boik5fiV/gLpwJ6kBx5AyfCR5WvR+VpK6DL4WV0S/0Yb1sex9qfR1LUjeS3rX5SYdvcZGIS7yGt6+Uc6DmnUevU0rW2OrW2+kDD6zR+/PjNIhJTa0JnNi2pzwu4HnitwvEs4Plq0j5Q8RpwHZAN9MB6/PYR8FvHtU6AAdoAbwPzaytLVRtbtRatvk4lRSIJb4gsGGhtHPTKBSK7l9e8kVJ+psj//iby984ijwWLfDRX5OTBqtO+e63IP7uJ5J10aR0qa/U/p1agtdVHpPE2tnLno600oOKfgl2B9GrSTsfxWKvCvVvEeixmAz4FhgOIyBFHHYuAN7EeoanWxlYECa/Bc8Pgy3ugbXu48UNrb40+l9bcIe4XDBMehru3W3tE7PwUXoix9t3OPvxruoPxsH+ltcihf6ibK6RU6+XOeSQJQC9jTDRwGCtY3Fg5kTGmDxACrK90b4gxpr2IHAcmAImO9J1E5Iix1n6fCvzsxjqoxlZSSJe0ZfDsHXAqHbqOginPwjkX1X00VdswaxTWmLtg7dOw+S1rn4+YW+H8e6ylUNp1h1Fz3VIVpc4WbgskImIzxtwFfAN4Am+IyA5jzONYzaXPHUlnAHGOZlTZvXZjzH3A/xwBYzPwquPy+8aY9liPt7YCt7urDqqRZR+GNybTKzvF2n1u6kvQI7bhw3EDO8LlT8PYP1gbVW1aCAmvQqkNrn0dvFvXMvxKNTa3zmwXkeXA8krn5lc6fqyae1cCg6s4P8GFRVTNha0YPvwNFGSwbfBfGHL13a6fzxHcHa56EcbeawUUezEMuMa176HUWUiXSFHNw4o/Q1oCXP8WmcdD3DspMLwnXPtq7emUUk7RJVJU0/tpKWz6L4z+vTUpUCnVomggUU3r2G74/A/WGlcT/9LUpVFK1YMGEtV0ik7BB7Os/cWvf0tX3FWqhdI+EtU0RODzeXByP9z8OQR1auoSKaXqSVskqmlsfAV2fAIXzYfocU1dGqVUA2ggUY0vZYM1SqvP5TD2nqYujVKqgTSQqMaVeww+nA3tulkTDnXvD6VaPO0jUY3HboOlt0JBJsxZZa2JpZRq8TSQqMaz5m+Q9B1MfRk6Dmrq0iilXEQfbanGsXs5fL8ARsyGoWes3amUasE0kCj3yzgIn9wOnYbC5H81dWmUUi6mgUS5V0kBLLnZ6lSf9o6utKtUK6R9JMp9RGDZn+DozzDzQwiJbOoSKaXcQFskyn1+fAe2vg8X/h/0mtjUpVFKuYkGEuUeJ/bB8vvhnAlw4QNNXRqlqpVTWEL8nmN8k1TCttQsSkul9pvUadz6aMsYMxl4FmuHxNdE5IlK1xcA4x2H/kAHEQl2XOsOvIa177sAl4lIkmPr3jggFPgRmCUixe6sh6qH3V+CvcjaSMrDs6lLo1S5I9kFJCRlkpiUQUJSJrt/yaFsf9bFu3+gY5AvF/fvwKT+HRndIwwfL/17uzZuCyTGGE/gRWAikAYkGGM+F5GdZWlE5N4K6ecBwypk8Q7wdxFZaYwJAEod5/8FLBCROGPMK8BvgZfdVQ9VT8nrIbw3BHVu6pKos1hpqbD/eC4JSRkkJmWSkJRBWmYBAP4+ngzvHsLdF/ViVFQov+zfjrTvzcqdR/lo82He25BCYBsvxvftwKQBEVzYuz2BvrpCdVXc2SIZBewXkYMAxpg44CpgZzXpZwCPOtL2B7wc2+0iIrmO8waYAJRNRHgbeAwNJM1Lqd1aT2ugblKlGk+RzU5aZgEpJ/PZc/QUCYcySEzOJLugBIDwgDaMig7h1rHRjIwKpV+nQLw8f21txKd5EDuiK9eO6EphiZ3v951gxc5f+N+uY3y+LR0fTw/O6xnGxP4RTOwXQYcg949AFBESkzNZvDGFlIx8RkSFMKZHGCOjQmnbpvmMlTIi7nkeaIy5DpgsInMcx7OAc0XkrirSRgIbgK4iYjfGTAXmAMVANLAKeBAIATaISE/Hfd2Ar0RkYBV5zgXmAkRERIyIi4sjNzeXgIAAN9S26TTHOrXNPcTIxHvY1fdejnaMrfP9zbFODaV1ajgRIa8EjhWUcixfOJ7v+Oo4ziwUKn6adWxr6B3iSa9gD3qHeNLB32BqWNutuvqUirA/q5Qfj9r48ZidY/nWu5zTzoPhEZ4Mbe9F54Ca866r3GJhXbqN+LQS0nMFPy/o3NaDpJxS7AIeBqKDPOgX5knfUE96hXjQxvPM92/oz2j8+PGbRSSmtnTuDGlVfVeri1rTgaUiYnccewHjsB51pQBLgNnA587mKSILgYUAMTExEhsbS3x8PLGxsc6Wv0VolnXauAeAfpN/S7/gbnW+vVnWqYG0TnWXkVfMxz+msSUli+SMPJJP5nOq0HZamvCANkSGBXJhpD/dQ61XZJg/PdoHENrWp07vV1N9Jji+igj7juWyYscvrNh5lA/3ZvPh3hK6BPtxYZ9wxvfpwHnnhNWrtVDW+li0MYVlPx2h2FbK0G7B3DO5O1cM7oS/jxcFxXY2J2ey/uAJ1h84yddJ2Xx5sARvT8PQbsGM7hHGmB5hDI8Mwdfbs9F+79wZSNKwOsrLdAXSq0k7Hfh9pXu3VHgs9ikwGngDCDbGeImIrZY8VVNJXmet7luPIKIa17FThfySXUj/TkGnPeZpKqWlwroDJ1mckMKKHb9QYhciw/yJDGvLsG4hVrAIs4JFtxD/Rn+8Y4yhd0QgvSMCuWtCL37JLiR+zzHW7DnGZ1sOs2hjCj6eHpzbI5TYPh2I7dOeHuFta2ytZOUX8/GPh1m8KYV9x3IJbOPFDTHdmDGqO/07B52W1s/Hk/N7hXN+r3AA8opsJCZnsv7ASdYfPMmLa/bz/Or9+Hh6MKx7MB09iuk/opAOge59DOfOn0IC0MsxyuowVrA4Y5ElY0wfrEdW6yvdG2KMaS8ix7H+IEgUETHGrAGuwxq59RvgMzfWQdWViBVIzhlfe1rV6H7JLmTjoZNsOJjBxkMnOXg8D4AgXy8u6N2ei/p14MLeHer813xDHcucx+bSAAAgAElEQVQp5MPNaSxJSCUlI592ft7cNDqS6SO706djYKOWpS46tvNl+qjuTB/VnWJbKYlJGazZc4z4Pcf565c7+euX0D3Un/F92hPbtwNjeoTh6+1ZbevjyesGl7c+nNG2jRcX9m7Phb3bA3CqsISEpAw2HMxg/YGTfH64hP+zu384s9sCiYjYjDF3Ad9gDf99Q0R2GGMexwoKZY+pZgBxUqGzxtFPch/wP0cH+2bgVcflB4A4Y8zfgC3A6+6qg6qHjIOQdwy6j2nqkijgcFYBGw+eZKMjcCSdzAcgsI0XI6NDuSGmGx3b+fL9vhOs2XOcL7cfwRgY1i2YCX07MKFvBP06Bbr0+X8Ze6nw7d5jLN6Uyurdx7CXCqN7hPKnSb25ZEBHfL1b1rBxHy8PzusZznk9w3n4ckjNyCd+73Hidx9jSWIqb69Ppo2XB6N7hJGeVVBr66M+An29mdA3ggl9IwBYvnINXYL9GpxvbdzaLhSR5cDySufmVzp+rJp7VwKDqzh/EGtEmGqOkn+wvkaObdpynIVEhLTMAjYcPMnGQ1bgSM2whroG+XoxKjqMm0ZHcm50GP07B+Hp8WtwuGpoF0pLhZ8OZ7N6t/Wo5ukVe3l6xV46tfMltk8HJvTtwNieYU7/tVydtMx8PkhI5YPENH7JKSQ8oA23jevBDSO7ER3etkF5NyfdQv2ZNTqSWaMjKSyxs/FQBmt2H2PtvuME+3nXufVRH/7ejbNxXPMZP6Zah+T14B8O4b2auiTNRpHNTqmLRkeKCJn5JSSdzCP5ZB6HTuSTfDKPpJPW16x8a6hrsL8350aHcst50ZzbI5S+HU8PHFXx8DAM6RbMkG7B3DuxN8dyConfc5zVu4/x+VbrGb6PlwdjeoRxQe/2pKeVcDwx1emyF9tL+WbHUb7bdxyAC3q157Ep/bmoXwTezaB/xp18vT1PewTV2mggUa6V/ANEjtEtdIGjOYU8v3ofSxJSsdmFoLUrCPb3JtjPm3b+PgT7eVd97O9NOz9vsvJLSDqZT9KJPEfgyCfpZN5pI5eMgS7BfkSFteXyQZ3oHRHIuT1C6d0hEI9aAkdtOgT5Mm1kN6aN7EaRzU7CoUxW7z7G6t1H+euXVjDg5+11yrNTO1/mTejFtJiudA3xb1D5VPOhgUS5Tk46ZCXDubc3dUma1MncIl6OP8C7G5KxlwrXDu9KYeYvBHfoTFZBCVn5JWQVlJByMo+sghKyC0qoqcHi6WHoGuJnjVzqHkxkWFuiHCOZuoX60cbL/X0Jbbx+HS00/8r+HMsp5Nvv1zF69Og65dM52K/WlpFqeTSQKNdJXmd9jTyvacvRRLLzS3j1u4O88cMhCkvsXD2sK/dc3Ituof7Ex2cQG3vGvFnAGvJ6qtBGVkFxeZDJyi8myM+b6LC2dAnxa3aPfjoE+dLe34NuodqqUBpIlCslrwOfwLNuP/a8Ihtv/nCIhWsPklNo44rBnbjn4t707ODcjGIPD0M7f2/a+XsTGebmwirlBhpIlOukrIfu5541q/0Wlth5b0MyL8UfICOvmIv7RfDHib1dMoxTqZZEA4lyjfwMOLYTBl7b1CVxu2JbKUsSU3lh9T6O5hQxrlc4f5zYm2HdQ5q6aEo1CQ0kyjVSNlhfW/H8kcISO19sS+fZ/+0jLbOAmMgQnp0+jNE99HmUOrtpIFGukfwDeLaBLsObuiQuIyLsPZrL2r3HWbvvOBsPZVBsK2VQl3b8bepALuzd3i0zvpVqaZwKJMaYj7AWTPxKREprS6/OQinroWsMeLVp6pI0SGZeMd/tP8Havcf5bt9xjuYUAdCzQwA3nRtZPrtbA4hSv3K2RfIycAvwnDHmQ+AtEdntvmKpFqUoF9K3wvn31p62mSmxl7IlJas8cGw/nI0ItPPz5vye4VzQO5xxvdrTuRHWK1KqpXIqkIjIKmCVMaYd1iKLK40xqVgLKb4nIiVuLKNq7tISQOwtZv5IaamwYucvfPTjYdYfOElukQ1PD2s/h3su6s0FvcMZ3DVYJ84p5SSn+0iMMWHATcAsrFV33wfOx1rKPdYdhVMtRPI6MB7Q7fS1NO2l0qw+jEWE/+06xjMr97LzSA6d2/ly5ZDOXNg7nDHnhNPOT/fjVqo+nO0j+RjoC7wLXCkiRxyXlhhjEt1VONVCpKyHjoOhTSB5RTaWbT/CksRUtqRkcunATtwRew4Du7RrsuKJCGv3neCZlXvZlppFZJg/z0wbwpQhnZvFZk5KtXTOtkheEJHVVV1wZj9f1YrZipC0BI71mcmCj7bzxbZ08ort9GjflhtGduPLbUdY9tMRxvUK587YnozuEdqoHdXrDpxgwcq9JCRl0iXYj39dO4hrhndtdkuOKNWSORtI+hljfhSRLABjTAgwQ0Recl/RVHOXkVfM96uXMcVWyPwtQaz1TOeKwZ24YWQ3RkSGYIzhocv68d6GZN74/hAzXt3A0G7B3Bl7Dhf3i2jw6rQ1SUzK4N8r9rL+4Ek6Bvny16kDuSGmGz5eGkCUcjVnA8ltIvJi2YGIZBpjbgNqDCTGmMnAs1g7JL4mIk9Uur4AKNuT1R/oICLBjmt24CfHtRQRmeI4/xZwIZDtuDZbRLY6WQ/VQPZS4fv9J/ggIZUVO39hDt8wxRsuuXQqT48cQKDv6f0MQb7e3Bnbk1vHRvPh5jQWrj3A3Hc306tDALdfeA5ThnZ2aetgW2oW/165l7V7jxMe0Ib5V/TnxnO7t7jd9pRqSZwNJB7GGFO2Ha4xxhOocVNnR5oXgYlAGpBgjPlcRHaWpRGReyuknwcMq5BFgYgMrSb7+0VkqZNlVy6QlpnPh4lpfJiYSnp2ISH+3swaHcXvjx+D/D5cM666H5XF19uTWaMjmTGyG8t+OsLL8Qf404fbeGblXm4bF80NI7vj51P/D/sd6dksWLmXVbuOEeLvzUOX9mXWmEi37j6nlLI4+7/sG+ADY8wrgAC3A1/Xcs8oYL9ja1yMMXHAVcDOatLPAB51sjzKzY6dKiQxKZOEpAwSkzL5Od1qAJ7fM5z/d3k/JvaPoI0H8K/EOq2v5eXpwVVDuzBlSGfW7DnGS2sO8NgXO3lu9X5uOS+Km8dEAVYHeW6Rjax8a78Oa3n14grHvy65fiK3iC0pWQT5enHfpN7MHhtNQBsNIEo1FiNObAFqjPEAfgdcBBhgBdajKnsN91wHTBaROY7jWcC5InJXFWkjgQ1A17I8jTE2YCtgA54QkU8d598CxgBFwP+AB0WkqIo85wJzASIiIkbExcWRm5tLQIBzS3u3FK6ok4jwS56wN8vOvsxS9mXaOZpv/V74eECPYA/6hXoytosX4X6/PoYKOHWQmM33srPfvRyLiK33++/NtLPsYAnbjtvx8QQfDyHfZiit4VfTxxMCvA1tvQ3+XtA31JNJUd60baQ9qutKf/eav9ZWH2h4ncaPH7/ZmQFVzk5ILMWa3f5yHcpQ1f/o6j4apgNLKwWm7iKSbozpAaw2xvwkIgeAh4BfsB6tLQQeAB6voswLHdeJiYmR2NhY4uPjiY2NrUMVmr/61KnEXsqO9BwSkzLKWxwn84oBCPH3JiaqA6OiQomJCmFA53bVd1BvsBY36D95Dv3bda13HWKxIv6uIzks3pRCStph+p8TSYi/D+0cW9EG+/uUb0sb5Ofd4vo89Hev+Wtt9YHGq5Oz80h6Af8E+gO+ZedFpEcNt6UB3SocdwXSq0k7Hfh9xRMiku74etAYE4/Vf3KgwhyWImPMm8B9ztRBQZHNzqOf7eCzrekUlFgxu3uoPxf2ae8IHKGc076t88NzU9ZBu+7QgCBSUb9OQTx+1UDi408QG9vXJXkqpdzP2QfJb2L1X5SNsrqFqlscFSUAvYwx0cBhrGBxY+VExpg+QAiwvsK5ECBfRIqMMeHAWOBJx7VOInLEWJ92U4GfnazDWS27oIS57ySy8VAG00d2Y1yv9sREhRAR5Fv7zVURsWa0n3ORawuqlGpxnA0kfiLyP8fIrWTgMWPMd9TQOS4iNmPMXVgd9Z7AGyKywxjzOJAoIp87ks4A4uT0zpp+wH+NMaWAB1YfSVkn/fvGmPZYgWwrVse/qkF6VgGz39zEoRN5PDt9KFcN7dLwTE8egLzjEDmm4XkppVo0ZwNJoaPDfZ8jOBwGOtR2k4gsB5ZXOje/0vFjVdy3Dqhy428RmeBkmRWw+5ccZr+RQF6RjbduGcXYnuGuyTj5B+trK97ISinlHGdngt2DNWHwD8AIrMUbf+OuQinXWHfgBNe/vB5B+OD2Ma4LImCtr9W2PYT1dF2eSqkWqdYWiWNi4TQRuR/IxeofUc3c59vSue+DbXQP8+ftW0fRxdX7aST/AN3HgG7wpNRZr9YWiWNI7gijW8K1GK99d5A/LN7C0G7BLL19jOuDSHYaZKW0mP1HlFLu5WwfyRbgM8fuiHllJ0XkY7eUStVLaanwt2W7eOOHQ1w2qCPPTBvqnvkWyY4BdhpIlFI4H0hCgZNAxY5uATSQNBOFJXb+9ME2lv10hNnnRfHIFf3dt6lUyjpoEwQRA92Tv1KqRXF2Zrv2izRj2fkl3PZuIpsOZfDwZf2YMy7avXt+JK+DbueCR8uaXa6Ucg9nZ7a/SRXLm4jIrS4vkaqTkwWlXPfKOpJOunCOSE3yM+D4bhg8zb3vo5RqMZx9tPVlhX/7AldT/XInqpHsOpLDXzcUYseTt28ZxXmuHN5bnZSy/hGdP6KUsjj7aOujisfGmMXAKreUSDnl58PZzHh1A17AB7ePoV+noMZ54+R14NkGOg+rPa1S6qxQ300begHdXVkQ5by9R08x6/WNBPl6c+8Q78YLImAFkq4jwatN472nUqpZc2pmuzHmlDEmp+wFfIG1fLtqZIdO5DHztY14e3rw/pxzT9sfxO2KcuHINl1fSyl1GmcfbQW6uyCqdmmZ+cx8dQP2UmHJ3NFEhbclqVELsAnEbs1oV0opB2dbJFcbY9pVOA42xkx1X7FUZcdyCrnptY3kFtl459ZR9IpogtievA6MJ3Qb1fjvrZRqtpx9LvKoiGSXHYhIFrq/eqPJyCtm5msbOXaqiLduHcXALu1qv8kdktdDp8HQRhuoSqlfORtIqkpX3456VQfZBSXMen0jKRn5vP6bkQzvHtI0BbEVQVqCDvtVSp3B2UCSaIx5xhhzjjGmhzFmAbDZnQVTkFdk45Y3N7H36Cn+O2sEY84Ja7rCpG8Be5H2jyilzuBsIJkHFANLgA+AAirtsV4VY8xkY8weY8x+Y8yDVVxfYIzZ6njtNcZkVbhmr3Dt8wrno40xG40x+4wxS4wxPk7WoUUpLLEz5+1EtqVl8/yM4cT2qXUfMfcq28hKA4lSqhJnR23lAWcEgpo49jF5EZgIpAEJxpjPK2yZi4jcWyH9PKDiLLcCERlaRdb/AhaISJwx5hXgt8DLdSlbc1dsK+WO9zaz4dBJFkwbyuSBHZu6SFb/SPu+0LYJW0VKqWbJ2bW2VgLXOzrZMcaEYO2zfkkNt40C9ovIQcc9ccBVwM5q0s+glg58x54oE4AbHafeBh6jFQUSm72Uu+O2sGbPcf55zSCmDqvj2lkiUJwLBZnVv7z8ILTHr6+24TVvUFVqh9SNMOi6hlVOKdUqOdthHl4WRABEJNMYU9uzli5AaoXjNODcqhIaYyKBaGB1hdO+xphEwAY8ISKfAmFAlojYKuRZ5SetMWYuMBcgIiKC+Ph4cnNziY+Pr6XYTadUhNd+KmZduo0ZfX3olH+Q+PiDVScWO1FJcfTN2k/2jw/iZTuFd0kuXrZcPMq/PWeye/jgUWrDUFp+zubpR4FfpypfxT4hBOQeIqYoh515wRxrhO9fc/851YfWqflrbfWBxquTs4Gk1BjTXURSAIwxUVSxGnAlVf2JW90904Gljt0Yy3QXkXRjTA9gtTHmJyDH2TxFZCGwECAmJkZiY2OJj48nNja2lmI3DRHh4U9/Zl16CvdN6s1dE3rVfMM3D0PyB+S2jSSgQyT49QG/kFpewXh6+4Gt2NrhMOMgZBzEK+MggRkHCMw4CKkbrEmHZbzbgq+1BEv/yb+lf7uubvwuWJrzz6m+tE7NX2urDzRenZwNJA8D3xtjvnUcX4Djr/0apAHdKhx3pfoVg6dTqfNeRNIdXw8aY+Kx+k8+AoKNMV6OVklNebYYIsLfl+1i0cYU7ow9p/YgsnUxrH8BRs0l0f/yuv+iePlAeE/rVZm9BLJTHUHmEJw8YP2758XQCEFEKdXyONvZ/rUxJgYreGwFPsMauVWTBKCXMSYaOIwVLG6snMgY0wcIAdZXOBcC5ItIkTEmHBgLPCkiYoxZA1wHxAG/cZSlRfvq51947ftDzD4vivsv6VNz4rTN8MXdEDUOLvkHfPeDawvj6f1r34lSSjnB2c72OcDdWC2ArcBorA/+CdXdIyI2Y8xdwDeAJ/CGiOwwxjwOJIpI2ZDeGVgd9xUfUfUD/muMKcUaovxEhdFeDwBxxpi/Ye0l/7pzVW2eSuylPPXNHnpHBPDIFf1r3tkw5wjE3QiBHWHaO9aHvlJKNTFnH23dDYwENojIeGNMX+Avtd0kIsuB5ZXOza90/FgV960DBlWT50GsEWGtwtLNaRw6kcerN8fUvMd6SSEsmWmNyJr1CfiHNl4hlVKqBs5OSCwUkUIAY0wbEdkN1PIMRtWmoNjOf1btZURkCBf3q2EQnIj1OOvwZrhmIUT0b7xCKqVULZxtkaQZY4KBT4GVxphMWkEnd1N7e30SR3OKeH7G8Jofaa1/AbbHwfiHoe/ljVY+pZRyhrOd7Vc7/vmYo7O7HfC120p1FsjOL+GlNfuZ0LcDo6JreEy1bxWsnA/9p8IF9zdeAZVSykl1XsFXRL6tPZWqzStrD3CqyFbzKK0T+2DprRAxAKa+VPPsc6WUaiKNuE+rKnM0p5A3fzjEVUM6V7/fekEWLJ5hjcyavgh82jZuIZVSykm6p0gTePZ/+7CXCn+cWE1rpNQOH/0WMg/Bb76A4O6NW0CllKoDbZE0soPHc1mSkMqNo7rTPcy/6kSrHoP9q+CypyDyvEYtn1JK1ZUGkkb275V7aePlUf0yKNuWwLrnYOQciLm1cQunlFL1oIGkEf2Uls2y7UeYc3407QPbnJng8Gb4fJ61/MnkJxq/gEopVQ8aSBrRk9/sJsTfm9suqGIdq1O/QNxMCIyA69/W5U+UUi2GBpJG8sP+E3y37wS/H9+TQN9KQcJWbAWRwhyYvlh3IVRKtSg6aqsRiAhPfr2bLsF+3DQ68swE+1fC4US45jXoOLDxC6iUUg2gLZJG8PXPv7AtLZt7Lu6Fr7fnmQlS1oNnG+g/pfELp5RSDaSBxM1s9lKeWrGHXh0CuGZ4NRtDpWyALsPBq4oOeKWUauY0kLjZ0s1pHDyex/2X9Kl6mfjifEjfCt1HN37hlFLKBTSQuFFhiZ3/rNrH8O7BTOwfUXWi9B+htAS6j2ncwimllIu4NZAYYyYbY/YYY/YbYx6s4voCY8xWx2uvMSar0vUgY8xhY8wLFc7FO/Isu6+GjTya1tvrkvglp5AHJvetfpn45PWAgW6tZq8updRZxm2jtowxnsCLwEQgDUgwxnxeYctcROTeCunnAcMqZfNXoKrVhmeKSKLrS+062QUlvBR/gNg+7Tm3Rw3DeVPWQ4f+4BfSeIVTSikXcmeLZBSwX0QOikgxEAdcVUP6GcDisgNjzAggAljhxjK6zX+/PUB2QQn/d0nf6hOV2iF1k/aPKKVaNHcGki5AaoXjNMe5MxhjIoFoYLXj2AP4N1DdTk5vOh5rPWJq3FqwaRzNKeSNHw5x1dDO9O9czTLxAEd3QPEp7R9RSrVo7pyQWNUHvFSTdjqwVETsjuM7geUiklpFnJgpIoeNMYHAR8As4J0z3tyYucBcgIiICOLj48nNzSU+Pr7uNamjt3cUUWIrZWxQZo3v1yVtGb2A9elQlFG/cjVWnRqT1qllaG11am31gUask4i45QWMAb6pcPwQ8FA1abcA51U4fh9IAZKAE0AO8EQV980GXqitLCNGjBARkTVr1oi7HTyeKz0eWiaPfPpT7Yk/mC3y7/4Ner/GqFNj0zq1DK2tTq2tPiINrxOQKE583ruzRZIA9DLGRAOHsVodN1ZOZIzpA4QA68vOicjMCtdnAzEi8qAxxgsIFpETxhhv4ApglRvrUGevfncQLw/DXRN61pxQxOpojxzbOAVTSik3cVsgERGbMeYu4BvAE3hDRHYYYx7HinKfO5LOAOIc0a82bYBvHEHEEyuIvOqG4tdLXpGNz7Yc5orBnekQ6Ftz4qxkOHVEO9qVUi2eWxdtFJHlwPJK5+ZXOn6sljzeAt5y/DsPGOHKMrrSF9vSySu2c+O5TmyNm7LB+qod7UqpFk5ntrvQok0p9IkIZHj34NoTp6yHNu2sOSRKKdWCaSBxkZ8PZ7M9LZsZo7pVP4u9opQN0P1c8NAfgVKqZdNPMRdZvCmFNl4eXD2smhV+K8rPgOO7tX9EKdUqaCBxgbwiG59tTefywZ1o5+/EFrmpG62v2j+ilGoFNJC4wJfb08ktsjHTmU52cGxk5QOdh7u3YEop1Qg0kLjAok2p9I4IYHh3JxdeTF4PnYeBdy1DhJVSqgXQQNJAO9Kz2ZaaxYxR3Z3rZC8pgPQt2j+ilGo1NJA00K+d7FWuR3mmw7qRlVKqddFA0gD5xTY+3ZLO5YM6Eezv49xNKY6VYLqd676CKaVUI9JA0gBfbjtCbpGNGc52soM1f6R9P/APdV/BlFKqEWkgaYBFm1Lo1SGAmEgnO9l1IyulVCukgaSedqbnsLUunewAx3ZBUbb2jyilWhUNJPUUl5CCj5cH1wx3spMdfu0f0RaJUqoV0UBSDwXFdj758XDdOtnBCiSBnSG4Dn0qSinVzGkgqYcvtqdzqsjGjFF1CAgi1kTE7qOh+W0zr5RS9aaBpB4Wb0qhZ4cARkY52ckOkJ0Kp9K1f0Qp1eq4NZAYYyYbY/YYY/YbYx6s4voCY8xWx2uvMSar0vUgY8xhY8wLFc6NMMb85MjzOeN0T7dr7DqSw5aUOnayQ4WNrLR/RCnVurgtkBhjPIEXgUuB/sAMY8xpuziJyL0iMlREhgLPAx9XyuavwLeVzr0MzAV6OV6T3VD8asVtcnSyOzuTvUzKemgTBBED3FMwpZRqIu5skYwC9ovIQREpBuKAq2pIPwNYXHZgjBkBRAArKpzrBASJyHrHHu/vAFPdUfiqFBTb+XjLYS4b2JGQtnXoZAerRdJtFHh4uqdwSinVRNwZSLoAqRWO0xznzmCMiQSigdWOYw/g38D9VeSZ5kye7rDspyOcKqxjJztYG1kd26mPtZRSrZKXG/OuqgNBqkk7HVgqInbH8Z3AchFJrdQP4XSexpi5WI/AiIiIID4+ntzcXOLj450pe5Ve2VBAp7aG/OTtxKc43z8SdiKBQcCWDD+yG/D+VWlonZojrVPL0Nrq1NrqA41YJxFxywsYA3xT4fgh4KFq0m4Bzqtw/D6QAiQBJ4Ac4AmgE7C7QroZwH9rK8uIESNERGTNmjVSX7uOZEvkA1/Kq2sP1P3mFfNF/hImUpRX7/evTkPq1FxpnVqG1lan1lYfkYbXCUgUJz7v3dkiSQB6GWOigcNYrY4bKycyxvQBQoD1ZedEZGaF67OBGBF50HF8yhgzGtgI3IzVSe92cZtS8fH04NrhTuzJXlnKBug8FHz8XV8wpZRqYm7rIxERG3AX8A2wC/hARHYYYx43xkypkHQGEOeIfs64A3gN2A8cAL5yYbGrVFBs5+Mf07h0UD062UsKIf1H7R9RSrVa7myRICLLgeWVzs2vdPxYLXm8BbxV4TgRGOiqMjpj+U9HyKlPJztYuyHai3UiolKq1dKZ7U5YvCmFHuFtOTe6HnuIlG9kpS0SpVTrpIGkFnuPniIxObPuM9nLpGyA8D7QNsz1hVNKqWZAA0ktFm1MsTrZR9Sjk720FFI3aP+IUqpV00BSg8ISq5N98sCOhNa1kx3g+C4o1I2slFKtmwaSGjSokx10Iyul1FlBA0kN4hJSiQ5vy+ge9ehkB6t/JKAjhES5tFxKKdWcuHX4b0v3nxuGciS7oH6d7GAFEt3ISinVymmLpAadg/0YEVnP1khWqrWZlfaPKKVaOQ0k7pK60fqq/SNKqVZOA4m7JK8Dn0CIaNRJ+Eop1eg0kLhLygboNhI8tRtKKdW6aSBxh4JMx0ZW2j+ilGr9NJC4Q2oCINo/opQ6K2ggcYeU9eDhBV1GNHVJlFLK7TSQuEPKBug0BHzaNnVJlFLK7TSQuJqtCA5v1v4RpdRZw62BxBgz2Rizxxiz3xjzYBXXFxhjtjpee40xWY7zkcaYzY7zO4wxt1e4J96RZ9l9HdxZhzpL3wL2Iu0fUUqdNdw2NtUY4wm8CEwE0oAEY8znIrKzLI2I3Fsh/TxgmOPwCHCeiBQZYwKAnx33pjuuz3TslNi8FGRC/BOA0Y2slFJnDXe2SEYB+0XkoIgUA3HAVTWknwEsBhCRYhEpcpxv4+ZyusaRbfDfCyHpe7hiAQS0b+oSKaVUo3DnB3QXILXCcZrj3BmMMZFANLC6wrluxpjtjjz+VaE1AvCm47HWI6beKyq60Jb34PVJUGqDW76CmFuaukRKKdVojIi4J2NjrgcuEZE5juNZwCgRmVdF2geArtVc6wx8ClwpIkeNMV1E5LAxJhD4CHhPRN6p4r65wFyAiIiIEXFxceTm5hIQEOCyOnrYi+m5/1U6H1lBZvBgdva/jxKfdi7L3xmurlNzoHVqGVpbnVpbfaDhdRo/fvxmEYmpNaGIuOUFjAG+qXD8EPBQNWm3YPWJVJfXm8B1VZyfDbxQW1lGjBghIiJr1qwRl8lIEnnlApFHg0RW/UXEbnNd3nXg0jo1E1qnlqG11am11alfRt0AAApQSURBVEek4XUCEsWJz3t3PtpKAHoZY6KNMT7AdODzyomMMX2AEGB9hXNdjTF+jn+HAGOBPcYYL2NMuOO8N3AF8PP/b+/eg62syjiOf38cBOQgImBOiYmmlpdUtCFvIWpj3kZsdAxGU9JqmjJFy5SxccxmHDXSajQdQUMbBm8BopGKeKFSUFEHEEWJg4qXpFHxNl6Qpz/W2rHb7u25bA77vOf8PjN7eN+11/vu9bA2++G9rdWJMVT3/H1w3cHwRguMnQ6HXQi9mjZ5M8zMuoJOu2srItZJOgO4B2gCboiIpyVdTMpypaQyDrg5Z7+SXYHfSgpAwKSIWCKpGbgnJ5Em4D5gcmfF8Cnr18P8y9OdWdvsDifeBEO+tMk+3sysK+rUoWkjYg4wp6Lswor1i6psNxfYs0r5e0Bjxh15/w2Y8QNYcR/sNQ6OvgL69G9IU8zMuhKPcd4WrzwJt5wC776Wbu3d93uePtfMLHMiac2iG2HOudC8NZx2twdiNDOr4ERSSwTcNQEWTYUdD4Hjr4fmIY1ulZlZl+NEUosEQ3aCUefC6Im+K8vMrAYnks9ywKeejzQzswpdfwwrMzPr0pxIzMysLk4kZmZWFycSMzOrixOJmZnVxYnEzMzq4kRiZmZ1cSIxM7O6dNoMiV2JpDXAC8BQ4D8Nbs7G5piKwTF1fd0tHqg/pu0jYuvWKvWIRFIi6fFoy7SRBeKYisExdX3dLR7YdDH51JaZmdXFicTMzOrS0xLJdY1uQCdwTMXgmLq+7hYPbKKYetQ1EjMz2/h62hGJmZltZD0ikUg6QtJySSsknd/o9nSEpO0kPSDpGUlPSzorlw+WNFfS8/nPrRrd1vaS1CTpSUl35fUdJC3MMd0iqU+j29gekgZJul3Ss7m/9i96P0k6O3/vlkqaLqlf0fpJ0g2SXpe0tKysar8o+UP+zVgsaZ/Gtby2GjH9Jn/3FkuaKWlQ2XsTc0zLJX1rY7Wj2ycSSU3A1cCRwG7AOEm7NbZVHbIO+FlE7ArsB/wkx3E+MC8idgbm5fWiOQt4pmz9MuDKHNObwOkNaVXH/R64OyK+AuxFiq2w/SRpW+BM4GsRsQfQBIyleP00FTiioqxWvxwJ7JxfPwSu2URtbK+pfDqmucAeEbEn8BwwESD/XowFds/b/DH/Ptat2ycSYCSwIiJWRsRHwM3AmAa3qd0i4tWIeCIvv0P6cdqWFMuNudqNwHGNaWHHSBoGHA1MyesCDgVuz1UKFZOkgcAo4HqAiPgoIt6i4P1Emk11c0m9gf7AqxSsnyJiPvBGRXGtfhkD3BTJAmCQpM9vmpa2XbWYIuLeiFiXVxcAw/LyGODmiPgwIlqAFaTfx7r1hESyLfBS2frqXFZYkoYDI4CFwDYR8SqkZAN8rnEt65DfAb8A1uf1IcBbZf8QitZfOwJrgD/l03VTJDVT4H6KiJeBScCLpASyFlhEsfuppFa/dJffjdOAv+XlToupJyQSVSkr7K1qkgYAfwEmRMTbjW5PPSQdA7weEYvKi6tULVJ/9Qb2Aa6JiBHAexToNFY1+brBGGAH4AtAM+nUT6Ui9VNriv49RNIFpFPi00pFVaptlJh6QiJZDWxXtj4MeKVBbamLpM1ISWRaRMzIxf8uHXLnP19vVPs64EDgWEmrSKccDyUdoQzKp1CgeP21GlgdEQvz+u2kxFLkfvom0BIRayLiY2AGcADF7qeSWv1S6N8NSacCxwAnxYZnPDotpp6QSB4Dds53mPQhXWya3eA2tVu+dnA98ExEXFH21mzg1Lx8KnDHpm5bR0XExIgYFhHDSf1yf0ScBDwAnJCrFS2m14CXJH05Fx0GLKPA/UQ6pbWfpP75e1iKqbD9VKZWv8wGTsl3b+0HrC2dAuvqJB0BnAccGxHvl701Gxgrqa+kHUg3Ejy6UT40Irr9CziKdPfCv4ALGt2eDsZwEOkwdDHwVH4dRbqmMA94Pv85uNFt7WB8o4G78vKO+Qu+ArgN6Nvo9rUzlr2Bx3NfzQK2Kno/Ab8CngWWAn8G+hatn4DppGs8H5P+d356rX4hnQa6Ov9mLCHdsdbwGNoY0wrStZDS78S1ZfUvyDEtB47cWO3wk+1mZlaXnnBqy8zMOpETiZmZ1cWJxMzM6uJEYmZmdXEiMTOzujiRmGWSHpTU6fNbSzozjwo8rfXare5rSmuDkEqaKumEKuWjSyMum9Wjd+tVzKw1knrHhnGnWvNj0j38LfV+bkR8v959dJSkpoj4pFGfb12Hj0isUCQNz/+bn5znx7hX0ub5vf8dUUgamodeQdJ4SbMk3SmpRdIZks7JgyoukDS47CNOlvRwnndjZN6+Oc/78FjeZkzZfm+TdCdwb5W2npP3s1TShFx2LelBvtmSzq6oP17SDEl35/kxLi9773BJj0h6In/mgCoxny7puVw2WdJVZbsfleNaWXF0MjDPWbFM0rWSeuV9jZO0JLf9srJ2vCvpYkkLgf0lXZq3XSxpUnv60rqRRj+Z6Zdf7XkBw0kD0e2d128FTs7LD5KfQAaGAqvy8njS075bAFuTRq/9UX7vStIAmKXtJ+flUcDSvHxJ2WcMIo2S0Jz3u5oqT6kD+5KeiG4GBgBPAyPye6uAoVW2GQ+sBLYE+gEvkMZGGgrMB5pzvfOAC8tjJg2muAoYDGwG/B24KteZSnryvBdpTp4VuXw08AEpsTWR5rE4Ie/rxfx31Ru4HzgubxPAiXl5MOkJ6dKDzYMa/f3wqzEvn9qyImqJiKfy8iJScmnNA5HmcXlH0lrgzly+BNizrN50SPM8SBqoNLvc4aTBJX+e6/QDvpiX50ZE5RwXkIa0mRkR7wFImgF8A3iylXbOi4i1eZtlwPak5LUb8M801BV9gEcqthsJPFRqi6TbgF3K3p8VEeuBZZK2KSt/NCJW5m2m53Z/DDwYEWty+TRSYp0FfEIaOBTgbVIimiLpr4Cvt/RQTiRWRB+WLX8CbJ6X17HhdG2/z9hmfdn6ev7/30HlmEFBGnfp+IhYXv6GpK+ThomvptqQ3W1RGVvvvK+5ETHuM7Zr7fPK91tet1a8tXwQ+bpIRKzLp/8OIw26eQZpBGfrYXyNxLqTVaRTSrBhVNr2+g6ApINII76uBe4BfppHvkXSiDbsZz5wXB4xtxn4Nul0U0csAA6UtFP+/P6Sdqmo8yhwsKStlIZ2P76N+x6ZR8buRYr9H6QJ0w7O15magHHAQ5Ub5us0W0bEHGACabBK64F8RGLdySTgVknfJZ3X74g3JT0MDCTNLgfwa9I8KYtzMllFmuuhpoh4QtJUNgzTPSUiWjutVWtfaySNB6ZL6puLf0m6VlOq87KkS0hJ4BXSMO9r27D7R4BLga+Skt/MiFgvaSJpmHgBcyKi2hDxWwB3SOqX651dpY71AB7916ybkDQgIt7NRyQzgRsiYmaj22Xdn09tmXUfF0l6ijRnSAvp4rhZp/MRiZmZ1cVHJGZmVhcnEjMzq4sTiZmZ1cWJxMzM6uJEYmZmdXEiMTOzuvwX7bNx6XAqzPkAAAAASUVORK5CYII=\n",
      "text/plain": [
       "<Figure size 432x288 with 1 Axes>"
      ]
     },
     "metadata": {},
     "output_type": "display_data"
    }
   ],
   "source": [
    "# best performance\n",
    "knn_(w='distance')"
   ]
  },
  {
   "cell_type": "code",
   "execution_count": 71,
   "metadata": {},
   "outputs": [
    {
     "name": "stdout",
     "output_type": "stream",
     "text": [
      "Distance: Manhattan\n",
      "Best accuracy from 10-fold cv: 0.7607\n",
      "Best number of neighbors: 100\n",
      "Test accuracy: 0.7697\n",
      "Number of hyperparameter d tested: 24\n"
     ]
    },
    {
     "data": {
      "image/png": "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\n",
      "text/plain": [
       "<Figure size 432x288 with 1 Axes>"
      ]
     },
     "metadata": {},
     "output_type": "display_data"
    }
   ],
   "source": [
    "knn_(dist='Manhattan')"
   ]
  },
  {
   "cell_type": "code",
   "execution_count": 72,
   "metadata": {
    "scrolled": true
   },
   "outputs": [
    {
     "name": "stdout",
     "output_type": "stream",
     "text": [
      "Distance: Manhattan\n",
      "Best accuracy from 10-fold cv: 0.7606\n",
      "Best number of neighbors: 100\n",
      "Test accuracy: 0.7698\n",
      "Number of hyperparameter d tested: 24\n"
     ]
    },
    {
     "data": {
      "image/png": "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\n",
      "text/plain": [
       "<Figure size 432x288 with 1 Axes>"
      ]
     },
     "metadata": {},
     "output_type": "display_data"
    }
   ],
   "source": [
    "knn_(dist='Manhattan', w='distance')"
   ]
  },
  {
   "cell_type": "markdown",
   "metadata": {},
   "source": [
    "#### Write-up\n",
    "\n",
    "Optimal parameters: using K = 100 and 1) Euclidean distance with uniform weights, 2) Euclidean distance with more weights on closer neighbors, and 2) Manhattan distances with more weights on closer neighbors, the best test accuracy is approximately 76.98%.\n",
    "\n",
    "The total number of hyperparameter combinations tested is $24\\times 4 = 96$."
   ]
  },
  {
   "cell_type": "markdown",
   "metadata": {},
   "source": [
    "### (c) Support Vector Machine (SVM): find the optimal hyperparameters for the polynomial degree, kernel bandwidth (i.e., gamma), and regularization parameter (i.e., C) when training a kernel SVM with a polynomial kernel. You must evaluate all possible combinations of at least 2 degree values (for the polynomial degree), at least 4 gamma values, and at least 4 C values. Report the optimal hyperparameters found and how many hyperparameter combinations you tested in total. (Code and Write-up)"
   ]
  },
  {
   "cell_type": "markdown",
   "metadata": {},
   "source": [
    "Polynomial kernel SVM doesn't scale well on this dataset ($>80k$ samples with fit time complexity $O(n_{samples}^2\\times n_{features})$) for polynomial kernels. For efficiency, I sampled $1000$ observations from the split X and Y subsets to test performance and skipped plotting for SVM.\n",
    "\n",
    "http://scikit-learn.org/stable/modules/svm.html#complexity\n",
    "\n",
    "https://datascience.stackexchange.com/questions/989/svm-using-scikit-learn-runs-endlessly-and-never-completes-execution"
   ]
  },
  {
   "cell_type": "code",
   "execution_count": 4,
   "metadata": {},
   "outputs": [],
   "source": [
    "%store -r X_train_scaled\n",
    "%store -r X_test_scaled\n",
    "%store -r Y_train\n",
    "%store -r Y_test"
   ]
  },
  {
   "cell_type": "code",
   "execution_count": 5,
   "metadata": {},
   "outputs": [
    {
     "name": "stdout",
     "output_type": "stream",
     "text": [
      "resampled train size: (800, 3), test size: (200, 3)\n"
     ]
    }
   ],
   "source": [
    "idx_train = np.random.choice(range(len(X_train_scaled)), size=int(0.8*1000), replace=False)\n",
    "X_train_scaled_small = X_train_scaled[idx_train]\n",
    "Y_train_small = Y_train[idx_train]\n",
    "           \n",
    "idx_test = np.random.choice(range(len(X_test_scaled)), size=int(0.2*1000), replace=False)\n",
    "X_test_scaled_small = X_test_scaled[idx_test]\n",
    "Y_test_small = Y_test[idx_test]\n",
    "                             \n",
    "print(\"resampled train size: {}, test size: {}\".format(X_train_scaled_small.shape, X_test_scaled_small.shape))"
   ]
  },
  {
   "cell_type": "code",
   "execution_count": 6,
   "metadata": {},
   "outputs": [],
   "source": [
    "def svm(degree, kernel, gamma): \n",
    "    \n",
    "    skf = StratifiedKFold(n_splits=10, shuffle=True, random_state=3)\n",
    "    train_scores, test_scores = [], []\n",
    "    best_score, best_c = -1, -1\n",
    "\n",
    "    c_list = [1e-4, 1e-1, 1, 10, 100]\n",
    "    \n",
    "    for c in c_list:\n",
    "        \n",
    "        svm = SVC(C=c, degree=degree, kernel=kernel, gamma=gamma)\n",
    "        cv_accuracy = np.mean(cross_val_score(svm, X_train_scaled_small, Y_train_small, cv=skf))\n",
    "        train_scores.append(cv_accuracy)\n",
    "        \n",
    "        if cv_accuracy > best_score:\n",
    "            best_score = cv_accuracy\n",
    "            best_c = c\n",
    "        \n",
    "        svm.fit(X_train_scaled, Y_train)\n",
    "        test_scores.append(svm.score(X_test_scaled_small, Y_test_small))\n",
    "    \n",
    "    # score the best model\n",
    "    model = SVC(C=best_c, degree=degree, kernel=kernel, gamma=gamma)\n",
    "    model.fit(X_train_scaled_small, Y_train_small)\n",
    "    best_test_score = model.score(X_test_scaled_small, Y_test_small)\n",
    "    \n",
    "    print(\"Degree = {}, bandwith (gamma) = {}\".format(degree, gamma))\n",
    "    print(\"Best accuracy from 10-fold cv: {:0.4f}\".format(best_score))\n",
    "    print(\"Best C:\", best_c)\n",
    "    print(\"Test accuracy: {:.4f}\".format(best_test_score))\n",
    "    print(\"Number of hyperparameters tested:\", len(c_list), \"\\n\")"
   ]
  },
  {
   "cell_type": "code",
   "execution_count": 19,
   "metadata": {
    "scrolled": false
   },
   "outputs": [
    {
     "name": "stdout",
     "output_type": "stream",
     "text": [
      "Degree = 2, bandwith (gamma) = auto\n",
      "Best accuracy from 10-fold cv: 0.6726\n",
      "Best C: 100\n",
      "Test accuracy: 0.6950\n",
      "Number of hyperparameters tested: 5 \n",
      "\n",
      "Degree = 2, bandwith (gamma) = 0.002\n",
      "Best accuracy from 10-fold cv: 0.5438\n",
      "Best C: 0.0001\n",
      "Test accuracy: 0.5500\n",
      "Number of hyperparameters tested: 5 \n",
      "\n",
      "Degree = 2, bandwith (gamma) = 0.005\n",
      "Best accuracy from 10-fold cv: 0.6249\n",
      "Best C: 100\n",
      "Test accuracy: 0.6400\n",
      "Number of hyperparameters tested: 5 \n",
      "\n",
      "Degree = 2, bandwith (gamma) = 0.01\n",
      "Best accuracy from 10-fold cv: 0.6550\n",
      "Best C: 100\n",
      "Test accuracy: 0.6700\n",
      "Number of hyperparameters tested: 5 \n",
      "\n"
     ]
    }
   ],
   "source": [
    "for gamma in ['auto', 1/500, 1/200, 1/100]:\n",
    "    svm(2, 'poly', gamma)    # gamma=1/2 for 'auto'\n",
    "# started: 11:17 AM"
   ]
  },
  {
   "cell_type": "code",
   "execution_count": 18,
   "metadata": {
    "scrolled": false
   },
   "outputs": [
    {
     "name": "stdout",
     "output_type": "stream",
     "text": [
      "start: 2018-09-25 08:47:11.368667\n",
      "Degree = 3, bandwith (gamma) = auto\n",
      "Best accuracy from 10-fold cv: 0.5973\n",
      "Best C: 10\n",
      "Test accuracy: 0.5900\n",
      "Number of hyperparameters tested: 5 \n",
      "\n",
      "Degree = 3, bandwith (gamma) = 0.002\n",
      "Best accuracy from 10-fold cv: 0.5438\n",
      "Best C: 0.0001\n",
      "Test accuracy: 0.5500\n",
      "Number of hyperparameters tested: 5 \n",
      "\n",
      "Degree = 3, bandwith (gamma) = 0.005\n",
      "Best accuracy from 10-fold cv: 0.5438\n",
      "Best C: 0.0001\n",
      "Test accuracy: 0.5500\n",
      "Number of hyperparameters tested: 5 \n",
      "\n",
      "Degree = 3, bandwith (gamma) = 0.01\n",
      "Best accuracy from 10-fold cv: 0.5438\n",
      "Best C: 0.0001\n",
      "Test accuracy: 0.5500\n",
      "Number of hyperparameters tested: 5 \n",
      "\n",
      "Finish: 2018-09-25 11:00:01.301780 SVM gamma =\n"
     ]
    }
   ],
   "source": [
    "import datetime\n",
    "print(\"start:\", datetime.datetime.now())\n",
    "for gamma in ['auto', 1/500, 1/200, 1/100]:\n",
    "    svm(3, 'poly', gamma)    # gamma=1/2 for 'auto'\n",
    "print(\"Finish: {} SVM gamma =\".format(datetime.datetime.now()))"
   ]
  },
  {
   "cell_type": "markdown",
   "metadata": {},
   "source": [
    "#### Write-up: \n",
    "\n",
    "Total number of hyperparameters tested: $5\\times 4\\times 2 = 40$ combinations.\n",
    "\n",
    "The optimal parameters are polynomial degree = $2$, C = $100$ and gamma = $\\frac{1}{2}$ ('auto' = $\\frac{1}{n\\_features}$). The SVM classifier achieved a test accuracy of $69.5\\%$. "
   ]
  },
  {
   "cell_type": "markdown",
   "metadata": {},
   "source": [
    "## 3. Comparative Analysis of Optimized Classification Models \n",
    "### (a) Retrain each of the three models (i.e., Decision tree, K-NN, and SVM) on all the training data using the optimal hyperparameters found in part 2. (Code)\n",
    "### (b) Train a Gaussian Naive Bayes model on the the training data. (Code)"
   ]
  },
  {
   "cell_type": "code",
   "execution_count": 8,
   "metadata": {},
   "outputs": [],
   "source": [
    "def q3(model):\n",
    "\n",
    "    m = None\n",
    "    if model=='dt':\n",
    "        m = DecisionTreeClassifier(max_depth=10)\n",
    "    elif model == 'knn':\n",
    "        m = KNeighborsClassifier(n_neighbors=100)\n",
    "    elif model == 'svm':\n",
    "        m = SVC(C=100,degree=2,kernel='poly',gamma='auto')\n",
    "    elif model == 'nb':\n",
    "        m = GaussianNB()\n",
    "    else:\n",
    "        raise ValueError\n",
    "        \n",
    "    m.fit(X_train_scaled, Y_train)\n",
    "    Y_pred = m.predict(X_test_scaled)\n",
    "    \n",
    "    # evaluate results\n",
    "    accuracy = accuracy_score(Y_test, Y_pred, normalize=True)\n",
    "    precision = precision_score(Y_test, Y_pred, average='binary')\n",
    "    recall = recall_score(Y_test, Y_pred, average='binary')\n",
    "    cm = confusion_matrix(Y_test, Y_pred)\n",
    "\n",
    "    print(\"Model:\", model)\n",
    "    print(\"Accuracy:\", accuracy)\n",
    "    print(\"Precision: {:.4f}\\nRecall: {:.4f}\".format(precision, recall))\n",
    "    print(\"\\nConfusion matrix: [[TN, FP],[FN, TP]]\")\n",
    "    print(cm)\n",
    "    \n",
    "    # plot confusion matrix\n",
    "    sns.set(font_scale=1)\n",
    "    sns.heatmap(cm, annot=True, annot_kws={'size':16}, square=True)"
   ]
  },
  {
   "cell_type": "markdown",
   "metadata": {},
   "source": [
    "### (c) Report the predictive performance on the test dataset for each of the four models from parts (a) and (b) with respect to each of the following evaluation metrics: accuracy, precision, and recall.\n",
    "### (d) Also visualize the predictive performance of the each of the four models from parts (a) and (b) by showing the resulting confusion matrix for each model. (Code and Write-up)"
   ]
  },
  {
   "cell_type": "code",
   "execution_count": 12,
   "metadata": {
    "scrolled": false
   },
   "outputs": [
    {
     "name": "stdout",
     "output_type": "stream",
     "text": [
      "Model: dt\n",
      "Accuracy: 0.7718819737168361\n",
      "Precision: 0.7244\n",
      "Recall: 0.7366\n",
      "\n",
      "Confusion matrix: [[TN, FP],[FN, TP]]\n",
      "[[7466 1897]\n",
      " [1783 4986]]\n"
     ]
    },
    {
     "data": {
      "image/png": "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\n",
      "text/plain": [
       "<Figure size 432x288 with 2 Axes>"
      ]
     },
     "metadata": {},
     "output_type": "display_data"
    }
   ],
   "source": [
    "q3('dt')"
   ]
  },
  {
   "cell_type": "code",
   "execution_count": 13,
   "metadata": {
    "scrolled": false
   },
   "outputs": [
    {
     "name": "stdout",
     "output_type": "stream",
     "text": [
      "Model: knn\n",
      "Accuracy: 0.7697743615174808\n",
      "Precision: 0.7407\n",
      "Recall: 0.6945\n",
      "\n",
      "Confusion matrix: [[TN, FP],[FN, TP]]\n",
      "[[7717 1646]\n",
      " [2068 4701]]\n"
     ]
    },
    {
     "data": {
      "image/png": "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\n",
      "text/plain": [
       "<Figure size 432x288 with 2 Axes>"
      ]
     },
     "metadata": {},
     "output_type": "display_data"
    }
   ],
   "source": [
    "q3('knn')"
   ]
  },
  {
   "cell_type": "code",
   "execution_count": 14,
   "metadata": {},
   "outputs": [
    {
     "name": "stdout",
     "output_type": "stream",
     "text": [
      "Model: nb\n",
      "Accuracy: 0.7265063228365981\n",
      "Precision: 0.6173\n",
      "Recall: 0.9165\n",
      "\n",
      "Confusion matrix: [[TN, FP],[FN, TP]]\n",
      "[[5516 3847]\n",
      " [ 565 6204]]\n"
     ]
    },
    {
     "data": {
      "image/png": "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\n",
      "text/plain": [
       "<Figure size 432x288 with 2 Axes>"
      ]
     },
     "metadata": {},
     "output_type": "display_data"
    }
   ],
   "source": [
    "q3('nb')"
   ]
  },
  {
   "cell_type": "code",
   "execution_count": 9,
   "metadata": {},
   "outputs": [
    {
     "name": "stdout",
     "output_type": "stream",
     "text": [
      "Model: svm\n",
      "Accuracy: 0.7093974708653608\n",
      "Precision: 0.6078\n",
      "Recall: 0.8667\n",
      "\n",
      "Confusion matrix: [[TN, FP],[FN, TP]]\n",
      "[[5577 3786]\n",
      " [ 902 5867]]\n"
     ]
    },
    {
     "data": {
      "image/png": "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\n",
      "text/plain": [
       "<Figure size 432x288 with 2 Axes>"
      ]
     },
     "metadata": {},
     "output_type": "display_data"
    }
   ],
   "source": [
    "q3('svm')"
   ]
  },
  {
   "cell_type": "markdown",
   "metadata": {},
   "source": [
    "### (e) Write a discussion analyzing and comparing the performance of the four models from parts (a) and (b). For example, which method(s) perform the best and why do you think so? Which method(s) perform the worst and why do you think so? What do the different performance metrics tell you about the results? Your discussion should consist of two to three paragraphs. (Write-up)."
   ]
  },
  {
   "cell_type": "markdown",
   "metadata": {},
   "source": [
    "All the classifiers have similar accuracy scores on this dataset. Among them, the decision tree classifier achieved the highest accuracy of approximately $77.19\\%$. Features used in this task (animal type, age and sex) are probably not very predictive of adoption, since there are many other behavioral and health information that could have much greater influence on whether an animal will be adopted or not.\n",
    "\n",
    "If we look at the specific errors made by each classifier, the recall and precision of the decision tree and KNN classifiers indicate the trade-off between these two metrics: compared to the scores for the KNN classifier, the decision tree achieved a higher recall but a lower precision. Using F1 score chould help to quantify a more balanced performance. \n",
    "\n",
    "The SVM classifier is trained and tested on a small subset of the original training and testing data, and the performance may not be an accurate reflection of its actual performance on the entire dataset. Its accuracy and precision are the lowest among all classifiers, but it achieved a relatively high recall score of $0.8668$.\n",
    "\n",
    "The naive bayes classifier is the only generative model here. It has the worst performance in terms of accuracy ($0.7265$) and precision ($0.6173$); but the recall is the highest ($0.9165$).\n",
    "\n",
    "##### Conclusion\n",
    "\n",
    "Fraction of 'adoption' == true can be calculated as: $\\frac{34231}{80660}\\approx42\\%$. Over half of the cases in this dataset the animal is not adopted. If we have a classifier that always predict 'False\" for 'adoption,' its accuracy would be $1-42\\% = 58\\%$. All the other models tested so far outperform this baseline.\n",
    "\n",
    "Which model is the best/worst depends on what question we're asking. In the case of this dataset, recall and precision are defined as:\n",
    "\n",
    "$recall = \\frac{adoptions\\;correctly\\;predicted}{adoptions\\;correctly\\;predicted\\;+\\;adoptions\\;incorrectly\\;predicted\\;as\\;not\\;adopted}$\n",
    "\n",
    "$precision = \\frac{adoptions\\;correctly\\;predicted}{adoptions\\;correctly\\;predicted\\;+\\;adoptions\\;incorrectly\\;predicted}$\n",
    "\n",
    "A model with high recall (i.e. naive Bayes) is able to find all relevant examples in the dataset. A model with high precision (i.e. KNN) maximizes the proportion of examples that are actually adopted."
   ]
  },
  {
   "cell_type": "markdown",
   "metadata": {},
   "source": [
    "##### Summary of performances\n",
    "| Model | Accuracy | Precision | Recall |\n",
    "|------|------     |------|------|\n",
    "|decision tree|0.7719|0.7244|0.7366| \n",
    "|KNN | 0.7698|0.7407|0.6945| \n",
    "|naive Bayes|0.7265|0.6173|0.9165|\n",
    "|svm | 0.7094|0.6078|0.8667|\n"
   ]
  }
 ],
 "metadata": {
  "kernelspec": {
   "display_name": "Python 3",
   "language": "python",
   "name": "python3"
  },
  "language_info": {
   "codemirror_mode": {
    "name": "ipython",
    "version": 3
   },
   "file_extension": ".py",
   "mimetype": "text/x-python",
   "name": "python",
   "nbconvert_exporter": "python",
   "pygments_lexer": "ipython3",
   "version": "3.6.5"
  }
 },
 "nbformat": 4,
 "nbformat_minor": 2
}
