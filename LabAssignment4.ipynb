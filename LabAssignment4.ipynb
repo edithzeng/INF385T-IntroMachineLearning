{
 "cells": [
  {
   "cell_type": "markdown",
   "metadata": {},
   "source": [
    "## 1. Classification Using Hand-Crafted Features\n",
    "### (a) You must use the VizWiz dataset with its pre-defined train/validation/test split."
   ]
  },
  {
   "cell_type": "code",
   "execution_count": 942,
   "metadata": {},
   "outputs": [],
   "source": [
    "import pandas as pd\n",
    "import numpy as np\n",
    "import os\n",
    "import json\n",
    "from pprint import pprint\n",
    "import requests\n",
    "from skimage import io\n",
    "import cv2  # /usr/local/Cellar/opencv/3.4.3\n",
    "import matplotlib.pyplot as plt\n",
    "import json\n",
    "from sklearn.feature_extraction.text import CountVectorizer\n",
    "import nltk\n",
    "from sklearn.linear_model import LogisticRegression\n",
    "from sklearn.preprocessing import StandardScaler\n",
    "from sklearn.decomposition import PCA\n",
    "from sklearn.model_selection import train_test_split, cross_val_score, KFold\n",
    "from sklearn.preprocessing import Imputer\n",
    "from sklearn.linear_model import LogisticRegression\n",
    "from sklearn.discriminant_analysis import LinearDiscriminantAnalysis\n",
    "from sklearn.neighbors import KNeighborsClassifier\n",
    "from sklearn.svm import LinearSVC\n",
    "from sklearn.ensemble import VotingClassifier\n",
    "from sklearn.ensemble import RandomForestClassifier"
   ]
  },
  {
   "cell_type": "code",
   "execution_count": 628,
   "metadata": {},
   "outputs": [],
   "source": [
    "### remove keys before upload ### \n",
    "subscription_key_text \n",
    "text_analytics_base_url\n",
    "\n",
    "# extract text features using MS Azure\n",
    "language_api_url = text_analytics_base_url + 'languages'\n",
    "sentiment_api_url = text_analytics_base_url + 'sentiment'\n",
    "key_phrase_api_url = text_analytics_base_url + 'keyPhrases'"
   ]
  },
  {
   "cell_type": "code",
   "execution_count": 621,
   "metadata": {
    "scrolled": true
   },
   "outputs": [
    {
     "name": "stdout",
     "output_type": "stream",
     "text": [
      "https://ivc.ischool.utexas.edu/VizWiz/data/Annotations/train.json\n",
      "https://ivc.ischool.utexas.edu/VizWiz/data/Images\n",
      "200\n"
     ]
    }
   ],
   "source": [
    "base_url = 'https://ivc.ischool.utexas.edu/VizWiz/data'\n",
    "split = 'train'\n",
    "annFile = '%s/Annotations/%s.json'%(base_url, split)\n",
    "imgDir = '%s/Images'%base_url\n",
    "print(annFile)\n",
    "print(imgDir)\n",
    "\n",
    "# Retrieve file from URL and store it locally\n",
    "annotations = requests.get(annFile, allow_redirects=True)\n",
    "print(annotations.status_code)"
   ]
  },
  {
   "cell_type": "code",
   "execution_count": 62,
   "metadata": {},
   "outputs": [],
   "source": [
    "data = pd.DataFrame(columns=['image','question','answerable'])\n",
    "labels = annotations.json()"
   ]
  },
  {
   "cell_type": "code",
   "execution_count": 64,
   "metadata": {},
   "outputs": [
    {
     "data": {
      "text/plain": [
       "{'answerable': 1,\n",
       " 'image': 'VizWiz_train_000000000000.jpg',\n",
       " 'question': \"What's the name of this product?\",\n",
       " 'answer_type': 'other',\n",
       " 'answers': [{'answer_confidence': 'yes', 'answer': 'basil leaves'},\n",
       "  {'answer_confidence': 'yes', 'answer': 'basil leaves'},\n",
       "  {'answer_confidence': 'yes', 'answer': 'basil'},\n",
       "  {'answer_confidence': 'yes', 'answer': 'basil'},\n",
       "  {'answer_confidence': 'yes', 'answer': 'basil leaves'},\n",
       "  {'answer_confidence': 'yes', 'answer': 'basil leaves'},\n",
       "  {'answer_confidence': 'yes', 'answer': 'basil leaves'},\n",
       "  {'answer_confidence': 'yes', 'answer': 'basil leaves'},\n",
       "  {'answer_confidence': 'yes', 'answer': 'basil leaves'},\n",
       "  {'answer_confidence': 'yes', 'answer': 'basil'}]}"
      ]
     },
     "execution_count": 64,
     "metadata": {},
     "output_type": "execute_result"
    }
   ],
   "source": [
    "labels[0]"
   ]
  },
  {
   "cell_type": "code",
   "execution_count": 65,
   "metadata": {},
   "outputs": [],
   "source": [
    "labels = annotations.json()\n",
    "\n",
    "for vq in labels[0:20000]:\n",
    "    \n",
    "    image_name = vq['image']\n",
    "    question = vq['question']\n",
    "    label = vq['answerable']\n",
    "    \n",
    "    sample = pd.DataFrame({'image':[image_name], 'question':[question], 'answerable':[label]})\n",
    "    data = pd.concat([data,sample], ignore_index=True)"
   ]
  },
  {
   "cell_type": "code",
   "execution_count": 66,
   "metadata": {
    "scrolled": false
   },
   "outputs": [
    {
     "data": {
      "text/plain": [
       "(20000, 3)"
      ]
     },
     "execution_count": 66,
     "metadata": {},
     "output_type": "execute_result"
    }
   ],
   "source": [
    "data.shape"
   ]
  },
  {
   "cell_type": "code",
   "execution_count": 432,
   "metadata": {},
   "outputs": [
    {
     "data": {
      "text/plain": [
       "image         False\n",
       "question      False\n",
       "answerable    False\n",
       "dtype: bool"
      ]
     },
     "execution_count": 432,
     "metadata": {},
     "output_type": "execute_result"
    }
   ],
   "source": [
    "data.isnull().any()"
   ]
  },
  {
   "cell_type": "code",
   "execution_count": 67,
   "metadata": {
    "scrolled": true
   },
   "outputs": [
    {
     "name": "stdout",
     "output_type": "stream",
     "text": [
      "Stored 'data' (DataFrame)\n"
     ]
    }
   ],
   "source": [
    "%store data"
   ]
  },
  {
   "cell_type": "code",
   "execution_count": 515,
   "metadata": {},
   "outputs": [],
   "source": [
    "# sample 600 images\n",
    "%store -r data\n",
    "df = data.sample(600).reset_index()"
   ]
  },
  {
   "cell_type": "code",
   "execution_count": 516,
   "metadata": {
    "scrolled": false
   },
   "outputs": [
    {
     "data": {
      "text/html": [
       "<div>\n",
       "<style scoped>\n",
       "    .dataframe tbody tr th:only-of-type {\n",
       "        vertical-align: middle;\n",
       "    }\n",
       "\n",
       "    .dataframe tbody tr th {\n",
       "        vertical-align: top;\n",
       "    }\n",
       "\n",
       "    .dataframe thead th {\n",
       "        text-align: right;\n",
       "    }\n",
       "</style>\n",
       "<table border=\"1\" class=\"dataframe\">\n",
       "  <thead>\n",
       "    <tr style=\"text-align: right;\">\n",
       "      <th></th>\n",
       "      <th>index</th>\n",
       "      <th>image</th>\n",
       "      <th>question</th>\n",
       "      <th>answerable</th>\n",
       "    </tr>\n",
       "  </thead>\n",
       "  <tbody>\n",
       "    <tr>\n",
       "      <th>0</th>\n",
       "      <td>7190</td>\n",
       "      <td>VizWiz_train_000000007190.jpg</td>\n",
       "      <td>What is this?</td>\n",
       "      <td>1</td>\n",
       "    </tr>\n",
       "    <tr>\n",
       "      <th>1</th>\n",
       "      <td>6444</td>\n",
       "      <td>VizWiz_train_000000006444.jpg</td>\n",
       "      <td>What is on this page?</td>\n",
       "      <td>1</td>\n",
       "    </tr>\n",
       "    <tr>\n",
       "      <th>2</th>\n",
       "      <td>14211</td>\n",
       "      <td>VizWiz_train_000000014211.jpg</td>\n",
       "      <td>What color is this shirt?</td>\n",
       "      <td>0</td>\n",
       "    </tr>\n",
       "    <tr>\n",
       "      <th>3</th>\n",
       "      <td>10324</td>\n",
       "      <td>VizWiz_train_000000010324.jpg</td>\n",
       "      <td>What is this?</td>\n",
       "      <td>1</td>\n",
       "    </tr>\n",
       "    <tr>\n",
       "      <th>4</th>\n",
       "      <td>5318</td>\n",
       "      <td>VizWiz_train_000000005318.jpg</td>\n",
       "      <td>What is written on the paper?</td>\n",
       "      <td>0</td>\n",
       "    </tr>\n",
       "  </tbody>\n",
       "</table>\n",
       "</div>"
      ],
      "text/plain": [
       "   index                          image                       question  \\\n",
       "0   7190  VizWiz_train_000000007190.jpg                  What is this?   \n",
       "1   6444  VizWiz_train_000000006444.jpg          What is on this page?   \n",
       "2  14211  VizWiz_train_000000014211.jpg      What color is this shirt?   \n",
       "3  10324  VizWiz_train_000000010324.jpg                  What is this?   \n",
       "4   5318  VizWiz_train_000000005318.jpg  What is written on the paper?   \n",
       "\n",
       "  answerable  \n",
       "0          1  \n",
       "1          1  \n",
       "2          0  \n",
       "3          1  \n",
       "4          0  "
      ]
     },
     "execution_count": 516,
     "metadata": {},
     "output_type": "execute_result"
    }
   ],
   "source": [
    "df.head(5)"
   ]
  },
  {
   "cell_type": "code",
   "execution_count": 519,
   "metadata": {},
   "outputs": [
    {
     "data": {
      "text/plain": [
       "1    421\n",
       "0    179\n",
       "Name: answerable, dtype: int64"
      ]
     },
     "execution_count": 519,
     "metadata": {},
     "output_type": "execute_result"
    }
   ],
   "source": [
    "df['answerable'].value_counts()"
   ]
  },
  {
   "cell_type": "code",
   "execution_count": 129,
   "metadata": {
    "scrolled": false
   },
   "outputs": [
    {
     "data": {
      "text/plain": [
       "1    14269\n",
       "0     5731\n",
       "Name: answerable, dtype: int64"
      ]
     },
     "execution_count": 129,
     "metadata": {},
     "output_type": "execute_result"
    }
   ],
   "source": [
    "data['answerable'].value_counts()"
   ]
  },
  {
   "cell_type": "code",
   "execution_count": 980,
   "metadata": {},
   "outputs": [],
   "source": [
    "# The distribution of 'answerable' (Y) in all original data. \n",
    "# A trivial classifier that classifies all Y as '1' can achieve accuracy of approx. 71%. \n",
    "# Any subsequent model should compare to this baseline."
   ]
  },
  {
   "cell_type": "markdown",
   "metadata": {},
   "source": [
    "## (b) Define a feature representation for each visual question that uses:\n",
    "### i. Image-based features"
   ]
  },
  {
   "cell_type": "code",
   "execution_count": 635,
   "metadata": {},
   "outputs": [],
   "source": [
    "def sift(np_img, plot=False):\n",
    "    \"\"\" https://docs.opencv.org/3.4/da/df5/tutorial_py_sift_intro.html \"\"\"\n",
    "    grey = cv2.cvtColor(np_img, cv2.COLOR_BGR2GRAY)\n",
    "    sift_obj = cv2.xfeatures2d.SIFT_create()\n",
    "    kp, dsc = sift_obj.detectAndCompute(grey, None)\n",
    "    if plot:\n",
    "        img2 = cv2.drawKeypoints(grey, kp, np_img)\n",
    "        plt.imshow(img2)\n",
    "        plt.show()\n",
    "    return dsc\n",
    "    \n",
    "def color_hist(np_img, plot=False):\n",
    "    \"\"\" https://docs.opencv.org/3.1.0/d1/db7/tutorial_py_histogram_begins.html \"\"\"\n",
    "    grey = cv2.cvtColor(np_img, cv2.COLOR_BGR2GRAY) # using channel 0 for convenience; should be 3D for RGB\n",
    "    hist = cv2.calcHist([grey], [0], None, [256], [0,256])\n",
    "    if plot: \n",
    "        plot.hist(np_img.ravel(), 256, [0,256])\n",
    "        plt.show()\n",
    "    return hist\n",
    "\n",
    "def orb(np_img, plot=False):\n",
    "    \"\"\" https://docs.opencv.org/3.3.0/d1/d89/tutorial_py_orb.html \"\"\"\n",
    "    orb_obj = cv2.ORB_create()\n",
    "    kp = orb_obj.detect(np_img, None)\n",
    "    kp, dsc = orb_obj.compute(np_img, kp)\n",
    "    if plot:\n",
    "        img2 = cv2.drawKeypoints(np_img, kp, None, color=(0,255,0), flags=0)\n",
    "        plt.imshow(img2)\n",
    "        plt.show()\n",
    "    return dsc\n",
    "\n",
    "def kaze(np_img, vector_size=32):\n",
    "    \"\"\" corners \"\"\"\n",
    "    alg = cv2.KAZE_create()\n",
    "    kps = alg.detect(np_img)\n",
    "    kps = sorted(kps, key=lambda x: -x.response)[:vector_size]\n",
    "    kps, dsc = alg.compute(np_img, kps)\n",
    "\n",
    "    dsc = dsc.flatten()\n",
    "    needed_size = (vector_size * 64)\n",
    "    if dsc.size < needed_size:\n",
    "        dsc = np.concatenate([dsc, np.zeros(needed_size-dsc.size)])\n",
    "    return dsc\n",
    "\n",
    "\n",
    "\n",
    "def extract_feature(np_img, vector_size=32):\n",
    "    res = {}\n",
    "    try:\n",
    "        res['color_histogram'] = color_hist(np_img)\n",
    "        # res['kaze'] = kaze(np_img)\n",
    "        res['sift'] = sift(np_img)\n",
    "        res['orb'] = orb(np_img)\n",
    "    except cv2.error as e:\n",
    "        return e\n",
    "    return res\n",
    "\n",
    "\n",
    "def process_images(input_df):\n",
    "    \n",
    "    output_df = pd.DataFrame()\n",
    "    \n",
    "    for row_index, row in input_df.iterrows():\n",
    "        \n",
    "        index, img_name = row[0], row[1]\n",
    "        image_dir = 'https://ivc.ischool.utexas.edu/VizWiz/data/Images/%s'%img_name\n",
    "        np_img = io.imread(image_dir, mode='RGB')\n",
    "        \n",
    "        features = extract_feature(np_img)\n",
    "        \n",
    "        temp = pd.concat([pd.DataFrame({'index':[index],'img_name':[img_name]}),\n",
    "                          pd.DataFrame().append(features, ignore_index=True)], \n",
    "                         axis=1)\n",
    "        output_df = pd.concat([output_df, temp], axis=0, ignore_index=True)\n",
    "        \n",
    "    return output_df"
   ]
  },
  {
   "cell_type": "code",
   "execution_count": null,
   "metadata": {},
   "outputs": [],
   "source": [
    "image_features = process_images(df)"
   ]
  },
  {
   "cell_type": "code",
   "execution_count": null,
   "metadata": {},
   "outputs": [],
   "source": [
    "image_features.shape"
   ]
  },
  {
   "cell_type": "code",
   "execution_count": null,
   "metadata": {},
   "outputs": [],
   "source": [
    "image_features.head(1)"
   ]
  },
  {
   "cell_type": "code",
   "execution_count": null,
   "metadata": {},
   "outputs": [],
   "source": [
    "image_features.to_csv('image_features.csv', sep=',')"
   ]
  },
  {
   "cell_type": "markdown",
   "metadata": {},
   "source": [
    "### ii. Question-based features"
   ]
  },
  {
   "cell_type": "code",
   "execution_count": 526,
   "metadata": {},
   "outputs": [],
   "source": [
    "def extract_keywords(documents):\n",
    "    headers = {\"Ocp-Apim-Subscription-Key\": subscription_key_text}\n",
    "    response = requests.post(key_phrase_api_url, headers=headers, json=documents)\n",
    "    languages = response.json()\n",
    "    try:\n",
    "        return languages\n",
    "    except KeyError:\n",
    "        print(\"error index:\", index, \"error question:\", question)\n",
    "        print(languages)\n",
    "        return \n",
    "    \n",
    "\n",
    "def process_questions(input_df):\n",
    "    \"\"\" get keywords from Azure API \"\"\"\n",
    "    arr = []\n",
    "    \n",
    "    for row_index, row in df.iterrows():\n",
    "        \n",
    "        curr = {}\n",
    "        \n",
    "        index, question = row['index'], row['question']\n",
    "        label = row['answerable']\n",
    "        \n",
    "        curr[\"language\"] = \"en\"\n",
    "        curr[\"id\"] = index\n",
    "        curr[\"text\"] = question\n",
    "        \n",
    "        arr.append(curr)\n",
    "    \n",
    "    documents = {'documents': arr}\n",
    "    keywords = extract_keywords(documents)\n",
    "    return keywords"
   ]
  },
  {
   "cell_type": "code",
   "execution_count": 527,
   "metadata": {},
   "outputs": [],
   "source": [
    "keywords_dict = process_questions(df)"
   ]
  },
  {
   "cell_type": "code",
   "execution_count": 528,
   "metadata": {
    "scrolled": true
   },
   "outputs": [
    {
     "data": {
      "text/html": [
       "<div>\n",
       "<style scoped>\n",
       "    .dataframe tbody tr th:only-of-type {\n",
       "        vertical-align: middle;\n",
       "    }\n",
       "\n",
       "    .dataframe tbody tr th {\n",
       "        vertical-align: top;\n",
       "    }\n",
       "\n",
       "    .dataframe thead th {\n",
       "        text-align: right;\n",
       "    }\n",
       "</style>\n",
       "<table border=\"1\" class=\"dataframe\">\n",
       "  <thead>\n",
       "    <tr style=\"text-align: right;\">\n",
       "      <th></th>\n",
       "      <th>index</th>\n",
       "      <th>image</th>\n",
       "      <th>question</th>\n",
       "      <th>answerable</th>\n",
       "    </tr>\n",
       "  </thead>\n",
       "  <tbody>\n",
       "  </tbody>\n",
       "</table>\n",
       "</div>"
      ],
      "text/plain": [
       "Empty DataFrame\n",
       "Columns: [index, image, question, answerable]\n",
       "Index: []"
      ]
     },
     "execution_count": 528,
     "metadata": {},
     "output_type": "execute_result"
    }
   ],
   "source": [
    "# examples of failed keyword extractions (recognized as stop words)\n",
    "df.loc[df['index']==9551]"
   ]
  },
  {
   "cell_type": "code",
   "execution_count": 529,
   "metadata": {},
   "outputs": [
    {
     "data": {
      "text/plain": [
       "{'documents': [{'id': '11155', 'keyPhrases': []}], 'errors': []}"
      ]
     },
     "execution_count": 529,
     "metadata": {},
     "output_type": "execute_result"
    }
   ],
   "source": [
    "extract_keywords({'documents':[{'language':'en', 'id':'11155', 'text': 'What does this can say?'}]})"
   ]
  },
  {
   "cell_type": "code",
   "execution_count": 530,
   "metadata": {
    "scrolled": true
   },
   "outputs": [
    {
     "data": {
      "text/plain": [
       "{'documents': [{'id': '9551', 'keyPhrases': []}], 'errors': []}"
      ]
     },
     "execution_count": 530,
     "metadata": {},
     "output_type": "execute_result"
    }
   ],
   "source": [
    "extract_keywords({'documents':[{'language':'en', 'id':'9551', 'text': 'What is this?'}]})"
   ]
  },
  {
   "cell_type": "code",
   "execution_count": 531,
   "metadata": {},
   "outputs": [],
   "source": [
    "text_features = pd.DataFrame(keywords_dict['documents'])"
   ]
  },
  {
   "cell_type": "code",
   "execution_count": 933,
   "metadata": {},
   "outputs": [],
   "source": [
    "def clean_text_features(input_df_):\n",
    "    output_df = input_df_.copy()\n",
    "    for i in range(len(output_df)):\n",
    "        kw = output_df.iloc[i,1]\n",
    "        output_df.iloc[i,1] = \" \".join(str(w) for w in kw)\n",
    "    return output_df"
   ]
  },
  {
   "cell_type": "code",
   "execution_count": 580,
   "metadata": {},
   "outputs": [
    {
     "data": {
      "text/plain": [
       "(600, 2)"
      ]
     },
     "execution_count": 580,
     "metadata": {},
     "output_type": "execute_result"
    }
   ],
   "source": [
    "cleaned_text_features = clean_text_features(text_features)\n",
    "cleaned_text_features.shape"
   ]
  },
  {
   "cell_type": "code",
   "execution_count": 583,
   "metadata": {},
   "outputs": [],
   "source": [
    "cleaned_text_features.rename(index=str, columns={\"id\":\"index\", \"keyPhrases\":\"keywords\"}, inplace=True)"
   ]
  },
  {
   "cell_type": "code",
   "execution_count": 584,
   "metadata": {
    "scrolled": true
   },
   "outputs": [],
   "source": [
    "cleaned_text_features.to_csv('text_features.csv', sep=',')"
   ]
  },
  {
   "cell_type": "code",
   "execution_count": 585,
   "metadata": {},
   "outputs": [],
   "source": [
    "image = image_features.copy()\n",
    "text = cleaned_text_features.copy()\n",
    "orig = df.copy()[['index','answerable']]"
   ]
  },
  {
   "cell_type": "code",
   "execution_count": 586,
   "metadata": {},
   "outputs": [],
   "source": [
    "text['index'] = text['index'].astype('int64')"
   ]
  },
  {
   "cell_type": "code",
   "execution_count": 587,
   "metadata": {},
   "outputs": [
    {
     "data": {
      "text/plain": [
       "(600, 6)"
      ]
     },
     "execution_count": 587,
     "metadata": {},
     "output_type": "execute_result"
    }
   ],
   "source": [
    "features = text.merge(image, on='index', left_index=True, validate='one_to_one').merge(orig, on='index', left_index=True, validate='one_to_one').set_index('index')\n",
    "features.shape"
   ]
  },
  {
   "cell_type": "code",
   "execution_count": 784,
   "metadata": {},
   "outputs": [],
   "source": [
    "features.reset_index(inplace=True)\n",
    "\n",
    "# For records that Azure fail to extract any keyword, change empty string to null\n",
    "features['keywords'].replace(r'^\\s*$', np.nan, regex=True, inplace=True)\n",
    "\n",
    "features['keywords'] = features['keywords'].str.lower()"
   ]
  },
  {
   "cell_type": "code",
   "execution_count": 787,
   "metadata": {},
   "outputs": [
    {
     "data": {
      "text/plain": [
       "index               False\n",
       "keywords             True\n",
       "img_name            False\n",
       "color_histogram     False\n",
       "orb                  True\n",
       "sift                 True\n",
       "answerable          False\n",
       "num_of_keypoints    False\n",
       "dtype: bool"
      ]
     },
     "execution_count": 787,
     "metadata": {},
     "output_type": "execute_result"
    }
   ],
   "source": [
    "features.isnull().any()"
   ]
  },
  {
   "cell_type": "code",
   "execution_count": 721,
   "metadata": {},
   "outputs": [],
   "source": [
    "# since each image has different number of SIFT keypoints, count the number of keypoints and use as predictor\n",
    "# orb and color histogram all have the same length\n",
    "# for images that don't have SIFT or ORB keypoints, SIFT count is 0\n",
    "\n",
    "def count_keypoints(input_df):\n",
    "    \n",
    "    output_df = input_df.copy()\n",
    "    output_df['num_of_keypoints'] = \"\"\n",
    "    \n",
    "    for row_index, row in input_df.iterrows():\n",
    "        input_df.iloc[row_index,5]\n",
    "        try:\n",
    "            kp_ct = len(input_df.iloc[row_index,5])\n",
    "        except TypeError:     # no keypoints\n",
    "            kp_ct = 0\n",
    "        output_df.iloc[row_index,7] = kp_ct\n",
    "    \n",
    "    return output_df"
   ]
  },
  {
   "cell_type": "code",
   "execution_count": 788,
   "metadata": {
    "scrolled": true
   },
   "outputs": [
    {
     "data": {
      "text/html": [
       "<div>\n",
       "<style scoped>\n",
       "    .dataframe tbody tr th:only-of-type {\n",
       "        vertical-align: middle;\n",
       "    }\n",
       "\n",
       "    .dataframe tbody tr th {\n",
       "        vertical-align: top;\n",
       "    }\n",
       "\n",
       "    .dataframe thead th {\n",
       "        text-align: right;\n",
       "    }\n",
       "</style>\n",
       "<table border=\"1\" class=\"dataframe\">\n",
       "  <thead>\n",
       "    <tr style=\"text-align: right;\">\n",
       "      <th></th>\n",
       "      <th>index</th>\n",
       "      <th>keywords</th>\n",
       "      <th>img_name</th>\n",
       "      <th>color_histogram</th>\n",
       "      <th>orb</th>\n",
       "      <th>sift</th>\n",
       "      <th>answerable</th>\n",
       "      <th>num_of_keypoints</th>\n",
       "    </tr>\n",
       "  </thead>\n",
       "  <tbody>\n",
       "    <tr>\n",
       "      <th>0</th>\n",
       "      <td>7190</td>\n",
       "      <td>NaN</td>\n",
       "      <td>VizWiz_train_000000007190.jpg</td>\n",
       "      <td>[[17.0], [59.0], [232.0], [570.0], [1561.0], [...</td>\n",
       "      <td>[[248, 122, 62, 50, 124, 205, 83, 80, 187, 252...</td>\n",
       "      <td>[[3.0, 1.0, 0.0, 2.0, 126.0, 19.0, 0.0, 0.0, 1...</td>\n",
       "      <td>1</td>\n",
       "      <td>790</td>\n",
       "    </tr>\n",
       "    <tr>\n",
       "      <th>1</th>\n",
       "      <td>6444</td>\n",
       "      <td>page</td>\n",
       "      <td>VizWiz_train_000000006444.jpg</td>\n",
       "      <td>[[80.0], [5472.0], [31235.0], [41287.0], [4397...</td>\n",
       "      <td>[[42, 191, 114, 227, 119, 255, 186, 83, 27, 23...</td>\n",
       "      <td>[[0.0, 0.0, 27.0, 133.0, 6.0, 0.0, 0.0, 0.0, 2...</td>\n",
       "      <td>1</td>\n",
       "      <td>4708</td>\n",
       "    </tr>\n",
       "  </tbody>\n",
       "</table>\n",
       "</div>"
      ],
      "text/plain": [
       "   index keywords                       img_name  \\\n",
       "0   7190      NaN  VizWiz_train_000000007190.jpg   \n",
       "1   6444     page  VizWiz_train_000000006444.jpg   \n",
       "\n",
       "                                     color_histogram  \\\n",
       "0  [[17.0], [59.0], [232.0], [570.0], [1561.0], [...   \n",
       "1  [[80.0], [5472.0], [31235.0], [41287.0], [4397...   \n",
       "\n",
       "                                                 orb  \\\n",
       "0  [[248, 122, 62, 50, 124, 205, 83, 80, 187, 252...   \n",
       "1  [[42, 191, 114, 227, 119, 255, 186, 83, 27, 23...   \n",
       "\n",
       "                                                sift answerable  \\\n",
       "0  [[3.0, 1.0, 0.0, 2.0, 126.0, 19.0, 0.0, 0.0, 1...          1   \n",
       "1  [[0.0, 0.0, 27.0, 133.0, 6.0, 0.0, 0.0, 0.0, 2...          1   \n",
       "\n",
       "   num_of_keypoints  \n",
       "0               790  \n",
       "1              4708  "
      ]
     },
     "execution_count": 788,
     "metadata": {},
     "output_type": "execute_result"
    }
   ],
   "source": [
    "features = count_keypoints(features)\n",
    "features.head(2)"
   ]
  },
  {
   "cell_type": "markdown",
   "metadata": {},
   "source": [
    "### (c) You can use any transformations (e.g., feature dimension reduction techniques) and classiffication models (e.g., SVM, ensemble) of your choice to train your system to predict whether a visual question is answerable using the input features. For full credit, you need to train using at least 500 training visual questions. (Code)"
   ]
  },
  {
   "cell_type": "markdown",
   "metadata": {},
   "source": [
    "#### due to time limit, use keywords and number of keypoints from SIFT as two predictors\n",
    "#### split 600 samples into training and validation sets"
   ]
  },
  {
   "cell_type": "code",
   "execution_count": 808,
   "metadata": {},
   "outputs": [],
   "source": [
    "features['keywords'].fillna(value='0', inplace=True)"
   ]
  },
  {
   "cell_type": "code",
   "execution_count": 822,
   "metadata": {},
   "outputs": [],
   "source": [
    "X = features[['keywords', 'num_of_keypoints']].values\n",
    "Y = features['answerable'].values\n",
    "X_train, X_test, Y_train, Y_test = train_test_split(X, Y, test_size=.15, shuffle=True)"
   ]
  },
  {
   "cell_type": "code",
   "execution_count": 850,
   "metadata": {},
   "outputs": [],
   "source": [
    "# convert keywrods to vectors\n",
    "train_corpus = X_train[:,0]\n",
    "test_corpus = X_test[:,0]\n",
    "\n",
    "vec = CountVectorizer()\n",
    "train_corpus_vec = vec.fit_transform(train_corpus)\n",
    "test_corpus_vec = vec.transform(test_corpus)\n",
    "\n",
    "train_text = train_corpus_vec.toarray()\n",
    "test_text = test_corpus_vec.toarray()"
   ]
  },
  {
   "cell_type": "code",
   "execution_count": 867,
   "metadata": {},
   "outputs": [
    {
     "name": "stdout",
     "output_type": "stream",
     "text": [
      "(510, 349) (90, 349)\n"
     ]
    }
   ],
   "source": [
    "# join with visual feature (num of keypoints)\n",
    "X_train = np.c_[train_text, X_train[:,1]]\n",
    "X_test = np.c_[test_text, X_test[:,1]]\n",
    "print(X_train.shape, X_test.shape)"
   ]
  },
  {
   "cell_type": "markdown",
   "metadata": {},
   "source": [
    "#### preprocessing "
   ]
  },
  {
   "cell_type": "code",
   "execution_count": 868,
   "metadata": {},
   "outputs": [
    {
     "name": "stderr",
     "output_type": "stream",
     "text": [
      "/Users/edithzeng/anaconda3/lib/python3.6/site-packages/sklearn/utils/validation.py:475: DataConversionWarning: Data with input dtype object was converted to float64 by StandardScaler.\n",
      "  warnings.warn(msg, DataConversionWarning)\n"
     ]
    }
   ],
   "source": [
    "# standardize\n",
    "sc = StandardScaler()\n",
    "X_train_scaled = sc.fit_transform(X_train)\n",
    "X_test_scaled = sc.transform(X_test)"
   ]
  },
  {
   "cell_type": "code",
   "execution_count": 928,
   "metadata": {},
   "outputs": [],
   "source": [
    "# helper functions for PCA: find optimal number of PC and reduce dimensionality\n",
    "def plot_explained_variance(n_feature, X_train):\n",
    "    pca = PCA(n_feature)\n",
    "    pca_full = pca.fit(X_train)\n",
    "    plt.plot(np.cumsum(pca_full.explained_variance_ratio_))\n",
    "    plt.xlabel(\"number of principal components\")\n",
    "    plt.ylabel(\"cumulative explained variance\")\n",
    "    plt.grid(color='grey',linestyle='-',alpha=0.2)\n",
    "    plt.show()\n",
    "    \n",
    "def preprocess_pca(X_train, X_test, dim, r=None):\n",
    "    pca = PCA(n_components=dim, random_state=r)\n",
    "    X_train_pca = pca.fit_transform(X_train)\n",
    "    X_test_pca = pca.transform(X_test)\n",
    "    return X_train_pca, X_test_pca"
   ]
  },
  {
   "cell_type": "code",
   "execution_count": 929,
   "metadata": {},
   "outputs": [
    {
     "data": {
      "image/png": "[encoded data removed]",
      "text/plain": [
       "<Figure size 432x288 with 1 Axes>"
      ]
     },
     "metadata": {},
     "output_type": "display_data"
    }
   ],
   "source": [
    "plot_explained_variance(349, X_train_scaled)"
   ]
  },
  {
   "cell_type": "code",
   "execution_count": 874,
   "metadata": {},
   "outputs": [],
   "source": [
    "X_train_pca, X_test_pca = preprocess_pca(X_train_scaled, X_test_scaled, 200)"
   ]
  },
  {
   "cell_type": "code",
   "execution_count": 882,
   "metadata": {},
   "outputs": [
    {
     "data": {
      "text/plain": [
       "dtype('O')"
      ]
     },
     "execution_count": 882,
     "metadata": {},
     "output_type": "execute_result"
    }
   ],
   "source": [
    "Y_test.dtype"
   ]
  },
  {
   "cell_type": "code",
   "execution_count": 893,
   "metadata": {},
   "outputs": [],
   "source": [
    "Y_train = Y_train.astype(float)\n",
    "Y_test = Y_test.astype(float)"
   ]
  },
  {
   "cell_type": "markdown",
   "metadata": {},
   "source": [
    "#### modeling"
   ]
  },
  {
   "cell_type": "code",
   "execution_count": 948,
   "metadata": {},
   "outputs": [],
   "source": [
    "kf = KFold(n_splits=5, shuffle=False, random_state=1)\n",
    "\n",
    "def logit(X_train, X_test, Y_train, Y_test):\n",
    "    \n",
    "    cv_scores = []\n",
    "    C_list = [0.5, 1.0, 2.5, 5.0]\n",
    "    \n",
    "    for c in C_list:\n",
    "        cv_model = LogisticRegression(penalty='l2', C=c, \n",
    "                                      class_weight={0.:0.29, 1.:0.71}, \n",
    "                                      random_state=2, \n",
    "                                      warm_start=True)\n",
    "        score = np.mean(cross_val_score(cv_model, X_train, Y_train, cv=kf))\n",
    "        cv_scores.append(score)\n",
    "        \n",
    "    cv_scores = np.asarray(cv_scores)\n",
    "    \n",
    "    print(\"10-fold cross-validated score on training set:\", np.mean(cv_scores))\n",
    "    \n",
    "    best_C = C_list[cv_scores.argmax()]\n",
    "    print(\"Best C =\", best_C)\n",
    "    model = LogisticRegression(C=best_C, random_state=2, warm_start=True)\n",
    "    model.fit(X_train, Y_train)\n",
    "    \n",
    "    print(\"Best score on test set:\", model.score(X_test, Y_test))\n",
    "    \n",
    "\n",
    "def knn(X_train, X_test, Y_train, Y_test):\n",
    "    \n",
    "    cv_scores = []\n",
    "    k_list = [5, 10, 20, 30, 50, 80, 120]\n",
    "\n",
    "    for k in k_list:\n",
    "        cv_model = KNeighborsClassifier(n_neighbors=k)\n",
    "        score = np.mean(cross_val_score(cv_model, X_train, Y_train, cv=kf))\n",
    "        cv_scores.append(score)\n",
    "    cv_scores = np.asarray(cv_scores)\n",
    "    print(\"10-fold cross-validated score on training set:\", np.mean(cv_scores))\n",
    "    \n",
    "    best_k = k_list[cv_scores.argmax()]\n",
    "    print(\"Best K =\", best_k)\n",
    "    model = KNeighborsClassifier(n_neighbors=best_k)\n",
    "    model.fit(X_train, Y_train)\n",
    "\n",
    "    print(\"Best score on test set:\", model.score(X_test, Y_test))\n",
    "    \n",
    "    \n",
    "def lda(X_train, X_test, Y_train, Y_test):\n",
    "    \n",
    "    cv_scores = np.mean(cross_val_score(LinearDiscriminantAnalysis(), X_train, Y_train, cv=kf))\n",
    "    print(\"10-fold cross validation score on training set:\", np.mean(cv_scores))\n",
    "    \n",
    "    model = LinearDiscriminantAnalysis()\n",
    "    model.fit(X_train, Y_train)\n",
    "    \n",
    "    print(\"Best score on test set:\", model.score(X_test, Y_test))\n",
    "    \n",
    "def rf(X_train, X_test, Y_train, Y_test, fold=10):\n",
    "    scores = []\n",
    "    n_list = [150, 200, 300, 400]\n",
    "    for n in n_list:\n",
    "        model = RandomForestClassifier(n_estimators=n, max_features='sqrt', oob_score=True, warm_start=True)\n",
    "        model.fit(X_train, Y_train)\n",
    "        scores.append(model.oob_score_)\n",
    "    scores = np.asarray(scores)\n",
    "    best_n = n_list[scores.argmax()]\n",
    "    print(\"best num of trees:\", best_n)\n",
    "    model = RandomForestClassifier(n_estimators=best_n, max_features='sqrt', oob_score=True, warm_start=True)\n",
    "    model.fit(X_train, Y_train)\n",
    "    return model.score(X_test, Y_test)\n",
    "    \n",
    "\n",
    "def svm(X_train, X_test, Y_train, Y_test):\n",
    "    \n",
    "    cv_scores = []\n",
    "    C_list = [.0001, .001, .01, .1, .5, 1, 2, 5, 10]\n",
    "    for n in C_list:\n",
    "        cv_model = LinearSVC(loss='hinge', C=n, random_state=7)\n",
    "        score = np.mean(cross_val_score(cv_model, X_train, Y_train, cv=kf))\n",
    "        cv_scores.append(score)\n",
    "    cv_scores = np.asarray(cv_scores)\n",
    "    \n",
    "    best_c = C_list[cv_scores.argmax()]\n",
    "    model = LinearSVC(loss='hinge', C=best_c, random_state=7)\n",
    "    model.fit(X_train, Y_train)\n",
    "    print('best C:', best_c)\n",
    "\n",
    "    return model.score(X_test, Y_test)"
   ]
  },
  {
   "cell_type": "code",
   "execution_count": 901,
   "metadata": {},
   "outputs": [
    {
     "name": "stdout",
     "output_type": "stream",
     "text": [
      "10-fold cross-validated score on training set: 0.6799019607843138\n",
      "Best C = 1.0\n",
      "Best score on test set: 0.7222222222222222\n"
     ]
    }
   ],
   "source": [
    "logit(X_train_pca, X_test_pca, Y_train, Y_test)"
   ]
  },
  {
   "cell_type": "code",
   "execution_count": 907,
   "metadata": {},
   "outputs": [
    {
     "name": "stdout",
     "output_type": "stream",
     "text": [
      "10-fold cross-validated score on training set: 0.6876750700280113\n",
      "Best K = 20\n",
      "Best score on test set: 0.7333333333333333\n"
     ]
    }
   ],
   "source": [
    "knn(X_train_pca, X_test_pca, Y_train, Y_test)"
   ]
  },
  {
   "cell_type": "code",
   "execution_count": 915,
   "metadata": {},
   "outputs": [
    {
     "name": "stdout",
     "output_type": "stream",
     "text": [
      "10-fold cross validation score on training set: 0.6705882352941176\n",
      "Best score on test set: 0.7222222222222222\n"
     ]
    }
   ],
   "source": [
    "lda(X_train_pca, X_test_pca, Y_train, Y_test)"
   ]
  },
  {
   "cell_type": "code",
   "execution_count": 923,
   "metadata": {
    "scrolled": true
   },
   "outputs": [
    {
     "name": "stdout",
     "output_type": "stream",
     "text": [
      "best C: 0.001\n"
     ]
    },
    {
     "data": {
      "text/plain": [
       "0.7222222222222222"
      ]
     },
     "execution_count": 923,
     "metadata": {},
     "output_type": "execute_result"
    }
   ],
   "source": [
    "svm(X_train_pca, X_test_pca, Y_train, Y_test)"
   ]
  },
  {
   "cell_type": "code",
   "execution_count": 949,
   "metadata": {},
   "outputs": [
    {
     "name": "stdout",
     "output_type": "stream",
     "text": [
      "best num of trees: 400\n"
     ]
    },
    {
     "data": {
      "text/plain": [
       "0.36666666666666664"
      ]
     },
     "execution_count": 949,
     "metadata": {},
     "output_type": "execute_result"
    }
   ],
   "source": [
    "rf(X_train_pca, X_test_pca, Y_train, Y_test)"
   ]
  },
  {
   "cell_type": "code",
   "execution_count": 959,
   "metadata": {},
   "outputs": [],
   "source": [
    "def majority_vote_tuning(X_train, X_test, Y_train, Y_test):\n",
    "    \n",
    "    lda = LinearDiscriminantAnalysis()\n",
    "    knn = KNeighborsClassifier(n_neighbors=20)\n",
    "    logit = LogisticRegression(C=1.0, random_state=2, class_weight={0.:0.29, 1.:0.71}, warm_start=True)\n",
    "    rf = RandomForestClassifier(n_estimators=400, max_features='sqrt', warm_start=True)\n",
    "    \n",
    "    clf = VotingClassifier(estimators=[('lda',lda),('knn',knn),('logit',logit),('rf',rf)], voting='soft')\n",
    "    \n",
    "    cv_scores = cross_val_score(clf, X_train, Y_train, cv=10)\n",
    "    \n",
    "    print(\"10-fold cross validation score on training set:\", np.mean(cv_scores))\n",
    "    \n",
    "    clf.fit(X_train, Y_train)\n",
    "    print(\"Accuracy on test set:\", clf.score(X_test, Y_test))\n",
    "    \n",
    "    \n",
    "def majority_vote_predictor(X_train, X_test, Y_train):\n",
    "    \n",
    "    lda = LinearDiscriminantAnalysis()\n",
    "    knn = KNeighborsClassifier(n_neighbors=20)\n",
    "    logit = LogisticRegression(C=1.0, random_state=2, class_weight={0.:0.29, 1.:0.71}, warm_start=True)\n",
    "    rf = RandomForestClassifier(n_estimators=400, max_features='sqrt', warm_start=True)\n",
    "    \n",
    "    clf = VotingClassifier(estimators=[('lda',lda),('knn',knn),('logit',logit),('rf',rf)], voting='soft')\n",
    "    \n",
    "    clf.fit(X_train, Y_train)\n",
    "    return clf.predict(X_test)"
   ]
  },
  {
   "cell_type": "code",
   "execution_count": 951,
   "metadata": {
    "scrolled": true
   },
   "outputs": [
    {
     "name": "stdout",
     "output_type": "stream",
     "text": [
      "10-fold cross validation score on training set: 0.6980648567119154\n",
      "Accuracy on test set: 0.7222222222222222\n"
     ]
    }
   ],
   "source": [
    "majority_vote_tuning(X_train_pca, X_test_pca, Y_train, Y_test)"
   ]
  },
  {
   "cell_type": "markdown",
   "metadata": {},
   "source": [
    "#### combine training and validation data into one single training data"
   ]
  },
  {
   "cell_type": "code",
   "execution_count": 954,
   "metadata": {
    "scrolled": true
   },
   "outputs": [],
   "source": [
    "corpus = X[:,0]\n",
    "vec2 = CountVectorizer()\n",
    "X_training_text = vec2.fit_transform(corpus).toarray()\n",
    "X_training_sift = X[:,1]\n",
    "\n",
    "X_training = np.c_[X_training_text, X_training_sift]\n",
    "\n",
    "sc2 = StandardScaler()\n",
    "X_training = sc2.fit_transform(X_training)\n",
    "\n",
    "Y_training = Y.astype(float)"
   ]
  },
  {
   "cell_type": "code",
   "execution_count": 955,
   "metadata": {},
   "outputs": [
    {
     "data": {
      "image/png": "[encoded data removed]",
      "text/plain": [
       "<Figure size 432x288 with 1 Axes>"
      ]
     },
     "metadata": {},
     "output_type": "display_data"
    }
   ],
   "source": [
    "plot_explained_variance(349, X_training)"
   ]
  },
  {
   "cell_type": "markdown",
   "metadata": {},
   "source": [
    "## Read first 100 test dataset"
   ]
  },
  {
   "cell_type": "code",
   "execution_count": 604,
   "metadata": {},
   "outputs": [
    {
     "name": "stdout",
     "output_type": "stream",
     "text": [
      "https://ivc.ischool.utexas.edu/VizWiz/data/Annotations/test.json\n",
      "https://ivc.ischool.utexas.edu/VizWiz/data/Images\n",
      "200\n"
     ]
    }
   ],
   "source": [
    "base_url = 'https://ivc.ischool.utexas.edu/VizWiz/data'\n",
    "split2 = 'test'\n",
    "annFile2 = '%s/Annotations/%s.json'%(base_url, split2)\n",
    "imgDir2 = '%s/Images'%base_url\n",
    "print(annFile2)\n",
    "print(imgDir2)\n",
    "\n",
    "# Retrieve file from URL and store it locally\n",
    "annotations2 = requests.get(annFile2, allow_redirects=True)\n",
    "print(annotations2.status_code)\n",
    "\n",
    "test_data = pd.DataFrame(columns=['image','question'])\n",
    "test_labels = annotations2.json()"
   ]
  },
  {
   "cell_type": "code",
   "execution_count": 606,
   "metadata": {},
   "outputs": [
    {
     "name": "stdout",
     "output_type": "stream",
     "text": [
      "image       False\n",
      "question    False\n",
      "dtype: bool\n",
      "(100, 2)\n"
     ]
    },
    {
     "data": {
      "text/html": [
       "<div>\n",
       "<style scoped>\n",
       "    .dataframe tbody tr th:only-of-type {\n",
       "        vertical-align: middle;\n",
       "    }\n",
       "\n",
       "    .dataframe tbody tr th {\n",
       "        vertical-align: top;\n",
       "    }\n",
       "\n",
       "    .dataframe thead th {\n",
       "        text-align: right;\n",
       "    }\n",
       "</style>\n",
       "<table border=\"1\" class=\"dataframe\">\n",
       "  <thead>\n",
       "    <tr style=\"text-align: right;\">\n",
       "      <th></th>\n",
       "      <th>image</th>\n",
       "      <th>question</th>\n",
       "    </tr>\n",
       "  </thead>\n",
       "  <tbody>\n",
       "    <tr>\n",
       "      <th>0</th>\n",
       "      <td>VizWiz_test_000000020000.jpg</td>\n",
       "      <td>What is this? And what color is it?</td>\n",
       "    </tr>\n",
       "    <tr>\n",
       "      <th>1</th>\n",
       "      <td>VizWiz_test_000000020001.jpg</td>\n",
       "      <td>What is this?</td>\n",
       "    </tr>\n",
       "    <tr>\n",
       "      <th>2</th>\n",
       "      <td>VizWiz_test_000000020002.jpg</td>\n",
       "      <td>Has this oven gotten up to four hundred fifty ...</td>\n",
       "    </tr>\n",
       "    <tr>\n",
       "      <th>3</th>\n",
       "      <td>VizWiz_test_000000020003.jpg</td>\n",
       "      <td>What is this?</td>\n",
       "    </tr>\n",
       "    <tr>\n",
       "      <th>4</th>\n",
       "      <td>VizWiz_test_000000020004.jpg</td>\n",
       "      <td>What is this?</td>\n",
       "    </tr>\n",
       "  </tbody>\n",
       "</table>\n",
       "</div>"
      ],
      "text/plain": [
       "                          image  \\\n",
       "0  VizWiz_test_000000020000.jpg   \n",
       "1  VizWiz_test_000000020001.jpg   \n",
       "2  VizWiz_test_000000020002.jpg   \n",
       "3  VizWiz_test_000000020003.jpg   \n",
       "4  VizWiz_test_000000020004.jpg   \n",
       "\n",
       "                                            question  \n",
       "0                What is this? And what color is it?  \n",
       "1                                      What is this?  \n",
       "2  Has this oven gotten up to four hundred fifty ...  \n",
       "3                                      What is this?  \n",
       "4                                      What is this?  "
      ]
     },
     "execution_count": 606,
     "metadata": {},
     "output_type": "execute_result"
    }
   ],
   "source": [
    "test_labels = annotations2.json()\n",
    "\n",
    "for vq in test_labels[0:100]:\n",
    "    \n",
    "    image_name = vq['image']\n",
    "    question = vq['question']\n",
    "    \n",
    "    test_sample = pd.DataFrame({'image':[image_name], 'question':[question]})\n",
    "    test_data = pd.concat([test_data,test_sample], ignore_index=True)\n",
    "\n",
    "print(test_data.isnull().any())\n",
    "print(test_data.shape)\n",
    "test_data.head(5)"
   ]
  },
  {
   "cell_type": "code",
   "execution_count": 607,
   "metadata": {},
   "outputs": [
    {
     "name": "stdout",
     "output_type": "stream",
     "text": [
      "Stored 'test_data' (DataFrame)\n"
     ]
    }
   ],
   "source": [
    "%store test_data"
   ]
  },
  {
   "cell_type": "code",
   "execution_count": 622,
   "metadata": {},
   "outputs": [],
   "source": [
    "test_image_features = process_images(df)"
   ]
  },
  {
   "cell_type": "code",
   "execution_count": 623,
   "metadata": {},
   "outputs": [
    {
     "data": {
      "text/plain": [
       "(600, 5)"
      ]
     },
     "execution_count": 623,
     "metadata": {},
     "output_type": "execute_result"
    }
   ],
   "source": [
    "test_image_features.shape"
   ]
  },
  {
   "cell_type": "code",
   "execution_count": 637,
   "metadata": {},
   "outputs": [],
   "source": [
    "def text_features(input_df, to_csv=False, csv_name=None):\n",
    "    keywords_dict = process_questions(df)\n",
    "    text_features = pd.DataFrame(keywords_dict['documents'])\n",
    "    cleaned = clean_text_features(text_features)\n",
    "    cleaned.rename(index=str, columns={\"id\":\"index\", \"keyPhrases\":\"keywords\"}, inplace=True)\n",
    "    if to_csv:\n",
    "        cleaned.to_csv(csv_name, sep=',')\n",
    "    return cleaned"
   ]
  },
  {
   "cell_type": "code",
   "execution_count": 631,
   "metadata": {},
   "outputs": [],
   "source": [
    "test_image_features.to_csv('test_image_features.csv', sep=',')"
   ]
  },
  {
   "cell_type": "code",
   "execution_count": 638,
   "metadata": {},
   "outputs": [],
   "source": [
    "test_text_features = text_features(test_data, to_csv=True, csv_name='test_text_features.csv')"
   ]
  },
  {
   "cell_type": "code",
   "execution_count": 934,
   "metadata": {},
   "outputs": [],
   "source": [
    "cleaned_text_features_test = clean_text_features(test_text_features)\n",
    "\n",
    "cleaned_text_features.rename(index=str, columns={\"id\":\"index\", \"keyPhrases\":\"keywords\"}, inplace=True)\n",
    "\n",
    "cleaned_text_features.to_csv('text_features_test.csv', sep=',')\n",
    "\n",
    "image = image_features.copy()\n",
    "text = cleaned_text_features.copy()\n",
    "orig = df.copy()[['index','answerable']]\n",
    "\n",
    "text['index'] = text['index'].astype('int64')\n",
    "\n",
    "test_features = text.merge(image, on='index', left_index=True, validate='one_to_one').merge(orig, on='index', left_index=True, validate='one_to_one').set_index('index')\n",
    "\n",
    "test_features.reset_index(inplace=True)"
   ]
  },
  {
   "cell_type": "code",
   "execution_count": 935,
   "metadata": {},
   "outputs": [
    {
     "data": {
      "text/plain": [
       "level_0            False\n",
       "index              False\n",
       "keywords           False\n",
       "img_name           False\n",
       "color_histogram    False\n",
       "orb                 True\n",
       "sift                True\n",
       "answerable         False\n",
       "dtype: bool"
      ]
     },
     "execution_count": 935,
     "metadata": {},
     "output_type": "execute_result"
    }
   ],
   "source": [
    "test_features.reset_index(inplace=True)\n",
    "test_features['keywords'].replace(r'^\\s*$', np.nan, regex=True, inplace=True)\n",
    "test_features['keywords'] = features['keywords'].str.lower()\n",
    "test_features.isnull().any()"
   ]
  },
  {
   "cell_type": "code",
   "execution_count": 953,
   "metadata": {},
   "outputs": [],
   "source": [
    "test_features = count_keypoints(test_features)\n",
    "test_features['keywords'].fillna(value='0', inplace=True)"
   ]
  },
  {
   "cell_type": "code",
   "execution_count": 960,
   "metadata": {},
   "outputs": [
    {
     "name": "stdout",
     "output_type": "stream",
     "text": [
      "(600, 379)\n"
     ]
    }
   ],
   "source": [
    "X_testing = features[['keywords', 'num_of_keypoints']].values\n",
    "Y_testing = features['answerable'].values.astype(float)\n",
    "\n",
    "# convert keywords to vectors\n",
    "testing_corpus = X_testing[:,0]\n",
    "testing_corpus_vec = vec2.transform(testing_corpus)\n",
    "testing_text = testing_corpus_vec.toarray()\n",
    "testing_text.shape\n",
    "\n",
    "# join with visual feature (num of keypoints)\n",
    "X_testing = np.c_[testing_text, X_testing[:,1]]\n",
    "print(X_testing.shape)\n",
    "\n",
    "# standardize and PCA dim reduction\n",
    "X_testing_scaled = sc2.transform(X_testing)\n",
    "preprocess_pca(X_training, X_testing, dim=250)\n",
    "\n",
    "# predict\n",
    "Y_pred = majority_vote_predictor(X_training, X_testing, Y_training)"
   ]
  },
  {
   "cell_type": "code",
   "execution_count": 961,
   "metadata": {
    "scrolled": true
   },
   "outputs": [
    {
     "data": {
      "text/plain": [
       "(600,)"
      ]
     },
     "execution_count": 961,
     "metadata": {},
     "output_type": "execute_result"
    }
   ],
   "source": [
    "Y_pred.shape"
   ]
  },
  {
   "cell_type": "markdown",
   "metadata": {},
   "source": [
    "### (d) You must submit the test prediction results from your classiffication system for the first 100 examples in the test split: i.e., VizWiz test 000000020000.jpg { VizWiz test 000000020099.jpg. This must be submitted in a csv or excel file with the prediction listed in the first 100 rows in column A, where 1 indicates answerable and 0 indicates unanswerable. (Code)"
   ]
  },
  {
   "cell_type": "code",
   "execution_count": 964,
   "metadata": {},
   "outputs": [],
   "source": [
    "np.savetxt('y_pred.csv', Y_pred, delimiter=',')\n",
    "# csv emailed"
   ]
  },
  {
   "cell_type": "markdown",
   "metadata": {},
   "source": [
    "###  (e) Write 2-3 paragraphs describing your proposed prediction method. Describe the implementation of your proposed approach in such a way that a 1) reader could reproduce your set-up and 2) understand why you made your design decisions.\n",
    "\n",
    "### (f) Write 2-3 paragraphs describing the analysis you conducted with the training and/or validation datasets that guided your choice for your prediction system design (e.g., hyperparameters, classiffication models, etc)."
   ]
  },
  {
   "cell_type": "markdown",
   "metadata": {},
   "source": [
    "Due to some problem with Azure text analytics and OpenCV's extra modules, I did not have sufficient time to improve the models. The current setup provides an ensemble classifier that barely outperform the trivial solution.\n",
    "\n",
    "- Import training and testing data \n",
    "- Check for class distribution\n",
    "- Extract image-based features: SIFT key points. Other potentially helpful features: color histogram (RGB), ORB and KAZE. \n",
    "- Extract text-based features: extract keywords from Azure text analytics, get bag of word across all training examples. \n",
    "- Fill in missing values\n",
    "- Combine text and image features as X\n",
    "- Standardize X and perform PCA for dimensionality reduction\n",
    "- Test performances of ifferent probabilistic classifiers with training data to find optimal tuning parameters (logistic regression, linear discriminant analysis, K nearest neighbors and random forest classifier)\n",
    "- Set up optimal tuning parameters and combine into majority vote classifier\n",
    "- Fit majority vote classifier with entire training data\n",
    "- Preprocess test data with the same process and predict using fit classifier\n",
    "\n",
    "Potential improvements:\n",
    "- Adjust threshold function for logistic regression to account for prior. \n",
    "- Under/oversample to address imbalance between two classes.\n",
    "- Instead of using the number of keypoints as feature, perform K-means clustering on SIFT keypoints.\n",
    "- Improve keyword extraction for text-based questions. Azure text analytics mistakenly recognized some words as stopping words (eg. \"Is this a can?\" or \"What is this?\") and results empty fields. Manually defining stop words specific to this dataset may also help (eg. removing \"thank you\" or salutations).\n",
    "- Explore another way to represent keywords (bag-of-word resulted large sparse matrices).\n",
    "- Determine metrics to evaluate image quality and use this as a feature to predict answerability.\n",
    "- Use saliency map or object recognition with higher level semantic understanding to extract visual features.\n",
    "\n",
    "The models above did not explore any high level visual feature, and the result is very similar to the trivial classifier. Parameter tuning was cross-validated on a subset of the training data (500 samples) and tested on the remainder (100 samples). Most classifiers did not outperform the naive baseline. Further data cleansing and representations are very likely to help improve accuracy.\n",
    "\n",
    "Since the overall goal is multimodal, an improved setup is to use high-level features for both image and text tasks. Examples with matching keywords from both the image and the text are more likely to have a label of 1 (answerable). The task can be decomposed into multiple levels, in the order from low-level features to high-level semantics:\n",
    "\n",
    "- low-level\n",
    " - easy (likely to be 1 or answerable): keywords that matches low level visual features. eg: \"what color is this shirt?\"\n",
    " - difficult (likely to be 0 or unanswerable): no keywords successfully extracted (eg. \"What does this can say?\"); image is blank/black/blurry or otherwise illegible\n",
    " \n",
    "- mid-level\n",
    " - easy: transcription-related task (\"What's the brand of this\" or \"How much is this bill worth\")\n",
    " - difficult: photo or question lacking relevant information (eg. \"What's in this box?\" when the box is closed)\n",
    " \n",
    "- high-level\n",
    " - easy: object recognition when key items in the image matching keywords extracted from the questions, scene understanding when photo and question are well-articulated, etc.\n",
    " - difficult: semantically correct visual and textual information, but the question involves information that goes beyond what's provided (eg. \"what's the expiration date\" when the photo of a can doesn't include such information, or the photo doesn't include a can) or, in the case of automated VQA, goes beyond the capacity of the algorithm to answer the question.\n",
    " \n",
    "The answerability depends on the information in both image and text, as well as the agent's capacity (human vs machine). In the ideal situation, information in the image should complement/match the question so that a human or an automated system can easily find answer to the question in the image. It seems that many questions are about identifying objects, so another way to predict answerability is to perform automatic object detection on the image and incorporate performance as a feature. "
   ]
  },
  {
   "cell_type": "markdown",
   "metadata": {},
   "source": [
    "## 2. Classification Using neural networks\n",
    "### (a) Load MNIST and create a 70/30 train/test split."
   ]
  },
  {
   "cell_type": "code",
   "execution_count": 11,
   "metadata": {},
   "outputs": [
    {
     "name": "stderr",
     "output_type": "stream",
     "text": [
      "/Users/edithzeng/anaconda3/lib/python3.6/site-packages/h5py/__init__.py:36: FutureWarning: Conversion of the second argument of issubdtype from `float` to `np.floating` is deprecated. In future, it will be treated as `np.float64 == np.dtype(float).type`.\n",
      "  from ._conv import register_converters as _register_converters\n",
      "Using TensorFlow backend.\n"
     ]
    }
   ],
   "source": [
    "from sklearn.datasets import fetch_mldata\n",
    "from sklearn.model_selection import train_test_split\n",
    "import tensorflow as tf \n",
    "import keras\n",
    "from sklearn.metrics import accuracy_score\n",
    "import pandas\n",
    "# from tensorflow.contrib.learn import DNNClassifier, SKCompat\n",
    "# from tensorflow.contrib.learn import infer_real_valued_columns_from_input\n",
    "# from tensorflow.estimator import RunConfig\n",
    "from keras.datasets import mnist\n",
    "from keras.models import Sequential\n",
    "from keras.layers import Dense\n",
    "from keras.optimizers import RMSprop\n",
    "from ipykernel import kernelapp as app\n",
    "import matplotlib.pyplot as plt\n",
    "from keras import layers"
   ]
  },
  {
   "cell_type": "code",
   "execution_count": 12,
   "metadata": {
    "scrolled": true
   },
   "outputs": [
    {
     "name": "stdout",
     "output_type": "stream",
     "text": [
      "(70000, 784) (70000,)\n"
     ]
    }
   ],
   "source": [
    "import warnings\n",
    "warnings.filterwarnings(\"ignore\", category=DeprecationWarning)\n",
    "\n",
    "mnist = fetch_mldata('MNIST original')\n",
    "\n",
    "print(mnist['data'].shape, mnist['target'].shape)\n",
    "\n",
    "X_train, X_test, Y_train, Y_test = train_test_split(mnist['data'], mnist['target'], test_size=.3, random_state=1)"
   ]
  },
  {
   "cell_type": "markdown",
   "metadata": {},
   "source": [
    "### (b) Optimize hyperparameters: find the optimal number of hidden layers (at least 10 different values) and number of neurons per layer (at least 10 different values) when training a multilayer perception (MLP). Set all other parameters constant when training; e.g., activation function, number of iterations for training, batch size, and gradient descent approach. (Code)"
   ]
  },
  {
   "cell_type": "code",
   "execution_count": 13,
   "metadata": {},
   "outputs": [],
   "source": [
    "batch_size = 50\n",
    "epochs = 20\n",
    "num_classes = 10"
   ]
  },
  {
   "cell_type": "code",
   "execution_count": 14,
   "metadata": {},
   "outputs": [
    {
     "name": "stdout",
     "output_type": "stream",
     "text": [
      "(49000, 784) train samples\n",
      "(21000, 784) test samples\n"
     ]
    }
   ],
   "source": [
    "X_train = X_train.astype('float32')\n",
    "X_test = X_test.astype('float32')\n",
    "X_train /= 255\n",
    "X_test /= 255\n",
    "\n",
    "print(X_train.shape, 'train samples')\n",
    "print(X_test.shape, 'test samples')\n",
    "\n",
    "Y_train = keras.utils.to_categorical(Y_train, num_classes)\n",
    "Y_test = keras.utils.to_categorical(Y_test, num_classes)"
   ]
  },
  {
   "cell_type": "code",
   "execution_count": 41,
   "metadata": {},
   "outputs": [],
   "source": [
    "# https://keras.io/getting-started/sequential-model-guide/\n",
    "# https://github.com/keras-team/keras/blob/master/examples/mnist_mlp.py\n",
    "\n",
    "def test_MLP_param(nodes_per_layer, num_of_layers, get_weights=False):\n",
    "    \n",
    "    model = Sequential()\n",
    "    \n",
    "    # first hidden layer\n",
    "    model.add(Dense(nodes_per_layer, activation='relu', input_shape=(784,)))\n",
    "    \n",
    "\n",
    "    # subsequent hidden layers\n",
    "    for layer in range(1, num_of_layers-1):\n",
    "        model.add(Dense(nodes_per_layer, activation='relu'))\n",
    "    \n",
    "    # output layer with 10 nodes for 10 classes\n",
    "    model.add(Dense(10, activation='softmax'))\n",
    "\n",
    "    # compile and fit model\n",
    "    model.compile(loss='categorical_crossentropy', optimizer='adam', metrics=['accuracy'])\n",
    "    model.fit(X_train, Y_train, batch_size=batch_size, epochs=epochs, verbose=0, validation_data=(X_test, Y_test))\n",
    "    \n",
    "    if get_weights:\n",
    "        num_of_params = 0\n",
    "        for layer in model.layers:\n",
    "            w = layer.get_weights()\n",
    "            print(\"Layer {}: bias = {}, weights = {}\\n\".format(layer, w[0], w[1]))\n",
    "            num_of_params += (len(w[0]) + len(w[1])) \n",
    "        print(\"Total number of weights and biases:\", num_of_params)\n",
    "            \n",
    "    # return accuracy for current num of layer\n",
    "    score = model.evaluate(X_test, Y_test, verbose=1)\n",
    "    accuracy = score[1]\n",
    "    \n",
    "    return accuracy"
   ]
  },
  {
   "cell_type": "code",
   "execution_count": null,
   "metadata": {
    "scrolled": false
   },
   "outputs": [],
   "source": [
    "# testing different number of layers (each with 10 neurons)\n",
    "layers = [i for i in range(1,11)]\n",
    "layers_accuracy_score = []\n",
    "\n",
    "for option in layers:\n",
    "    layers_accuracy_score.append(test_MLP_param(nodes_per_layer=50, num_of_layers=option))"
   ]
  },
  {
   "cell_type": "code",
   "execution_count": 10,
   "metadata": {
    "scrolled": true
   },
   "outputs": [
    {
     "data": {
      "text/plain": [
       "[<matplotlib.lines.Line2D at 0x1a2c465a58>]"
      ]
     },
     "execution_count": 10,
     "metadata": {},
     "output_type": "execute_result"
    },
    {
     "data": {
      "image/png": "[encoded data removed]",
      "text/plain": [
       "<Figure size 432x288 with 1 Axes>"
      ]
     },
     "metadata": {},
     "output_type": "display_data"
    }
   ],
   "source": [
    "plt.xlabel(\"number of layers\")\n",
    "plt.ylabel(\"accuracy\")\n",
    "plt.grid(color='grey',linestyle='-',alpha=0.2)\n",
    "plt.plot(layers, layers_accuracy_score)"
   ]
  },
  {
   "cell_type": "code",
   "execution_count": null,
   "metadata": {},
   "outputs": [],
   "source": [
    "nodes = [20, 30, 50, 70, 100, 120, 150, 200, 250, 300]\n",
    "nodes_accuracy_score = []\n",
    "\n",
    "# test for optimal num of nodes (same # of nodes in each layer)\n",
    "for option in nodes:\n",
    "    nodes_accuracy_score.append(test_MLP_param(nodes_per_layer=option, num_of_layers=7))"
   ]
  },
  {
   "cell_type": "code",
   "execution_count": 12,
   "metadata": {},
   "outputs": [
    {
     "data": {
      "text/plain": [
       "[<matplotlib.lines.Line2D at 0x1a30cc08d0>]"
      ]
     },
     "execution_count": 12,
     "metadata": {},
     "output_type": "execute_result"
    },
    {
     "data": {
      "image/png": "[encoded data removed]",
      "text/plain": [
       "<Figure size 432x288 with 1 Axes>"
      ]
     },
     "metadata": {},
     "output_type": "display_data"
    }
   ],
   "source": [
    "plt.xlabel(\"number of nodes on each layer (7 layers)\")\n",
    "plt.ylabel(\"accuracy\")\n",
    "plt.grid(color='grey',linestyle='-',alpha=0.2)\n",
    "plt.plot(nodes, layers_accuracy_score)"
   ]
  },
  {
   "cell_type": "markdown",
   "metadata": {},
   "source": [
    "### (c) Report the optimal hyperparameters you found and the number of weights that are in this optimal model. (Write-up)\n",
    "### (d) Write a discussion about the performance of the neural network when using different hyperparameters. For example, what number of hidden layers and neurons per layer did better/worse and why do you think so? Your discussion should consist of 2-4 paragraphs. (Write-up)"
   ]
  },
  {
   "cell_type": "code",
   "execution_count": 42,
   "metadata": {
    "scrolled": false
   },
   "outputs": [
    {
     "name": "stdout",
     "output_type": "stream",
     "text": [
      "Layer <keras.layers.core.Dense object at 0x1c320bda20>: bias = [[-0.050719   -0.06124026 -0.06141499 ... -0.01306954  0.04096607\n",
      "  -0.04892495]\n",
      " [-0.02555107  0.03284898  0.05143164 ...  0.01631623 -0.07018594\n",
      "  -0.06427863]\n",
      " [ 0.02303829 -0.03414132 -0.05403645 ...  0.04053457  0.04888926\n",
      "   0.03526638]\n",
      " ...\n",
      " [ 0.02383086 -0.02620479  0.07356766 ... -0.02539464 -0.06050574\n",
      "   0.07246447]\n",
      " [ 0.06164294  0.056353    0.03035923 ...  0.00989669  0.0163374\n",
      "   0.05951668]\n",
      " [-0.00484464  0.01778103 -0.03074675 ... -0.00338892  0.00380412\n",
      "   0.05833474]], weights = [-0.08296271  0.08073547  0.01081799 -0.02497147  0.13046764  0.08143789\n",
      " -0.09916192 -0.03514722 -0.05904397 -0.10226648 -0.0514484  -0.03997611\n",
      "  0.02830913 -0.01251563  0.08941393  0.06353028 -0.06410564 -0.0270458\n",
      "  0.02358783 -0.06402537 -0.08527648 -0.02862679  0.01904109  0.07588769\n",
      " -0.05642206  0.09437016  0.15128666  0.03050689  0.03109527 -0.1582271\n",
      "  0.03514146 -0.05009764 -0.07516615 -0.15263942  0.03383524 -0.02563958\n",
      "  0.0476753  -0.12666003 -0.00959776 -0.02109968 -0.06245253 -0.00875128\n",
      " -0.00178041 -0.03091271 -0.11207546  0.1031898  -0.10545515 -0.03577924\n",
      "  0.00257444  0.12366819 -0.02734983 -0.04280898 -0.03416311  0.09505441\n",
      "  0.05527299 -0.11892312 -0.01914176 -0.05862163 -0.04635259  0.10765322\n",
      " -0.08107345 -0.1135038   0.09878361  0.05629506  0.02197733  0.10707831\n",
      " -0.00268394 -0.03114911  0.0391801  -0.02746522  0.09569683 -0.03402639\n",
      "  0.07646494  0.0895192  -0.15449141 -0.01657521  0.03131474  0.02461373\n",
      " -0.00926267 -0.05494694 -0.02167479 -0.07581348  0.04689084  0.03928291\n",
      "  0.10213372 -0.09774797 -0.02399175 -0.09272547  0.10580733  0.04806092\n",
      " -0.04439971  0.03768713 -0.04529309  0.02818679  0.0335471   0.07575031\n",
      "  0.11871464  0.02286264  0.05948909 -0.02271286  0.02316627  0.09168021\n",
      " -0.09674159 -0.04956031 -0.08799832  0.02301064  0.00251283  0.00871363\n",
      " -0.03506127  0.01624537 -0.09712505  0.08171041 -0.01584444  0.11685474\n",
      " -0.08703203 -0.16151333 -0.06697529  0.0037954   0.02697637 -0.03403687\n",
      "  0.02372802 -0.09102132 -0.00044642 -0.1324239  -0.07455586 -0.03516284\n",
      " -0.04165157 -0.07725596 -0.08924738 -0.10860679 -0.08316398  0.02183609\n",
      "  0.12936063  0.06145339  0.23452222 -0.18736972  0.00740059  0.14760081\n",
      " -0.07170416 -0.07605122  0.01006139  0.03745596 -0.03964072  0.10566227\n",
      " -0.22415099 -0.08857846  0.00079571  0.03804855  0.05334345  0.00096599]\n",
      "\n",
      "Layer <keras.layers.core.Dense object at 0x1c320fe748>: bias = [[-0.02732295 -0.31853372 -0.09195531 ...  0.13631417 -0.21498135\n",
      "   0.18009281]\n",
      " [-0.14015791 -0.20671992  0.14691155 ... -0.26143688  0.13351601\n",
      "  -0.03170246]\n",
      " [ 0.23863994 -0.04188918 -0.09216373 ...  0.15384203  0.04554929\n",
      "   0.10863001]\n",
      " ...\n",
      " [-0.03982481  0.1063939   0.22432086 ... -0.31292135 -0.01039058\n",
      "  -0.07119317]\n",
      " [-0.24651209 -0.14533865  0.24969347 ... -0.05353055 -0.04213504\n",
      "  -0.0648186 ]\n",
      " [-0.06275137  0.02051309 -0.05756266 ... -0.32737204 -0.2649217\n",
      "  -0.42664376]], weights = [-0.0543698  -0.11517239  0.03988451 -0.07362565  0.19967711 -0.04133971\n",
      "  0.00128267 -0.02012269 -0.03348514  0.19060723  0.04879569 -0.11064509\n",
      " -0.09731954 -0.03543122 -0.04295823 -0.0368186  -0.05777152  0.01768161\n",
      " -0.0399446  -0.05686904  0.04750655 -0.10779569  0.00458444 -0.09332054\n",
      " -0.04232093 -0.08838153  0.03291962  0.14472064 -0.01201973 -0.19377215\n",
      " -0.07031789 -0.00045705 -0.11982372  0.00073826 -0.05256292 -0.09773891\n",
      "  0.10425702 -0.09014738  0.00846856 -0.15284619 -0.04985996 -0.18892068\n",
      " -0.12009157  0.08510183 -0.00999586 -0.1362928   0.06942034  0.00500919\n",
      " -0.00994253 -0.04431522 -0.12608941 -0.03474012 -0.03830511 -0.04738754\n",
      " -0.01870745 -0.06165791 -0.06180039 -0.03645764  0.11591768  0.18285078\n",
      "  0.04167129 -0.1398625  -0.04645254  0.020515   -0.08444459 -0.01970324\n",
      " -0.07506089  0.19827223  0.10929601 -0.00145025 -0.07309395 -0.09566396\n",
      " -0.19736837 -0.08873779  0.07115267 -0.01926102  0.00517016  0.0750306\n",
      "  0.00331911  0.06481898  0.01846904 -0.14415829 -0.01411896 -0.02864237\n",
      " -0.06552474 -0.07919356  0.04651927 -0.039331    0.0013487  -0.02748445\n",
      " -0.04118202 -0.00404581 -0.11969384  0.01297959  0.00243395 -0.0012608\n",
      " -0.07450342  0.0264605   0.11239999 -0.06759176 -0.07195535 -0.02716064\n",
      "  0.04574405 -0.04170737 -0.11611979 -0.07546952  0.03745272 -0.05222839\n",
      " -0.0493357  -0.04262318 -0.04160205 -0.04028488  0.04240101 -0.12551294\n",
      "  0.10496996 -0.08549143  0.01609881 -0.05431185 -0.01835273  0.14617835\n",
      " -0.08305046 -0.10763241 -0.15406981  0.0949367  -0.00885392 -0.07912041\n",
      " -0.01381718 -0.0284501  -0.12374119 -0.12900177  0.01017525  0.20352644\n",
      " -0.0751827  -0.04114966 -0.01648964  0.1327834  -0.10596333 -0.02568713\n",
      " -0.03237866  0.18463027 -0.00213129 -0.13724332  0.12397812  0.09210706\n",
      "  0.14128134 -0.04715553 -0.02917206  0.04579758  0.01523347  0.05380147]\n",
      "\n",
      "Layer <keras.layers.core.Dense object at 0x1c32112898>: bias = [[-0.14180894 -0.31615788  0.10612755 ... -0.03412278 -0.1569332\n",
      "   0.10352683]\n",
      " [-0.03011073  0.2336724  -0.26051253 ... -0.28454572 -0.01096247\n",
      "   0.16624212]\n",
      " [ 0.15883744  0.08661164  0.05922827 ... -0.25871652  0.03647969\n",
      "  -0.17711344]\n",
      " ...\n",
      " [-0.3564618   0.00121896 -0.08786264 ... -0.12969138  0.0592134\n",
      "  -0.0131162 ]\n",
      " [-0.3645003   0.23537964 -0.15748063 ...  0.11601502 -0.11451484\n",
      "  -0.02788723]\n",
      " [ 0.08026176 -0.21523573 -0.05690457 ... -0.10134702  0.21176568\n",
      "   0.17501962]], weights = [-0.01674656  0.08930251 -0.03214475  0.07234962  0.06019392 -0.12886551\n",
      " -0.13621123 -0.00235242 -0.09180449  0.08896334 -0.11699909  0.02814524\n",
      " -0.14426225 -0.1357192   0.02784098 -0.16534074 -0.03594779 -0.1887594\n",
      "  0.28748104  0.07924728 -0.05325488 -0.14323457  0.0529848  -0.18300904\n",
      "  0.03275239  0.08036081 -0.10264654 -0.14883317 -0.08647659  0.18956931\n",
      " -0.11245871 -0.13805418  0.00440726  0.17716825 -0.10794751 -0.05567124\n",
      "  0.06607435 -0.04215528 -0.07076174 -0.16531076  0.00511992 -0.17406204\n",
      " -0.06451029 -0.10263325 -0.03946053 -0.07408781  0.00346052  0.31497845\n",
      " -0.02711567  0.0446936  -0.14140344 -0.02843137  0.112854   -0.07534909\n",
      "  0.07257537 -0.10128449 -0.02637808 -0.01080009  0.02930816  0.03354435\n",
      "  0.07609259 -0.16528574  0.00265348  0.17220524  0.15116261  0.17091678\n",
      " -0.05078695 -0.01787429 -0.04511382 -0.03576836 -0.11556499  0.0294484\n",
      " -0.12009637  0.26195833 -0.0747195   0.10346722  0.17333366 -0.06559829\n",
      " -0.08064023 -0.07793635 -0.05299271 -0.00860158 -0.0698811   0.22170302\n",
      " -0.07806912  0.02134372 -0.00141027 -0.03363699 -0.12146984 -0.19779201\n",
      " -0.09704278 -0.02464726 -0.07799435  0.0878775  -0.15562157  0.21866138\n",
      " -0.0392111  -0.12057247 -0.03366978 -0.14522296  0.05793865 -0.05739414\n",
      " -0.15842362 -0.1185789   0.03038113 -0.08564926  0.13543679 -0.12742567\n",
      "  0.10093849 -0.05468037  0.09129896 -0.10809387 -0.14022213 -0.02736906\n",
      "  0.05711833 -0.12651148 -0.06260719 -0.11777322  0.08986311  0.13685408\n",
      " -0.03493595 -0.06491097  0.01321215 -0.08547881 -0.01385202 -0.04313875\n",
      " -0.16134664 -0.10637803 -0.13871674  0.17645603 -0.06812228  0.00437501\n",
      " -0.06381531 -0.00865802 -0.02079965 -0.0951104  -0.11600965 -0.00811686\n",
      " -0.08646609 -0.09073818  0.00542733 -0.01039545 -0.04787485 -0.17084417\n",
      "  0.00321936 -0.1137186   0.10952083  0.02562026 -0.10960543  0.10107791]\n",
      "\n",
      "Layer <keras.layers.core.Dense object at 0x1c3212f780>: bias = [[ 0.15227628 -0.15236305 -0.05275494 ... -0.21335538 -0.17996985\n",
      "  -0.02549258]\n",
      " [-0.13364653 -0.00428345 -0.00915926 ... -0.11230397 -0.15100755\n",
      "  -0.10835425]\n",
      " [ 0.05903495  0.16889891 -0.2003901  ...  0.11825802 -0.26438403\n",
      "   0.00093281]\n",
      " ...\n",
      " [ 0.11767274 -0.38396895 -0.2602447  ...  0.06148161 -0.08593465\n",
      "  -0.26809597]\n",
      " [-0.09840984 -0.04901235  0.11250127 ...  0.08433014 -0.08252811\n",
      "  -0.15456647]\n",
      " [-0.21243772 -0.15539083  0.03898299 ... -0.26863736 -0.03122723\n",
      "   0.02660586]], weights = [-0.20466188  0.05702714 -0.0879759  -0.06994724 -0.01242648 -0.08172306\n",
      " -0.02515345 -0.16582105 -0.15867917 -0.2295137   0.16032587 -0.15470906\n",
      " -0.10694978  0.11847712 -0.18097396 -0.19344418 -0.0408366  -0.22328714\n",
      " -0.09251881 -0.16020416 -0.04655705 -0.02835567  0.09935463 -0.0608125\n",
      "  0.03984821  0.04085301  0.07533276  0.08759938 -0.20110813  0.0391054\n",
      "  0.01775115 -0.00196412 -0.17246878 -0.04085207  0.00808311 -0.0622295\n",
      "  0.02401572  0.25682774  0.06102398  0.26185572  0.09453822 -0.09155444\n",
      "  0.05019771  0.22893293 -0.05887078  0.07639038 -0.03179454 -0.00739359\n",
      "  0.00423743 -0.04156253  0.03759776  0.30210665 -0.13947299  0.09010299\n",
      " -0.09665629 -0.04030806 -0.03636963  0.14968847 -0.09957648  0.04759607\n",
      "  0.04366951 -0.14301439  0.24783082 -0.00228424 -0.00874659  0.19164573\n",
      "  0.06836212  0.04299679 -0.04356898  0.08317529 -0.05110346 -0.08724947\n",
      " -0.01427722 -0.0471821  -0.00942624 -0.00813884  0.11901782  0.07635831\n",
      "  0.04851605 -0.16030294 -0.07054511  0.2692065   0.0043211  -0.08984777\n",
      "  0.22182669 -0.04346291 -0.00359272 -0.03581366 -0.10986272  0.28111956\n",
      " -0.00766874  0.12122745  0.03626982 -0.00451502  0.05092864 -0.12526527\n",
      "  0.07673299  0.0044044   0.02675655 -0.17751789 -0.05340562 -0.11528607\n",
      "  0.3286745   0.08594971 -0.00784812 -0.07533514  0.12073079  0.16617247\n",
      "  0.00523433  0.0449298  -0.2064015  -0.0551113  -0.18589325 -0.12837465\n",
      " -0.07376404 -0.08129467 -0.02764586 -0.06856617 -0.04638909 -0.07050116\n",
      " -0.0954794   0.03203884  0.05633688 -0.11748732 -0.12135094 -0.06619491\n",
      "  0.03353694 -0.07460311 -0.08695786 -0.04285272 -0.15057594 -0.02016612\n",
      "  0.08417642 -0.14732942 -0.1163314  -0.06488206  0.31417328 -0.07629831\n",
      "  0.04330887 -0.01765554 -0.01380948 -0.06898741 -0.15684012 -0.10594316\n",
      "  0.03708851 -0.15243748 -0.09179555 -0.06039665  0.09067715 -0.10246172]\n",
      "\n",
      "Layer <keras.layers.core.Dense object at 0x1c3214b978>: bias = [[-0.07541686  0.04897612 -0.06841666 ... -0.15178719  0.01500263\n",
      "   0.0161406 ]\n",
      " [-0.03181832  0.03347785 -0.10782083 ... -0.00797706 -0.19446531\n",
      "  -0.01257756]\n",
      " [ 0.01534485  0.02225693  0.02420521 ... -0.1381666  -0.09135618\n",
      "  -0.27867994]\n",
      " ...\n",
      " [ 0.04269268  0.06859006  0.1131229  ... -0.07053817 -0.14966793\n",
      "  -0.2622244 ]\n",
      " [ 0.2145496  -0.21224767 -0.13248308 ...  0.10054012  0.03473476\n",
      "  -0.2231745 ]\n",
      " [ 0.01755133 -0.05964469 -0.04940374 ... -0.0295502  -0.09449794\n",
      "   0.08851884]], weights = [ 0.09196797 -0.07614139  0.080585    0.0754363  -0.03237384  0.07183439\n",
      "  0.05692089  0.20768331  0.06131856 -0.07965214  0.07790913 -0.10025693\n",
      "  0.24973148  0.0525286   0.16522732 -0.04908158 -0.15527475 -0.11757634\n",
      "  0.1273646   0.0471362   0.09432424  0.18813656 -0.06264415  0.11901721\n",
      "  0.08906035 -0.07133536 -0.00965079  0.19736296  0.20424512 -0.060545\n",
      " -0.11413988  0.26346052  0.1639963   0.14262144  0.2594275   0.00166279\n",
      "  0.09939568  0.0284846  -0.02624328  0.14389628 -0.10957634 -0.05944664\n",
      " -0.13284168 -0.00550692 -0.20245668 -0.08191283  0.10395071 -0.03425447\n",
      " -0.01520653  0.02763592 -0.14787042 -0.07892042  0.13809301 -0.09231078\n",
      " -0.13186942 -0.15788502  0.01904382  0.00559517 -0.10746749 -0.07814332\n",
      " -0.03307285 -0.02140296  0.2540144  -0.01752333  0.03255035  0.00976848\n",
      " -0.13633443  0.18378204  0.05062079 -0.00985248 -0.08256438  0.33069593\n",
      "  0.02735384  0.02753641 -0.06257477 -0.08647829  0.0721544  -0.08247027\n",
      "  0.05703786  0.07403405  0.12739827 -0.01215259 -0.07929863 -0.07819396\n",
      "  0.13016748 -0.0276833   0.1164213   0.30165294 -0.039829    0.01571166\n",
      " -0.01184096  0.11531163 -0.04861951  0.06629908 -0.06874039 -0.08179805\n",
      "  0.10815343  0.14509705  0.10228499 -0.10257742 -0.01802752 -0.14390442\n",
      " -0.18964389 -0.04975903 -0.02271653  0.09611392 -0.0301083  -0.03114523\n",
      "  0.00892483  0.26909366  0.01220096  0.15942983  0.22126254 -0.17305823\n",
      " -0.09662047  0.01320372  0.0639512  -0.07077929  0.1495455  -0.08795003\n",
      " -0.07687204  0.13091251  0.24725516 -0.09511872  0.12836489 -0.08761774\n",
      " -0.18980494  0.08259924  0.27409008  0.15438162 -0.10683512  0.00807209\n",
      "  0.22462294  0.00830197 -0.02611206  0.24609466  0.01510563  0.0969336\n",
      "  0.08314769 -0.16090395  0.19297913 -0.02513787 -0.09855913  0.02283537\n",
      "  0.01880437 -0.0478663   0.02904831 -0.04605344  0.03663719 -0.14482872]\n",
      "\n",
      "Layer <keras.layers.core.Dense object at 0x1c32529b70>: bias = [[-0.05362678 -0.11144917 -0.04082883 ...  0.05559959  0.09228034\n",
      "  -0.16545352]\n",
      " [ 0.15355507  0.02118754 -0.02605624 ...  0.06367     0.09301531\n",
      "   0.11740742]\n",
      " [ 0.04621119  0.10456145 -0.2026675  ... -0.11444558  0.04943635\n",
      "   0.06958971]\n",
      " ...\n",
      " [ 0.01085706 -0.01806726 -0.05357122 ... -0.06791402  0.1853412\n",
      "   0.20978887]\n",
      " [ 0.12548776  0.05730746 -0.09159727 ...  0.09265956  0.17110491\n",
      "   0.02942778]\n",
      " [-0.00604597 -0.01575855  0.16800201 ...  0.13795674  0.20249748\n",
      "  -0.04884269]], weights = [ 0.17800412  0.2235406   0.17182493 -0.09078304  0.09922754 -0.08143275\n",
      " -0.04352336 -0.14925146 -0.18564656 -0.07968622  0.19003898 -0.06348512\n",
      "  0.20777562  0.06655347  0.01516641 -0.10539016 -0.13172276  0.2039252\n",
      "  0.05809953  0.16444142 -0.20226994 -0.06868482 -0.06266632  0.15765849\n",
      " -0.05110709  0.21023592 -0.0426533  -0.10682116  0.15340975  0.02724114\n",
      "  0.05147044 -0.00961355  0.03107894  0.02565057  0.19219723  0.05228718\n",
      "  0.12817895  0.0244306  -0.04523967  0.06237188  0.09133218  0.02892224\n",
      "  0.08725943  0.06869251  0.24584101  0.24018736 -0.16115685 -0.03810537\n",
      "  0.01999647  0.05777486  0.03537175  0.2963735  -0.06595162 -0.07116505\n",
      " -0.0757491   0.18824606 -0.1199131   0.02575187  0.13870767 -0.0109721\n",
      "  0.08719008 -0.07631627  0.01483139 -0.02387086 -0.15819356  0.22248688\n",
      "  0.01907394  0.01122893  0.25063026  0.07916029 -0.02539702  0.22110887\n",
      " -0.00222872  0.34427452 -0.07774179  0.18386124  0.0625958  -0.05410929\n",
      "  0.1042841   0.2874977  -0.08978275  0.15947857 -0.08101308 -0.07878163\n",
      " -0.04264052  0.00330621  0.05680999  0.11760367 -0.01653528  0.03537194\n",
      "  0.34244785  0.18603475  0.32815412  0.03146833  0.17367703  0.24107684\n",
      "  0.04228546 -0.10719011  0.02592356  0.2453445   0.09160167 -0.03118898\n",
      "  0.17025152 -0.11685087  0.00607711  0.29111618 -0.03721896  0.22966781\n",
      "  0.08983764 -0.089297   -0.06871275 -0.05017089  0.20851906 -0.08212427\n",
      " -0.07415392  0.32791227 -0.10416474 -0.02043294 -0.02466119  0.06387041\n",
      "  0.11996544  0.14781237  0.17163113  0.04161642 -0.07152817  0.31845754\n",
      " -0.02952758  0.03038084  0.00784725  0.156484    0.03345712  0.03447775\n",
      " -0.08574147  0.04102213  0.00614901 -0.09346092 -0.00059042 -0.02381807\n",
      "  0.03043556  0.14663985  0.03095453 -0.0906315   0.11358785  0.12553164\n",
      "  0.1115035   0.11890134  0.09163848  0.15408152  0.03884726  0.09353096]\n",
      "\n"
     ]
    },
    {
     "name": "stdout",
     "output_type": "stream",
     "text": [
      "Layer <keras.layers.core.Dense object at 0x1c32545d68>: bias = [[ 0.04172406 -0.10078906 -0.491488   ...  0.01958196 -0.16575585\n",
      "   0.08645366]\n",
      " [-0.55278635 -0.40820527 -0.05706439 ... -0.10045129 -0.0264737\n",
      "   0.05908872]\n",
      " [ 0.11393718  0.0911247   0.10272958 ... -0.33233657  0.11393523\n",
      "   0.09127951]\n",
      " ...\n",
      " [ 0.00640169 -0.1893836  -0.26626158 ...  0.08385722  0.13328674\n",
      "   0.09454715]\n",
      " [-0.2139064   0.06891532  0.06353159 ... -0.13116114 -0.18272813\n",
      "  -0.36755666]\n",
      " [-0.3136107   0.06397653 -0.12631705 ... -0.29465476 -0.02937835\n",
      "   0.12253556]], weights = [-0.03812976 -0.15220971  0.06029774 -0.10208245 -0.01077733  0.11289982\n",
      " -0.19938987 -0.08685791  0.1788317   0.08341153]\n",
      "\n",
      "Total number of weights and biases: 2594\n",
      "21000/21000 [==============================] - 1s 64us/step\n"
     ]
    }
   ],
   "source": [
    "accuracy = test_MLP_param(150, 7, get_weights=True)"
   ]
  },
  {
   "cell_type": "code",
   "execution_count": 20,
   "metadata": {
    "scrolled": true
   },
   "outputs": [
    {
     "data": {
      "text/plain": [
       "0.977"
      ]
     },
     "execution_count": 20,
     "metadata": {},
     "output_type": "execute_result"
    }
   ],
   "source": [
    "accuracy"
   ]
  },
  {
   "cell_type": "markdown",
   "metadata": {},
   "source": [
    "Since I tested with the same number of neurons (150) for each layer, the resulted NN is a rather complex model with 2,594 weights and biases. It can be further fine-tuned by varying the number of neurons on each layer to achieve better accuracy.\n",
    "\n",
    "The fully-connected NN has three hyperparameters:\n",
    "- number of layers $(7)$\n",
    "- number of neurons per layer $(150)$\n",
    "- weights and biases $(2594)$\n",
    "\n",
    "The plots above suggest that the NN's performance significantly improved when the number of layer inreased from 1 to 7. With 7 layers, adding more neurons to each layer also helped to improve accuracy. Since the model is fairly complex with over 2000 weights and biases, adding more layers or more neurons per layer after the optimal point affected the overall performance. This is likely due to overfitting."
   ]
  }
 ],
 "metadata": {
  "kernelspec": {
   "display_name": "Python 3",
   "language": "python",
   "name": "python3"
  },
  "language_info": {
   "codemirror_mode": {
    "name": "ipython",
    "version": 3
   },
   "file_extension": ".py",
   "mimetype": "text/x-python",
   "name": "python",
   "nbconvert_exporter": "python",
   "pygments_lexer": "ipython3",
   "version": "3.6.5"
  }
 },
 "nbformat": 4,
 "nbformat_minor": 2
}
