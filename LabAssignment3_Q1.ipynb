{
 "cells": [
  {
   "cell_type": "code",
   "execution_count": 16,
   "metadata": {},
   "outputs": [],
   "source": [
    "import numpy as np\n",
    "import pandas as pd\n",
    "import matplotlib.pyplot as plt \n",
    "%matplotlib inline\n",
    "from sklearn.datasets import fetch_mldata, fetch_lfw_people\n",
    "from sklearn.model_selection import cross_val_score, train_test_split, KFold\n",
    "from sklearn.preprocessing import StandardScaler \n",
    "from sklearn.decomposition import PCA\n",
    "from sklearn.neighbors import KNeighborsClassifier\n",
    "from sklearn.svm import LinearSVC, SVC\n",
    "from sklearn.naive_bayes import GaussianNB\n",
    "from sklearn.ensemble import RandomForestClassifier\n",
    "import time"
   ]
  },
  {
   "cell_type": "markdown",
   "metadata": {},
   "source": [
    "### Image Classification with Dimensionality Reduction\n",
    "### (a) i. Load two datasets: MNIST (number recognition), LFW (face recognition)."
   ]
  },
  {
   "cell_type": "code",
   "execution_count": 2,
   "metadata": {},
   "outputs": [],
   "source": [
    "import warnings\n",
    "warnings.filterwarnings(\"ignore\", category=DeprecationWarning)\n",
    "\n",
    "mnist = fetch_mldata('MNIST original')\n",
    "lfw = fetch_lfw_people()"
   ]
  },
  {
   "cell_type": "markdown",
   "metadata": {},
   "source": [
    "### (a) ii. Split each dataset into a 75/25 train/test split."
   ]
  },
  {
   "cell_type": "code",
   "execution_count": 3,
   "metadata": {},
   "outputs": [
    {
     "data": {
      "text/plain": [
       "(70000, 784)"
      ]
     },
     "execution_count": 3,
     "metadata": {},
     "output_type": "execute_result"
    }
   ],
   "source": [
    "mnist['data'].shape"
   ]
  },
  {
   "cell_type": "code",
   "execution_count": 4,
   "metadata": {
    "scrolled": true
   },
   "outputs": [
    {
     "data": {
      "text/plain": [
       "(70000,)"
      ]
     },
     "execution_count": 4,
     "metadata": {},
     "output_type": "execute_result"
    }
   ],
   "source": [
    "mnist['target'].shape"
   ]
  },
  {
   "cell_type": "code",
   "execution_count": 5,
   "metadata": {},
   "outputs": [],
   "source": [
    "# sample part of the dataset for speed\n",
    "mnist_small_idx = np.random.randint(0,70000,size=2000)"
   ]
  },
  {
   "cell_type": "code",
   "execution_count": 6,
   "metadata": {},
   "outputs": [],
   "source": [
    "mnist_X_train_original, mnist_X_test_original, mnist_Y_train, mnist_Y_test = train_test_split(mnist['data'][mnist_small_idx], \n",
    "                                                                                              mnist['target'][mnist_small_idx], \n",
    "                                                                                              random_state=123, \n",
    "                                                                                              shuffle=False)\n",
    "\n",
    "lfw_X_train_original, lfw_X_test_original, lfw_Y_train, lfw_Y_test = train_test_split(lfw.data, lfw.target, \n",
    "                                                                                      random_state=456, \n",
    "                                                                                      shuffle=False)"
   ]
  },
  {
   "cell_type": "code",
   "execution_count": 7,
   "metadata": {},
   "outputs": [],
   "source": [
    "# helper functions for PCA\n",
    "def plot_explained_variance(n_feature, X_train):\n",
    "    pca = PCA(n_feature)\n",
    "    pca_full = pca.fit(X_train)\n",
    "    plt.plot(np.cumsum(pca_full.explained_variance_ratio_))\n",
    "    plt.xlabel(\"number of principal components\")\n",
    "    plt.ylabel(\"cumulative explained variance\")\n",
    "    plt.grid(color='grey',linestyle='-',alpha=0.2)\n",
    "    plt.show()\n",
    "    \n",
    "def preprocess_pca(X_train, X_test, r=None):\n",
    "    pca = PCA(n_components=dim, random_state=r)\n",
    "    X_train_pca = pca.fit_transform(X_train)\n",
    "    X_test_pca = pca.transform(X_test)\n",
    "    return X_train_pca, X_test_pca    "
   ]
  },
  {
   "cell_type": "markdown",
   "metadata": {},
   "source": [
    "### (b) Feature sizes: For each dataset, train and evaluate two clssification algorithms (e.g., SVM, Naive Bayes, Decision Tree, KNN) with at least 25 different feature dimension sizes. To achieve the different feature dimension sizes, you will need to vary the number of principal components you keep using the unsupervised dimensionality reduction algorithm PCA. (Code)\n",
    "### (c) Report the predictive performance of each classifier on each dataset as a function of the feature dimension size (i.e., number of principal components). As a result, your write-up should include four plots to show results for both classifications algorithms on both datasets. (Write-up)"
   ]
  },
  {
   "cell_type": "markdown",
   "metadata": {},
   "source": [
    "### (b) MNIST"
   ]
  },
  {
   "cell_type": "code",
   "execution_count": 8,
   "metadata": {},
   "outputs": [
    {
     "name": "stderr",
     "output_type": "stream",
     "text": [
      "/Users/edithzeng/anaconda3/lib/python3.6/site-packages/sklearn/utils/validation.py:475: DataConversionWarning: Data with input dtype uint8 was converted to float64 by StandardScaler.\n",
      "  warnings.warn(msg, DataConversionWarning)\n"
     ]
    }
   ],
   "source": [
    "sc = StandardScaler()\n",
    "mnist_X_train = sc.fit_transform(mnist_X_train_original)\n",
    "mnist_X_test = sc.transform(mnist_X_test_original)"
   ]
  },
  {
   "cell_type": "code",
   "execution_count": 12,
   "metadata": {
    "scrolled": true
   },
   "outputs": [
    {
     "data": {
      "image/png": "[encoded data removed]",
      "text/plain": [
       "<Figure size 432x288 with 1 Axes>"
      ]
     },
     "metadata": {},
     "output_type": "display_data"
    }
   ],
   "source": [
    "plot_explained_variance(784, mnist_X_train)"
   ]
  },
  {
   "cell_type": "markdown",
   "metadata": {},
   "source": [
    "The explained variance indicates that over 90% of the original data's variability can be explained with about 200 principal components (the elbow in the curve). Using additional principal components gives us diminishing returns as the growth in variance decreases. Judging by the graph the hypothesis is that a classifier can achieve good performance with approximately 200 or less principal components. To test this hypothsis, I will vary the number of principal components and evaluate the linear SVM classifier and a KNN classifer's performances on the dimensionality-reduced MNIST dataset."
   ]
  },
  {
   "cell_type": "code",
   "execution_count": 10,
   "metadata": {},
   "outputs": [],
   "source": [
    "C_list = [0.1, 1.0, 10.0]\n",
    "K_list = [5, 10, 20, 40, 60, 120]\n",
    "feature_dim_list = [2, 5, 10, 20, 30] + [i*2 for i in range(20, 120)]"
   ]
  },
  {
   "cell_type": "markdown",
   "metadata": {},
   "source": [
    "#### MNIST - SVM"
   ]
  },
  {
   "cell_type": "code",
   "execution_count": 13,
   "metadata": {},
   "outputs": [],
   "source": [
    "def svm(X_train, X_test, Y_train, Y_test):\n",
    "    \n",
    "    cv_scores = []\n",
    "    for n in C_list:\n",
    "        cv_model = LinearSVC(loss='hinge', C=n, random_state=7)\n",
    "        kf = KFold(n_splits=10, shuffle=False, random_state=1)\n",
    "        score = np.mean(cross_val_score(cv_model, X_train, Y_train, cv=kf))\n",
    "        cv_scores.append(score)\n",
    "    cv_scores = np.asarray(cv_scores)\n",
    "    \n",
    "    best_c = C_list[cv_scores.argmax()]\n",
    "    model = LinearSVC(loss='hinge', C=best_c, random_state=7)\n",
    "    model.fit(X_train, Y_train)\n",
    "\n",
    "    return model.score(X_test, Y_test)"
   ]
  },
  {
   "cell_type": "code",
   "execution_count": 35,
   "metadata": {
    "scrolled": false
   },
   "outputs": [
    {
     "name": "stdout",
     "output_type": "stream",
     "text": [
      "SVM accuracy score before PCA: 0.816\n"
     ]
    }
   ],
   "source": [
    "mnist_svm_original = svm(mnist_X_train, mnist_X_test, mnist_Y_train, mnist_Y_test)\n",
    "print(\"SVM accuracy score before PCA: {}\".format(mnist_svm_original))"
   ]
  },
  {
   "cell_type": "code",
   "execution_count": 20,
   "metadata": {
    "scrolled": true
   },
   "outputs": [
    {
     "name": "stdout",
     "output_type": "stream",
     "text": [
      "Optimal number of principal components for linear SVM on MNIST: 56\n",
      "accuracy: 0.878\n",
      "Average runtime: 256.8464300042107\n"
     ]
    },
    {
     "data": {
      "image/png": "[encoded data removed]",
      "text/plain": [
       "<Figure size 432x288 with 1 Axes>"
      ]
     },
     "metadata": {},
     "output_type": "display_data"
    }
   ],
   "source": [
    "mnist_svm_scores = []\n",
    "t1_list = []\n",
    "for dim in feature_dim_list:\n",
    "    X_train, X_test = preprocess_pca(mnist_X_train, mnist_X_test, r=2)\n",
    "    t1 = time.time()\n",
    "    mnist_svm_scores.append(svm(X_train, X_test, mnist_Y_train, mnist_Y_test))\n",
    "    t1_list.append(time.time()-t1)\n",
    "\n",
    "mnist_svm_scores = np.asarray(mnist_svm_scores)\n",
    "\n",
    "plt.grid(color='grey',linestyle='-',alpha=0.2)\n",
    "plt.plot(feature_dim_list, mnist_svm_scores)\n",
    "\n",
    "plt.xlabel(\"number of principal components\")\n",
    "plt.ylabel(\"linear SVM classifier accuracy\")\n",
    "print(\"Optimal number of principal components for linear SVM on MNIST:\", feature_dim_list[mnist_svm_scores.argmax()])\n",
    "print(\"accuracy: {}\\nAverage runtime: {}\".format(max(mnist_svm_scores), np.mean(t1_list)))"
   ]
  },
  {
   "cell_type": "markdown",
   "metadata": {},
   "source": [
    "#### (c) MNIST - SVM - write up\n",
    "\n",
    "The linear SVM classifier achieved a test accuracy of 0.816 on the original dataset ($2000\\times784$) and took about 162 seconds to run. The plot shows that as we increase the number of principal components from 2, the linear SVM classifier's performance on the test set continues to improve. After PCA dimensionality reduction, the classifier achieves an accuracy of 0.878 with only 56 principal components. After this point, adding more principal components did not yield a significant increase in accuracy."
   ]
  },
  {
   "cell_type": "markdown",
   "metadata": {},
   "source": [
    "#### MNIST - KNN"
   ]
  },
  {
   "cell_type": "code",
   "execution_count": 21,
   "metadata": {},
   "outputs": [],
   "source": [
    "def knn(X_train, X_test, Y_train, Y_test):\n",
    "    \n",
    "    # cross validate to select optimal K\n",
    "    cv_scores = []\n",
    "    for k in K_list:\n",
    "        cv_model = KNeighborsClassifier(n_neighbors=k)\n",
    "        kf = KFold(n_splits=10, shuffle=False, random_state=1)\n",
    "        score = np.mean(cross_val_score(cv_model, X_train, Y_train, cv=kf))\n",
    "        cv_scores.append(score)\n",
    "    cv_scores = np.asarray(cv_scores)\n",
    "    \n",
    "    # test accuracy\n",
    "    best_k = K_list[cv_scores.argmax()]\n",
    "    model = KNeighborsClassifier(n_neighbors=best_k)\n",
    "    model.fit(X_train, Y_train)\n",
    "\n",
    "    return model.score(X_test, Y_test)"
   ]
  },
  {
   "cell_type": "code",
   "execution_count": 23,
   "metadata": {},
   "outputs": [
    {
     "name": "stdout",
     "output_type": "stream",
     "text": [
      "KNN accuracy score before PCA:0.866\n",
      "runtime: 33.289095878601074\n"
     ]
    }
   ],
   "source": [
    "t2 = time.time()\n",
    "knn_mnist_original_score = knn(mnist_X_train, mnist_X_test, mnist_Y_train, mnist_Y_test)\n",
    "dt2 = time.time() - t2\n",
    "print(\"KNN accuracy score before PCA:{}\\nruntime: {}\".format(knn_mnist_original_score, dt2))"
   ]
  },
  {
   "cell_type": "code",
   "execution_count": 24,
   "metadata": {
    "scrolled": true
   },
   "outputs": [
    {
     "name": "stdout",
     "output_type": "stream",
     "text": [
      "Optimal number of principal components for KNN on MNIST: 44\n",
      "accuracy: 0.892\n",
      "Average runtime: 3.9989661625453405\n"
     ]
    },
    {
     "data": {
      "image/png": "[encoded data removed]",
      "text/plain": [
       "<Figure size 432x288 with 1 Axes>"
      ]
     },
     "metadata": {},
     "output_type": "display_data"
    }
   ],
   "source": [
    "mnist_knn_scores = []\n",
    "t3_list = []\n",
    "for dim in feature_dim_list:\n",
    "    X_train, X_test = preprocess_pca(mnist_X_train, mnist_X_test, r=2)\n",
    "    t3 = time.time()\n",
    "    mnist_knn_scores.append(knn(X_train, X_test, mnist_Y_train, mnist_Y_test))\n",
    "    t3_list.append(time.time()-t3)\n",
    "\n",
    "mnist_knn_scores = np.asarray(mnist_knn_scores)\n",
    "\n",
    "plt.grid(color='grey',linestyle='-',alpha=0.2)\n",
    "plt.plot(feature_dim_list, mnist_knn_scores)\n",
    "\n",
    "plt.xlabel(\"number of principal components\")\n",
    "plt.ylabel(\"KNN classifier accuracy\")\n",
    "print(\"Optimal number of principal components for KNN on MNIST:\", feature_dim_list[mnist_knn_scores.argmax()])\n",
    "print(\"accuracy: {}\\nAverage runtime: {}\".format(max(mnist_knn_scores), np.mean(t3_list)))"
   ]
  },
  {
   "cell_type": "markdown",
   "metadata": {},
   "source": [
    "#### (c) MNIST - KNN - write up"
   ]
  },
  {
   "cell_type": "markdown",
   "metadata": {},
   "source": [
    "The KNN classifier has a better overall performance compared to the linear SVM classifier. It achieved an accuracy of 0.866 in 33 seconds on the original dataset. After reducing dimensionality from 784 to 44, the optimal performance has an accuracy of 0.89. The process is also significantly faster; the average runtime after each PCA projection is about 4 seconds. Similar to the linear SVM classifier, the accuracy curve becomes flat after reaching the optimal number of principal components.\n",
    "\n",
    "Results from KNN and SVM have comfirmed the hypothesis that using under 200 principal components is sufficient for the  classification task on this (reduced) MNIST dataset."
   ]
  },
  {
   "cell_type": "markdown",
   "metadata": {},
   "source": [
    "### (b) LFW"
   ]
  },
  {
   "cell_type": "code",
   "execution_count": 25,
   "metadata": {
    "scrolled": false
   },
   "outputs": [
    {
     "data": {
      "text/plain": [
       "(13233, 2914)"
      ]
     },
     "execution_count": 25,
     "metadata": {},
     "output_type": "execute_result"
    }
   ],
   "source": [
    "lfw.data.shape"
   ]
  },
  {
   "cell_type": "code",
   "execution_count": 26,
   "metadata": {},
   "outputs": [],
   "source": [
    "sc2 = StandardScaler()\n",
    "lfw_X_train = sc2.fit_transform(lfw_X_train_original)\n",
    "lfw_X_test = sc2.transform(lfw_X_test_original)"
   ]
  },
  {
   "cell_type": "code",
   "execution_count": 27,
   "metadata": {
    "scrolled": true
   },
   "outputs": [
    {
     "data": {
      "image/png": "[encoded data removed]",
      "text/plain": [
       "<Figure size 432x288 with 1 Axes>"
      ]
     },
     "metadata": {},
     "output_type": "display_data"
    }
   ],
   "source": [
    "plot_explained_variance(2914, lfw_X_train)"
   ]
  },
  {
   "cell_type": "markdown",
   "metadata": {},
   "source": [
    "The LFW dataset has a higher dimension (2914) than the MNIST dataset (784). The plot suggests that using approximately 300 or less principal components suffices."
   ]
  },
  {
   "cell_type": "code",
   "execution_count": 28,
   "metadata": {},
   "outputs": [],
   "source": [
    "feature_dim_list_lfw = [5, 10, 20, 70, 100, 140, 200, 250]"
   ]
  },
  {
   "cell_type": "markdown",
   "metadata": {},
   "source": [
    "#### LFW - Naive Bayes "
   ]
  },
  {
   "cell_type": "code",
   "execution_count": 29,
   "metadata": {},
   "outputs": [],
   "source": [
    "def nb(X_train, X_test, Y_train, Y_test):\n",
    "    model = GaussianNB()\n",
    "    model.fit(X_train, Y_train)\n",
    "    return model.score(X_test, Y_test)"
   ]
  },
  {
   "cell_type": "code",
   "execution_count": 30,
   "metadata": {},
   "outputs": [
    {
     "name": "stdout",
     "output_type": "stream",
     "text": [
      "Naive Bayes accuracy on original LFW dataset: 0.051979449984889695\n",
      "runtime: 578.1048769950867\n"
     ]
    }
   ],
   "source": [
    "t4 = time.time()\n",
    "nb_lfw_original_score = nb(lfw_X_train, lfw_X_test, lfw_Y_train, lfw_Y_test)\n",
    "dt4 = time.time() - t4\n",
    "print(\"Naive Bayes accuracy on original LFW dataset: {}\\nruntime: {}\".format(nb_lfw_original_score, dt4))"
   ]
  },
  {
   "cell_type": "code",
   "execution_count": 36,
   "metadata": {},
   "outputs": [
    {
     "name": "stdout",
     "output_type": "stream",
     "text": [
      "Optimal number of principal components for Naive Bayesian classifier on LFW: 100\n",
      "Accuracy: 0.12692656391659113\n",
      "Average runtime: 20.827672004699707\n"
     ]
    },
    {
     "data": {
      "image/png": "[encoded data removed]",
      "text/plain": [
       "<Figure size 432x288 with 1 Axes>"
      ]
     },
     "metadata": {},
     "output_type": "display_data"
    }
   ],
   "source": [
    "lfw_nb_scores = []\n",
    "lfw_nb_t = []\n",
    "\n",
    "for dim in feature_dim_list_lfw:\n",
    "    X_train, X_test = preprocess_pca(lfw_X_train, lfw_X_test)\n",
    "    lfw_t0 = time.time()\n",
    "    lfw_nb_scores.append(nb(X_train, X_test, lfw_Y_train, lfw_Y_test))\n",
    "    lfw_nb_t.append(time.time()-lfw_t0)\n",
    "    \n",
    "lfw_nb_scores = np.asarray(lfw_nb_scores)\n",
    "\n",
    "plt.grid(color='grey',linestyle='-',alpha=0.2)\n",
    "plt.plot(feature_dim_list_lfw, lfw_nb_scores)\n",
    "\n",
    "plt.xlabel(\"number of principal components\")\n",
    "plt.ylabel(\"Naive Bayesian classifier accuracy\")\n",
    "print(\"Optimal number of principal components for Naive Bayesian classifier on LFW:\", feature_dim_list_lfw[lfw_nb_scores.argmax()])\n",
    "print(\"Accuracy: {}\\nAverage runtime: {}\".format(max(lfw_nb_scores), np.mean(lfw_nb_t)))"
   ]
  },
  {
   "cell_type": "markdown",
   "metadata": {},
   "source": [
    "#### (c) LFW - Naive Bayes - Write up "
   ]
  },
  {
   "cell_type": "markdown",
   "metadata": {},
   "source": [
    "Accuracy of the naive Bayes classifier on the original dataset ($13233\\times2914$) achieved an accuracy of 0.05 in 578 seconds. By reducing dimensionality to 100 principal components, the accuracy increased to 0.12 and the average run time is much shorter at 23 seconds. Judging by the plot, the classifier's performance deteriorates after using 100 principal components."
   ]
  },
  {
   "cell_type": "markdown",
   "metadata": {},
   "source": [
    "#### LFW - Random Forest"
   ]
  },
  {
   "cell_type": "code",
   "execution_count": 32,
   "metadata": {},
   "outputs": [],
   "source": [
    "def rf(X_train, X_test, Y_train, Y_test, fold=10):\n",
    "    model = RandomForestClassifier(n_estimators=30, max_features='sqrt', oob_score=True, warm_start=True)\n",
    "    model.fit(X_train, Y_train)\n",
    "    model.oob_score_\n",
    "    return model.score(X_test, Y_test)"
   ]
  },
  {
   "cell_type": "code",
   "execution_count": 33,
   "metadata": {},
   "outputs": [
    {
     "name": "stdout",
     "output_type": "stream",
     "text": [
      "Random forest on original LFW dataset\n",
      "Accuracy: 0.06406769416742218\n",
      "Runtime: 4296.494551181793\n"
     ]
    }
   ],
   "source": [
    "rf_t0 = time.time()\n",
    "lfw_rf_original_score = rf(lfw_X_train, lfw_X_test, lfw_Y_train, lfw_Y_test)\n",
    "rf_dt = time.time() - rf_t0\n",
    "print(\"Random forest on original LFW dataset\\nAccuracy: {}\\nRuntime: {}\".format(lfw_rf_original_score, rf_dt))"
   ]
  },
  {
   "cell_type": "code",
   "execution_count": 34,
   "metadata": {
    "scrolled": true
   },
   "outputs": [
    {
     "name": "stdout",
     "output_type": "stream",
     "text": [
      "Optimal number of principal components for random forest classifier on LFW: 20\n",
      "Accuracy: 0.061952251435479\n",
      " Average runtime: 1291.0738012492657\n"
     ]
    },
    {
     "data": {
      "image/png": "[encoded data removed]",
      "text/plain": [
       "<Figure size 432x288 with 1 Axes>"
      ]
     },
     "metadata": {},
     "output_type": "display_data"
    }
   ],
   "source": [
    "rft_list = []\n",
    "lfw_rf_scores = []\n",
    "\n",
    "for dim in feature_dim_list_lfw:\n",
    "    X_train, X_test = preprocess_pca(lfw_X_train, lfw_X_test)\n",
    "    rft = time.time()\n",
    "    lfw_rf_scores.append(rf(X_train, X_test, lfw_Y_train, lfw_Y_test))\n",
    "    rft_list.append(time.time()-rft)\n",
    "\n",
    "lfw_rf_scores = np.asarray(lfw_rf_scores)\n",
    "\n",
    "plt.grid(color='grey',linestyle='-',alpha=0.2)\n",
    "plt.plot(feature_dim_list_lfw, lfw_rf_scores)\n",
    "\n",
    "plt.xlabel(\"number of principal components\")\n",
    "plt.ylabel(\"Random Forest classifier accuracy\")\n",
    "print(\"Optimal number of principal components for random forest classifier on LFW:\", feature_dim_list[lfw_rf_scores.argmax()])\n",
    "print(\"Accuracy: {}\\n Average runtime: {}\".format(max(lfw_rf_scores),np.mean(rft_list)))"
   ]
  },
  {
   "cell_type": "markdown",
   "metadata": {},
   "source": [
    "#### LFW - Random forest - write up"
   ]
  },
  {
   "cell_type": "markdown",
   "metadata": {},
   "source": [
    "The random forest classifier combines multiple trees and achieved optimal performance with 20 principal components. Although there is no improvement in accuracy (0.064 on the original dataset and 0.062 on the PCA-transformed dataset with 20 principal components), this is likely due to the fact that I've only used 30 trees due to computational constraints. The random forest classifiers fit with both the original dataset and the PCA-reduced dataset took the longest to run among all the classifiers tested with significant memory consumption. Limiting maximal tree depth could potentially alleviate the issue."
   ]
  },
  {
   "cell_type": "markdown",
   "metadata": {},
   "source": [
    "### (d) Write a discussion analyzing the influence of applying PCA on the classiffication performance. For example, what feature dimension sizes were better/worse and why do you think so? What can you infer by observing the classiffcation performance across the different datasets and different classiffcation algorithms? Your discussion should consist of two to four paragraphs. (Write-up)"
   ]
  },
  {
   "cell_type": "markdown",
   "metadata": {},
   "source": [
    "PCA performs dimension reduction by finding linear combinations of the original features and project them into a lower dimensional space. Each dataset and algorithm's combination requires a unique number of optimal principal compnoents (ranged from 20 to 100 for the LFW dataset). One common purpose of this dimension reduction preprocessing is to reduce variance and prevent overfitting. In a high dimensional setting, an observation's nearest neighbors may be actually very far away, and the algorithm is prone to overfittig. Preprocessing the MNIST and LFW datasets leads to an improvement in the KNN classifier's performance. \n",
    "\n",
    "A compressed dataset is also more efficient to train and evaluate. For all algorithms and datasets tested so far, the PCA-processed dataset had shorter average runtimes compared to the original dataset.\n",
    "\n",
    "Dimension reduction techniques like PCA is also useful for visualizing high dimensional data by projecting them into a 2- or 3-dimensional space and plot them to see if they form any clusters. "
   ]
  }
 ],
 "metadata": {
  "kernelspec": {
   "display_name": "Python 3",
   "language": "python",
   "name": "python3"
  },
  "language_info": {
   "codemirror_mode": {
    "name": "ipython",
    "version": 3
   },
   "file_extension": ".py",
   "mimetype": "text/x-python",
   "name": "python",
   "nbconvert_exporter": "python",
   "pygments_lexer": "ipython3",
   "version": "3.6.5"
  }
 },
 "nbformat": 4,
 "nbformat_minor": 2
}
