{
 "cells": [
  {
   "cell_type": "code",
   "execution_count": 1,
   "metadata": {},
   "outputs": [
    {
     "data": {
      "text/html": [
       "<style>.container { width:100% !important; }</style>"
      ],
      "text/plain": [
       "<IPython.core.display.HTML object>"
      ]
     },
     "metadata": {},
     "output_type": "display_data"
    }
   ],
   "source": [
    "import numpy as np\n",
    "import pandas as pd\n",
    "import matplotlib.pyplot as plt \n",
    "%matplotlib inline\n",
    "from sklearn.datasets import fetch_mldata, fetch_lfw_people\n",
    "from sklearn.model_selection import cross_val_score, train_test_split, KFold\n",
    "from sklearn.preprocessing import StandardScaler, OneHotEncoder, LabelBinarizer, LabelEncoder\n",
    "from sklearn.neighbors import KNeighborsClassifier\n",
    "from sklearn.svm import LinearSVC\n",
    "from sklearn.naive_bayes import GaussianNB\n",
    "from sklearn.ensemble import RandomForestClassifier, BaggingClassifier, AdaBoostClassifier, GradientBoostingClassifier\n",
    "from sklearn.linear_model import LogisticRegression\n",
    "from sklearn.discriminant_analysis import LinearDiscriminantAnalysis\n",
    "from collections import defaultdict\n",
    "from sklearn.ensemble import VotingClassifier\n",
    "from IPython.core.display import display, HTML\n",
    "display(HTML(\"<style>.container { width:100% !important; }</style>\"))"
   ]
  },
  {
   "cell_type": "markdown",
   "metadata": {},
   "source": [
    "## 2. Ensemble Learning\n",
    "### (a) Load two text-based classiffication datasets (e.g., from NLTK or Kaggle) and pre- process as necessary to arrive at a numerical representation of the text. (Code)"
   ]
  },
  {
   "cell_type": "markdown",
   "metadata": {},
   "source": [
    "### (a) [What's Cooking?](https://www.kaggle.com/c/whats-cooking)\n",
    "classify cuisine based on ingredients"
   ]
  },
  {
   "cell_type": "code",
   "execution_count": 21,
   "metadata": {},
   "outputs": [],
   "source": [
    "cook_train = pd.read_json('cooking_train.json',orient='records').set_index('id')\n",
    "cook_test = pd.read_json('cooking_test.json',orient='records').set_index('id')"
   ]
  },
  {
   "cell_type": "code",
   "execution_count": 22,
   "metadata": {},
   "outputs": [
    {
     "data": {
      "text/html": [
       "<div>\n",
       "<style scoped>\n",
       "    .dataframe tbody tr th:only-of-type {\n",
       "        vertical-align: middle;\n",
       "    }\n",
       "\n",
       "    .dataframe tbody tr th {\n",
       "        vertical-align: top;\n",
       "    }\n",
       "\n",
       "    .dataframe thead th {\n",
       "        text-align: right;\n",
       "    }\n",
       "</style>\n",
       "<table border=\"1\" class=\"dataframe\">\n",
       "  <thead>\n",
       "    <tr style=\"text-align: right;\">\n",
       "      <th></th>\n",
       "      <th>cuisine</th>\n",
       "      <th>ingredients</th>\n",
       "    </tr>\n",
       "    <tr>\n",
       "      <th>id</th>\n",
       "      <th></th>\n",
       "      <th></th>\n",
       "    </tr>\n",
       "  </thead>\n",
       "  <tbody>\n",
       "    <tr>\n",
       "      <th>23243</th>\n",
       "      <td>italian</td>\n",
       "      <td>[sweet onion, salt, small red potato, dough, o...</td>\n",
       "    </tr>\n",
       "    <tr>\n",
       "      <th>29455</th>\n",
       "      <td>japanese</td>\n",
       "      <td>[green cardamom, milk, cinnamon sticks, conden...</td>\n",
       "    </tr>\n",
       "    <tr>\n",
       "      <th>16876</th>\n",
       "      <td>greek</td>\n",
       "      <td>[ground black pepper, purple onion, cucumber, ...</td>\n",
       "    </tr>\n",
       "    <tr>\n",
       "      <th>47661</th>\n",
       "      <td>southern_us</td>\n",
       "      <td>[flour, buttermilk, butter, baking powder, sal...</td>\n",
       "    </tr>\n",
       "    <tr>\n",
       "      <th>38521</th>\n",
       "      <td>italian</td>\n",
       "      <td>[black pepper, vegetable broth, boiling water,...</td>\n",
       "    </tr>\n",
       "  </tbody>\n",
       "</table>\n",
       "</div>"
      ],
      "text/plain": [
       "           cuisine                                        ingredients\n",
       "id                                                                   \n",
       "23243      italian  [sweet onion, salt, small red potato, dough, o...\n",
       "29455     japanese  [green cardamom, milk, cinnamon sticks, conden...\n",
       "16876        greek  [ground black pepper, purple onion, cucumber, ...\n",
       "47661  southern_us  [flour, buttermilk, butter, baking powder, sal...\n",
       "38521      italian  [black pepper, vegetable broth, boiling water,..."
      ]
     },
     "execution_count": 22,
     "metadata": {},
     "output_type": "execute_result"
    }
   ],
   "source": [
    "cook_train.sample(5)"
   ]
  },
  {
   "cell_type": "code",
   "execution_count": 23,
   "metadata": {},
   "outputs": [
    {
     "data": {
      "text/plain": [
       "20"
      ]
     },
     "execution_count": 23,
     "metadata": {},
     "output_type": "execute_result"
    }
   ],
   "source": [
    "cook_train['cuisine'].nunique()"
   ]
  },
  {
   "cell_type": "code",
   "execution_count": 24,
   "metadata": {},
   "outputs": [
    {
     "data": {
      "text/html": [
       "<div>\n",
       "<style scoped>\n",
       "    .dataframe tbody tr th:only-of-type {\n",
       "        vertical-align: middle;\n",
       "    }\n",
       "\n",
       "    .dataframe tbody tr th {\n",
       "        vertical-align: top;\n",
       "    }\n",
       "\n",
       "    .dataframe thead th {\n",
       "        text-align: right;\n",
       "    }\n",
       "</style>\n",
       "<table border=\"1\" class=\"dataframe\">\n",
       "  <thead>\n",
       "    <tr style=\"text-align: right;\">\n",
       "      <th></th>\n",
       "      <th>ingredients</th>\n",
       "    </tr>\n",
       "    <tr>\n",
       "      <th>id</th>\n",
       "      <th></th>\n",
       "    </tr>\n",
       "  </thead>\n",
       "  <tbody>\n",
       "    <tr>\n",
       "      <th>18009</th>\n",
       "      <td>[baking powder, eggs, all-purpose flour, raisi...</td>\n",
       "    </tr>\n",
       "    <tr>\n",
       "      <th>28583</th>\n",
       "      <td>[sugar, egg yolks, corn starch, cream of tarta...</td>\n",
       "    </tr>\n",
       "  </tbody>\n",
       "</table>\n",
       "</div>"
      ],
      "text/plain": [
       "                                             ingredients\n",
       "id                                                      \n",
       "18009  [baking powder, eggs, all-purpose flour, raisi...\n",
       "28583  [sugar, egg yolks, corn starch, cream of tarta..."
      ]
     },
     "execution_count": 24,
     "metadata": {},
     "output_type": "execute_result"
    }
   ],
   "source": [
    "cook_test.head(2)"
   ]
  },
  {
   "cell_type": "code",
   "execution_count": 89,
   "metadata": {},
   "outputs": [
    {
     "data": {
      "text/plain": [
       "(39774, 2)"
      ]
     },
     "execution_count": 89,
     "metadata": {},
     "output_type": "execute_result"
    }
   ],
   "source": [
    "# there's no label for the test set provided, \n",
    "# so I've split cooking_train into training and testing sets (75/25)\n",
    "cooking = cook_train\n",
    "cooking.shape"
   ]
  },
  {
   "cell_type": "code",
   "execution_count": 90,
   "metadata": {},
   "outputs": [],
   "source": [
    "cooking.dropna(axis=0, how='any', inplace=True)"
   ]
  },
  {
   "cell_type": "code",
   "execution_count": 91,
   "metadata": {
    "scrolled": true
   },
   "outputs": [
    {
     "data": {
      "text/html": [
       "<div>\n",
       "<style scoped>\n",
       "    .dataframe tbody tr th:only-of-type {\n",
       "        vertical-align: middle;\n",
       "    }\n",
       "\n",
       "    .dataframe tbody tr th {\n",
       "        vertical-align: top;\n",
       "    }\n",
       "\n",
       "    .dataframe thead th {\n",
       "        text-align: right;\n",
       "    }\n",
       "</style>\n",
       "<table border=\"1\" class=\"dataframe\">\n",
       "  <thead>\n",
       "    <tr style=\"text-align: right;\">\n",
       "      <th></th>\n",
       "      <th>0</th>\n",
       "      <th>1</th>\n",
       "      <th>2</th>\n",
       "      <th>3</th>\n",
       "      <th>4</th>\n",
       "      <th>5</th>\n",
       "      <th>6</th>\n",
       "      <th>7</th>\n",
       "      <th>8</th>\n",
       "      <th>9</th>\n",
       "      <th>...</th>\n",
       "      <th>56</th>\n",
       "      <th>57</th>\n",
       "      <th>58</th>\n",
       "      <th>59</th>\n",
       "      <th>60</th>\n",
       "      <th>61</th>\n",
       "      <th>62</th>\n",
       "      <th>63</th>\n",
       "      <th>64</th>\n",
       "      <th>cuisine</th>\n",
       "    </tr>\n",
       "  </thead>\n",
       "  <tbody>\n",
       "    <tr>\n",
       "      <th>0</th>\n",
       "      <td>romaine lettuce</td>\n",
       "      <td>black olives</td>\n",
       "      <td>grape tomatoes</td>\n",
       "      <td>garlic</td>\n",
       "      <td>pepper</td>\n",
       "      <td>purple onion</td>\n",
       "      <td>seasoning</td>\n",
       "      <td>garbanzo beans</td>\n",
       "      <td>feta cheese crumbles</td>\n",
       "      <td>None</td>\n",
       "      <td>...</td>\n",
       "      <td>None</td>\n",
       "      <td>None</td>\n",
       "      <td>None</td>\n",
       "      <td>None</td>\n",
       "      <td>None</td>\n",
       "      <td>None</td>\n",
       "      <td>None</td>\n",
       "      <td>None</td>\n",
       "      <td>None</td>\n",
       "      <td>spanish</td>\n",
       "    </tr>\n",
       "    <tr>\n",
       "      <th>1</th>\n",
       "      <td>plain flour</td>\n",
       "      <td>ground pepper</td>\n",
       "      <td>salt</td>\n",
       "      <td>tomatoes</td>\n",
       "      <td>ground black pepper</td>\n",
       "      <td>thyme</td>\n",
       "      <td>eggs</td>\n",
       "      <td>green tomatoes</td>\n",
       "      <td>yellow corn meal</td>\n",
       "      <td>milk</td>\n",
       "      <td>...</td>\n",
       "      <td>None</td>\n",
       "      <td>None</td>\n",
       "      <td>None</td>\n",
       "      <td>None</td>\n",
       "      <td>None</td>\n",
       "      <td>None</td>\n",
       "      <td>None</td>\n",
       "      <td>None</td>\n",
       "      <td>None</td>\n",
       "      <td>mexican</td>\n",
       "    </tr>\n",
       "    <tr>\n",
       "      <th>2</th>\n",
       "      <td>eggs</td>\n",
       "      <td>pepper</td>\n",
       "      <td>salt</td>\n",
       "      <td>mayonaise</td>\n",
       "      <td>cooking oil</td>\n",
       "      <td>green chilies</td>\n",
       "      <td>grilled chicken breasts</td>\n",
       "      <td>garlic powder</td>\n",
       "      <td>yellow onion</td>\n",
       "      <td>soy sauce</td>\n",
       "      <td>...</td>\n",
       "      <td>None</td>\n",
       "      <td>None</td>\n",
       "      <td>None</td>\n",
       "      <td>None</td>\n",
       "      <td>None</td>\n",
       "      <td>None</td>\n",
       "      <td>None</td>\n",
       "      <td>None</td>\n",
       "      <td>None</td>\n",
       "      <td>french</td>\n",
       "    </tr>\n",
       "    <tr>\n",
       "      <th>3</th>\n",
       "      <td>water</td>\n",
       "      <td>vegetable oil</td>\n",
       "      <td>wheat</td>\n",
       "      <td>salt</td>\n",
       "      <td>None</td>\n",
       "      <td>None</td>\n",
       "      <td>None</td>\n",
       "      <td>None</td>\n",
       "      <td>None</td>\n",
       "      <td>None</td>\n",
       "      <td>...</td>\n",
       "      <td>None</td>\n",
       "      <td>None</td>\n",
       "      <td>None</td>\n",
       "      <td>None</td>\n",
       "      <td>None</td>\n",
       "      <td>None</td>\n",
       "      <td>None</td>\n",
       "      <td>None</td>\n",
       "      <td>None</td>\n",
       "      <td>chinese</td>\n",
       "    </tr>\n",
       "    <tr>\n",
       "      <th>4</th>\n",
       "      <td>black pepper</td>\n",
       "      <td>shallots</td>\n",
       "      <td>cornflour</td>\n",
       "      <td>cayenne pepper</td>\n",
       "      <td>onions</td>\n",
       "      <td>garlic paste</td>\n",
       "      <td>milk</td>\n",
       "      <td>butter</td>\n",
       "      <td>salt</td>\n",
       "      <td>lemon juice</td>\n",
       "      <td>...</td>\n",
       "      <td>None</td>\n",
       "      <td>None</td>\n",
       "      <td>None</td>\n",
       "      <td>None</td>\n",
       "      <td>None</td>\n",
       "      <td>None</td>\n",
       "      <td>None</td>\n",
       "      <td>None</td>\n",
       "      <td>None</td>\n",
       "      <td>italian</td>\n",
       "    </tr>\n",
       "  </tbody>\n",
       "</table>\n",
       "<p>5 rows × 66 columns</p>\n",
       "</div>"
      ],
      "text/plain": [
       "                 0              1               2               3  \\\n",
       "0  romaine lettuce   black olives  grape tomatoes          garlic   \n",
       "1      plain flour  ground pepper            salt        tomatoes   \n",
       "2             eggs         pepper            salt       mayonaise   \n",
       "3            water  vegetable oil           wheat            salt   \n",
       "4     black pepper       shallots       cornflour  cayenne pepper   \n",
       "\n",
       "                     4              5                        6  \\\n",
       "0               pepper   purple onion                seasoning   \n",
       "1  ground black pepper          thyme                     eggs   \n",
       "2          cooking oil  green chilies  grilled chicken breasts   \n",
       "3                 None           None                     None   \n",
       "4               onions   garlic paste                     milk   \n",
       "\n",
       "                7                     8            9   ...       56    57  \\\n",
       "0  garbanzo beans  feta cheese crumbles         None   ...     None  None   \n",
       "1  green tomatoes      yellow corn meal         milk   ...     None  None   \n",
       "2   garlic powder          yellow onion    soy sauce   ...     None  None   \n",
       "3            None                  None         None   ...     None  None   \n",
       "4          butter                  salt  lemon juice   ...     None  None   \n",
       "\n",
       "     58    59    60    61    62    63    64  cuisine  \n",
       "0  None  None  None  None  None  None  None  spanish  \n",
       "1  None  None  None  None  None  None  None  mexican  \n",
       "2  None  None  None  None  None  None  None   french  \n",
       "3  None  None  None  None  None  None  None  chinese  \n",
       "4  None  None  None  None  None  None  None  italian  \n",
       "\n",
       "[5 rows x 66 columns]"
      ]
     },
     "execution_count": 91,
     "metadata": {},
     "output_type": "execute_result"
    }
   ],
   "source": [
    "# split \"ingredient\" into multiple columns\n",
    "# and fill in missing values with 0\n",
    "cooking = pd.concat([pd.DataFrame(cooking['ingredients'].values.tolist()), (cooking['cuisine'])], axis=1)\n",
    "cooking.head(5)"
   ]
  },
  {
   "cell_type": "code",
   "execution_count": 92,
   "metadata": {},
   "outputs": [
    {
     "data": {
      "text/html": [
       "<div>\n",
       "<style scoped>\n",
       "    .dataframe tbody tr th:only-of-type {\n",
       "        vertical-align: middle;\n",
       "    }\n",
       "\n",
       "    .dataframe tbody tr th {\n",
       "        vertical-align: top;\n",
       "    }\n",
       "\n",
       "    .dataframe thead th {\n",
       "        text-align: right;\n",
       "    }\n",
       "</style>\n",
       "<table border=\"1\" class=\"dataframe\">\n",
       "  <thead>\n",
       "    <tr style=\"text-align: right;\">\n",
       "      <th></th>\n",
       "      <th>0</th>\n",
       "      <th>1</th>\n",
       "      <th>2</th>\n",
       "      <th>3</th>\n",
       "      <th>4</th>\n",
       "      <th>5</th>\n",
       "      <th>6</th>\n",
       "      <th>7</th>\n",
       "      <th>8</th>\n",
       "      <th>9</th>\n",
       "      <th>...</th>\n",
       "      <th>56</th>\n",
       "      <th>57</th>\n",
       "      <th>58</th>\n",
       "      <th>59</th>\n",
       "      <th>60</th>\n",
       "      <th>61</th>\n",
       "      <th>62</th>\n",
       "      <th>63</th>\n",
       "      <th>64</th>\n",
       "      <th>cuisine</th>\n",
       "    </tr>\n",
       "  </thead>\n",
       "  <tbody>\n",
       "    <tr>\n",
       "      <th>0</th>\n",
       "      <td>romaine lettuce</td>\n",
       "      <td>black olives</td>\n",
       "      <td>grape tomatoes</td>\n",
       "      <td>garlic</td>\n",
       "      <td>pepper</td>\n",
       "      <td>purple onion</td>\n",
       "      <td>seasoning</td>\n",
       "      <td>garbanzo beans</td>\n",
       "      <td>feta cheese crumbles</td>\n",
       "      <td>0</td>\n",
       "      <td>...</td>\n",
       "      <td>0</td>\n",
       "      <td>0</td>\n",
       "      <td>0</td>\n",
       "      <td>0</td>\n",
       "      <td>0</td>\n",
       "      <td>0</td>\n",
       "      <td>0</td>\n",
       "      <td>0</td>\n",
       "      <td>0</td>\n",
       "      <td>spanish</td>\n",
       "    </tr>\n",
       "    <tr>\n",
       "      <th>1</th>\n",
       "      <td>plain flour</td>\n",
       "      <td>ground pepper</td>\n",
       "      <td>salt</td>\n",
       "      <td>tomatoes</td>\n",
       "      <td>ground black pepper</td>\n",
       "      <td>thyme</td>\n",
       "      <td>eggs</td>\n",
       "      <td>green tomatoes</td>\n",
       "      <td>yellow corn meal</td>\n",
       "      <td>milk</td>\n",
       "      <td>...</td>\n",
       "      <td>0</td>\n",
       "      <td>0</td>\n",
       "      <td>0</td>\n",
       "      <td>0</td>\n",
       "      <td>0</td>\n",
       "      <td>0</td>\n",
       "      <td>0</td>\n",
       "      <td>0</td>\n",
       "      <td>0</td>\n",
       "      <td>mexican</td>\n",
       "    </tr>\n",
       "    <tr>\n",
       "      <th>2</th>\n",
       "      <td>eggs</td>\n",
       "      <td>pepper</td>\n",
       "      <td>salt</td>\n",
       "      <td>mayonaise</td>\n",
       "      <td>cooking oil</td>\n",
       "      <td>green chilies</td>\n",
       "      <td>grilled chicken breasts</td>\n",
       "      <td>garlic powder</td>\n",
       "      <td>yellow onion</td>\n",
       "      <td>soy sauce</td>\n",
       "      <td>...</td>\n",
       "      <td>0</td>\n",
       "      <td>0</td>\n",
       "      <td>0</td>\n",
       "      <td>0</td>\n",
       "      <td>0</td>\n",
       "      <td>0</td>\n",
       "      <td>0</td>\n",
       "      <td>0</td>\n",
       "      <td>0</td>\n",
       "      <td>french</td>\n",
       "    </tr>\n",
       "    <tr>\n",
       "      <th>3</th>\n",
       "      <td>water</td>\n",
       "      <td>vegetable oil</td>\n",
       "      <td>wheat</td>\n",
       "      <td>salt</td>\n",
       "      <td>0</td>\n",
       "      <td>0</td>\n",
       "      <td>0</td>\n",
       "      <td>0</td>\n",
       "      <td>0</td>\n",
       "      <td>0</td>\n",
       "      <td>...</td>\n",
       "      <td>0</td>\n",
       "      <td>0</td>\n",
       "      <td>0</td>\n",
       "      <td>0</td>\n",
       "      <td>0</td>\n",
       "      <td>0</td>\n",
       "      <td>0</td>\n",
       "      <td>0</td>\n",
       "      <td>0</td>\n",
       "      <td>chinese</td>\n",
       "    </tr>\n",
       "    <tr>\n",
       "      <th>4</th>\n",
       "      <td>black pepper</td>\n",
       "      <td>shallots</td>\n",
       "      <td>cornflour</td>\n",
       "      <td>cayenne pepper</td>\n",
       "      <td>onions</td>\n",
       "      <td>garlic paste</td>\n",
       "      <td>milk</td>\n",
       "      <td>butter</td>\n",
       "      <td>salt</td>\n",
       "      <td>lemon juice</td>\n",
       "      <td>...</td>\n",
       "      <td>0</td>\n",
       "      <td>0</td>\n",
       "      <td>0</td>\n",
       "      <td>0</td>\n",
       "      <td>0</td>\n",
       "      <td>0</td>\n",
       "      <td>0</td>\n",
       "      <td>0</td>\n",
       "      <td>0</td>\n",
       "      <td>italian</td>\n",
       "    </tr>\n",
       "  </tbody>\n",
       "</table>\n",
       "<p>5 rows × 66 columns</p>\n",
       "</div>"
      ],
      "text/plain": [
       "                 0              1               2               3  \\\n",
       "0  romaine lettuce   black olives  grape tomatoes          garlic   \n",
       "1      plain flour  ground pepper            salt        tomatoes   \n",
       "2             eggs         pepper            salt       mayonaise   \n",
       "3            water  vegetable oil           wheat            salt   \n",
       "4     black pepper       shallots       cornflour  cayenne pepper   \n",
       "\n",
       "                     4              5                        6  \\\n",
       "0               pepper   purple onion                seasoning   \n",
       "1  ground black pepper          thyme                     eggs   \n",
       "2          cooking oil  green chilies  grilled chicken breasts   \n",
       "3                    0              0                        0   \n",
       "4               onions   garlic paste                     milk   \n",
       "\n",
       "                7                     8            9   ...    56 57 58 59 60  \\\n",
       "0  garbanzo beans  feta cheese crumbles            0   ...     0  0  0  0  0   \n",
       "1  green tomatoes      yellow corn meal         milk   ...     0  0  0  0  0   \n",
       "2   garlic powder          yellow onion    soy sauce   ...     0  0  0  0  0   \n",
       "3               0                     0            0   ...     0  0  0  0  0   \n",
       "4          butter                  salt  lemon juice   ...     0  0  0  0  0   \n",
       "\n",
       "  61 62 63 64  cuisine  \n",
       "0  0  0  0  0  spanish  \n",
       "1  0  0  0  0  mexican  \n",
       "2  0  0  0  0   french  \n",
       "3  0  0  0  0  chinese  \n",
       "4  0  0  0  0  italian  \n",
       "\n",
       "[5 rows x 66 columns]"
      ]
     },
     "execution_count": 92,
     "metadata": {},
     "output_type": "execute_result"
    }
   ],
   "source": [
    "cooking.iloc[:,:65] = cooking.iloc[:,:65].fillna(value=0.0)\n",
    "cooking.head(5)"
   ]
  },
  {
   "cell_type": "code",
   "execution_count": 95,
   "metadata": {},
   "outputs": [],
   "source": [
    "cooking.dropna(subset=['cuisine'], how='any', inplace=True)"
   ]
  },
  {
   "cell_type": "code",
   "execution_count": 138,
   "metadata": {},
   "outputs": [],
   "source": [
    "#  sample 1000 from the dataset due to memory consumption\n",
    "cooking = cooking.sample(1000)   \n",
    "cooking_X = cooking.iloc[:,:65]\n",
    "cooking_Y = cooking['cuisine']\n",
    "\n",
    "# sklearn.OneHotEncoder doesn't take string-based values\n",
    "cooking_X = pd.get_dummies(cooking_X)"
   ]
  },
  {
   "cell_type": "code",
   "execution_count": 143,
   "metadata": {},
   "outputs": [
    {
     "data": {
      "text/plain": [
       "(1000, 5003)"
      ]
     },
     "execution_count": 143,
     "metadata": {},
     "output_type": "execute_result"
    }
   ],
   "source": [
    "cooking_X.shape"
   ]
  },
  {
   "cell_type": "code",
   "execution_count": 144,
   "metadata": {
    "scrolled": true
   },
   "outputs": [
    {
     "name": "stdout",
     "output_type": "stream",
     "text": [
      "train shape: (750, 5003)\n",
      "test shape: (250, 5003)\n"
     ]
    }
   ],
   "source": [
    "cooking_X_train, cooking_X_test, cooking_Y_train, cooking_Y_test = train_test_split(cooking_X, cooking_Y)\n",
    "print(\"train shape: {}\\ntest shape: {}\".format(cooking_X_train.shape, cooking_X_test.shape))"
   ]
  },
  {
   "cell_type": "code",
   "execution_count": 145,
   "metadata": {},
   "outputs": [],
   "source": [
    "sc = StandardScaler()\n",
    "cooking_X_train_scaled = sc.fit_transform(cooking_X_train)\n",
    "cooking_X_test_scaled = sc.transform(cooking_X_test)\n",
    "\n",
    "le = LabelEncoder()\n",
    "cooking_Y_train_enc = le.fit_transform(cooking_Y_train)\n",
    "cooking_Y_test_enc = le.transform(cooking_Y_test)"
   ]
  },
  {
   "cell_type": "code",
   "execution_count": 147,
   "metadata": {
    "scrolled": true
   },
   "outputs": [
    {
     "name": "stdout",
     "output_type": "stream",
     "text": [
      "Stored 'cooking_X_train_scaled' (ndarray)\n",
      "Stored 'cooking_X_test_scaled' (ndarray)\n",
      "Stored 'cooking_Y_train_enc' (ndarray)\n",
      "Stored 'cooking_Y_test_enc' (ndarray)\n"
     ]
    }
   ],
   "source": [
    "%store cooking_X_train_scaled\n",
    "%store cooking_X_test_scaled\n",
    "%store cooking_Y_train_enc\n",
    "%store cooking_Y_test_enc"
   ]
  },
  {
   "cell_type": "markdown",
   "metadata": {},
   "source": [
    "### (a) [Mushroom Classification](https://www.kaggle.com/uciml/mushroom-classification/home)\n",
    "Predict edible vs poisonous mushrooms"
   ]
  },
  {
   "cell_type": "code",
   "execution_count": 2,
   "metadata": {},
   "outputs": [],
   "source": [
    "mushrooms = pd.read_csv('mushrooms.csv')"
   ]
  },
  {
   "cell_type": "code",
   "execution_count": 3,
   "metadata": {},
   "outputs": [
    {
     "data": {
      "text/plain": [
       "(8124, 23)"
      ]
     },
     "execution_count": 3,
     "metadata": {},
     "output_type": "execute_result"
    }
   ],
   "source": [
    "mushrooms.shape"
   ]
  },
  {
   "cell_type": "code",
   "execution_count": 4,
   "metadata": {},
   "outputs": [
    {
     "data": {
      "text/plain": [
       "2"
      ]
     },
     "execution_count": 4,
     "metadata": {},
     "output_type": "execute_result"
    }
   ],
   "source": [
    "mushrooms['class'].nunique()"
   ]
  },
  {
   "cell_type": "code",
   "execution_count": 5,
   "metadata": {},
   "outputs": [
    {
     "data": {
      "text/plain": [
       "class                       False\n",
       "cap-shape                   False\n",
       "cap-surface                 False\n",
       "cap-color                   False\n",
       "bruises                     False\n",
       "odor                        False\n",
       "gill-attachment             False\n",
       "gill-spacing                False\n",
       "gill-size                   False\n",
       "gill-color                  False\n",
       "stalk-shape                 False\n",
       "stalk-root                  False\n",
       "stalk-surface-above-ring    False\n",
       "stalk-surface-below-ring    False\n",
       "stalk-color-above-ring      False\n",
       "stalk-color-below-ring      False\n",
       "veil-type                   False\n",
       "veil-color                  False\n",
       "ring-number                 False\n",
       "ring-type                   False\n",
       "spore-print-color           False\n",
       "population                  False\n",
       "habitat                     False\n",
       "dtype: bool"
      ]
     },
     "execution_count": 5,
     "metadata": {},
     "output_type": "execute_result"
    }
   ],
   "source": [
    "mushrooms.isnull().any()"
   ]
  },
  {
   "cell_type": "code",
   "execution_count": 6,
   "metadata": {
    "scrolled": true
   },
   "outputs": [
    {
     "data": {
      "text/html": [
       "<div>\n",
       "<style scoped>\n",
       "    .dataframe tbody tr th:only-of-type {\n",
       "        vertical-align: middle;\n",
       "    }\n",
       "\n",
       "    .dataframe tbody tr th {\n",
       "        vertical-align: top;\n",
       "    }\n",
       "\n",
       "    .dataframe thead th {\n",
       "        text-align: right;\n",
       "    }\n",
       "</style>\n",
       "<table border=\"1\" class=\"dataframe\">\n",
       "  <thead>\n",
       "    <tr style=\"text-align: right;\">\n",
       "      <th></th>\n",
       "      <th>class</th>\n",
       "      <th>cap-shape</th>\n",
       "      <th>cap-surface</th>\n",
       "      <th>cap-color</th>\n",
       "      <th>bruises</th>\n",
       "      <th>odor</th>\n",
       "      <th>gill-attachment</th>\n",
       "      <th>gill-spacing</th>\n",
       "      <th>gill-size</th>\n",
       "      <th>gill-color</th>\n",
       "      <th>...</th>\n",
       "      <th>stalk-surface-below-ring</th>\n",
       "      <th>stalk-color-above-ring</th>\n",
       "      <th>stalk-color-below-ring</th>\n",
       "      <th>veil-type</th>\n",
       "      <th>veil-color</th>\n",
       "      <th>ring-number</th>\n",
       "      <th>ring-type</th>\n",
       "      <th>spore-print-color</th>\n",
       "      <th>population</th>\n",
       "      <th>habitat</th>\n",
       "    </tr>\n",
       "  </thead>\n",
       "  <tbody>\n",
       "    <tr>\n",
       "      <th>0</th>\n",
       "      <td>p</td>\n",
       "      <td>x</td>\n",
       "      <td>s</td>\n",
       "      <td>n</td>\n",
       "      <td>t</td>\n",
       "      <td>p</td>\n",
       "      <td>f</td>\n",
       "      <td>c</td>\n",
       "      <td>n</td>\n",
       "      <td>k</td>\n",
       "      <td>...</td>\n",
       "      <td>s</td>\n",
       "      <td>w</td>\n",
       "      <td>w</td>\n",
       "      <td>p</td>\n",
       "      <td>w</td>\n",
       "      <td>o</td>\n",
       "      <td>p</td>\n",
       "      <td>k</td>\n",
       "      <td>s</td>\n",
       "      <td>u</td>\n",
       "    </tr>\n",
       "    <tr>\n",
       "      <th>1</th>\n",
       "      <td>e</td>\n",
       "      <td>x</td>\n",
       "      <td>s</td>\n",
       "      <td>y</td>\n",
       "      <td>t</td>\n",
       "      <td>a</td>\n",
       "      <td>f</td>\n",
       "      <td>c</td>\n",
       "      <td>b</td>\n",
       "      <td>k</td>\n",
       "      <td>...</td>\n",
       "      <td>s</td>\n",
       "      <td>w</td>\n",
       "      <td>w</td>\n",
       "      <td>p</td>\n",
       "      <td>w</td>\n",
       "      <td>o</td>\n",
       "      <td>p</td>\n",
       "      <td>n</td>\n",
       "      <td>n</td>\n",
       "      <td>g</td>\n",
       "    </tr>\n",
       "    <tr>\n",
       "      <th>2</th>\n",
       "      <td>e</td>\n",
       "      <td>b</td>\n",
       "      <td>s</td>\n",
       "      <td>w</td>\n",
       "      <td>t</td>\n",
       "      <td>l</td>\n",
       "      <td>f</td>\n",
       "      <td>c</td>\n",
       "      <td>b</td>\n",
       "      <td>n</td>\n",
       "      <td>...</td>\n",
       "      <td>s</td>\n",
       "      <td>w</td>\n",
       "      <td>w</td>\n",
       "      <td>p</td>\n",
       "      <td>w</td>\n",
       "      <td>o</td>\n",
       "      <td>p</td>\n",
       "      <td>n</td>\n",
       "      <td>n</td>\n",
       "      <td>m</td>\n",
       "    </tr>\n",
       "    <tr>\n",
       "      <th>3</th>\n",
       "      <td>p</td>\n",
       "      <td>x</td>\n",
       "      <td>y</td>\n",
       "      <td>w</td>\n",
       "      <td>t</td>\n",
       "      <td>p</td>\n",
       "      <td>f</td>\n",
       "      <td>c</td>\n",
       "      <td>n</td>\n",
       "      <td>n</td>\n",
       "      <td>...</td>\n",
       "      <td>s</td>\n",
       "      <td>w</td>\n",
       "      <td>w</td>\n",
       "      <td>p</td>\n",
       "      <td>w</td>\n",
       "      <td>o</td>\n",
       "      <td>p</td>\n",
       "      <td>k</td>\n",
       "      <td>s</td>\n",
       "      <td>u</td>\n",
       "    </tr>\n",
       "    <tr>\n",
       "      <th>4</th>\n",
       "      <td>e</td>\n",
       "      <td>x</td>\n",
       "      <td>s</td>\n",
       "      <td>g</td>\n",
       "      <td>f</td>\n",
       "      <td>n</td>\n",
       "      <td>f</td>\n",
       "      <td>w</td>\n",
       "      <td>b</td>\n",
       "      <td>k</td>\n",
       "      <td>...</td>\n",
       "      <td>s</td>\n",
       "      <td>w</td>\n",
       "      <td>w</td>\n",
       "      <td>p</td>\n",
       "      <td>w</td>\n",
       "      <td>o</td>\n",
       "      <td>e</td>\n",
       "      <td>n</td>\n",
       "      <td>a</td>\n",
       "      <td>g</td>\n",
       "    </tr>\n",
       "  </tbody>\n",
       "</table>\n",
       "<p>5 rows × 23 columns</p>\n",
       "</div>"
      ],
      "text/plain": [
       "  class cap-shape cap-surface cap-color bruises odor gill-attachment  \\\n",
       "0     p         x           s         n       t    p               f   \n",
       "1     e         x           s         y       t    a               f   \n",
       "2     e         b           s         w       t    l               f   \n",
       "3     p         x           y         w       t    p               f   \n",
       "4     e         x           s         g       f    n               f   \n",
       "\n",
       "  gill-spacing gill-size gill-color   ...   stalk-surface-below-ring  \\\n",
       "0            c         n          k   ...                          s   \n",
       "1            c         b          k   ...                          s   \n",
       "2            c         b          n   ...                          s   \n",
       "3            c         n          n   ...                          s   \n",
       "4            w         b          k   ...                          s   \n",
       "\n",
       "  stalk-color-above-ring stalk-color-below-ring veil-type veil-color  \\\n",
       "0                      w                      w         p          w   \n",
       "1                      w                      w         p          w   \n",
       "2                      w                      w         p          w   \n",
       "3                      w                      w         p          w   \n",
       "4                      w                      w         p          w   \n",
       "\n",
       "  ring-number ring-type spore-print-color population habitat  \n",
       "0           o         p                 k          s       u  \n",
       "1           o         p                 n          n       g  \n",
       "2           o         p                 n          n       m  \n",
       "3           o         p                 k          s       u  \n",
       "4           o         e                 n          a       g  \n",
       "\n",
       "[5 rows x 23 columns]"
      ]
     },
     "execution_count": 6,
     "metadata": {},
     "output_type": "execute_result"
    }
   ],
   "source": [
    "mushrooms.head(5)"
   ]
  },
  {
   "cell_type": "code",
   "execution_count": 7,
   "metadata": {},
   "outputs": [],
   "source": [
    "mushroom_X, mushroom_Y = mushrooms.iloc[:,1:], mushrooms['class']"
   ]
  },
  {
   "cell_type": "code",
   "execution_count": 66,
   "metadata": {},
   "outputs": [],
   "source": [
    "X_train, X_test, Y_train, Y_test = train_test_split(pd.get_dummies(mushroom_X), mushroom_Y)"
   ]
  },
  {
   "cell_type": "code",
   "execution_count": 12,
   "metadata": {},
   "outputs": [],
   "source": [
    "mushroom_d = defaultdict(LabelEncoder)\n",
    "mushroom_X_fit = mushroom_X.apply(lambda x: mushroom_d[x.name].fit_transform(x))"
   ]
  },
  {
   "cell_type": "code",
   "execution_count": 13,
   "metadata": {},
   "outputs": [],
   "source": [
    "le_Y = LabelEncoder()\n",
    "mushroom_Y_fit = le_Y.fit_transform(mushroom_Y)"
   ]
  },
  {
   "cell_type": "code",
   "execution_count": 32,
   "metadata": {},
   "outputs": [],
   "source": [
    "import warnings\n",
    "warnings.filterwarnings(\"ignore\", category=DeprecationWarning)\n",
    "\n",
    "# sklearn.LabelEncoder handles a single vector one at a time\n",
    "# so one hot encodig X has to be completed column-by-clumn\n",
    "# for 22 columns. The result is a sparse matrix with 95 features\n",
    "\n",
    "def multicolumn_onehot_mushroom(X):\n",
    "    \n",
    "    onehot = defaultdict(OneHotEncoder)\n",
    "    df = pd.DataFrame()\n",
    "\n",
    "    for i in range(22):\n",
    "        \n",
    "        curr = pd.DataFrame(onehot[X.columns[i]].fit_transform(X.iloc[:, i:i+1]).toarray())\n",
    "    \n",
    "        oh = onehot[X.columns[i]]\n",
    "        labelEncoder_i = mushroom_d[X.columns[i]]\n",
    "        curr.columns = X.columns[i] + \" \" + labelEncoder_i.inverse_transform(oh.active_features_)\n",
    "    \n",
    "        X_onehot_i = curr.iloc[:,1:]\n",
    "\n",
    "        df = pd.concat([df, X_onehot_i], axis=1)\n",
    "    \n",
    "    return df"
   ]
  },
  {
   "cell_type": "code",
   "execution_count": 33,
   "metadata": {},
   "outputs": [],
   "source": [
    "mushroom_X_df = multicolumn_onehot_mushroom(mushroom_X_fit)"
   ]
  },
  {
   "cell_type": "code",
   "execution_count": 34,
   "metadata": {
    "scrolled": false
   },
   "outputs": [
    {
     "data": {
      "text/html": [
       "<div>\n",
       "<style scoped>\n",
       "    .dataframe tbody tr th:only-of-type {\n",
       "        vertical-align: middle;\n",
       "    }\n",
       "\n",
       "    .dataframe tbody tr th {\n",
       "        vertical-align: top;\n",
       "    }\n",
       "\n",
       "    .dataframe thead th {\n",
       "        text-align: right;\n",
       "    }\n",
       "</style>\n",
       "<table border=\"1\" class=\"dataframe\">\n",
       "  <thead>\n",
       "    <tr style=\"text-align: right;\">\n",
       "      <th></th>\n",
       "      <th>cap-shape c</th>\n",
       "      <th>cap-shape f</th>\n",
       "      <th>cap-shape k</th>\n",
       "      <th>cap-shape s</th>\n",
       "      <th>cap-shape x</th>\n",
       "      <th>cap-surface g</th>\n",
       "      <th>cap-surface s</th>\n",
       "      <th>cap-surface y</th>\n",
       "      <th>cap-color c</th>\n",
       "      <th>cap-color e</th>\n",
       "      <th>...</th>\n",
       "      <th>population n</th>\n",
       "      <th>population s</th>\n",
       "      <th>population v</th>\n",
       "      <th>population y</th>\n",
       "      <th>habitat g</th>\n",
       "      <th>habitat l</th>\n",
       "      <th>habitat m</th>\n",
       "      <th>habitat p</th>\n",
       "      <th>habitat u</th>\n",
       "      <th>habitat w</th>\n",
       "    </tr>\n",
       "  </thead>\n",
       "  <tbody>\n",
       "    <tr>\n",
       "      <th>0</th>\n",
       "      <td>0.0</td>\n",
       "      <td>0.0</td>\n",
       "      <td>0.0</td>\n",
       "      <td>0.0</td>\n",
       "      <td>1.0</td>\n",
       "      <td>0.0</td>\n",
       "      <td>1.0</td>\n",
       "      <td>0.0</td>\n",
       "      <td>0.0</td>\n",
       "      <td>0.0</td>\n",
       "      <td>...</td>\n",
       "      <td>0.0</td>\n",
       "      <td>1.0</td>\n",
       "      <td>0.0</td>\n",
       "      <td>0.0</td>\n",
       "      <td>0.0</td>\n",
       "      <td>0.0</td>\n",
       "      <td>0.0</td>\n",
       "      <td>0.0</td>\n",
       "      <td>1.0</td>\n",
       "      <td>0.0</td>\n",
       "    </tr>\n",
       "    <tr>\n",
       "      <th>1</th>\n",
       "      <td>0.0</td>\n",
       "      <td>0.0</td>\n",
       "      <td>0.0</td>\n",
       "      <td>0.0</td>\n",
       "      <td>1.0</td>\n",
       "      <td>0.0</td>\n",
       "      <td>1.0</td>\n",
       "      <td>0.0</td>\n",
       "      <td>0.0</td>\n",
       "      <td>0.0</td>\n",
       "      <td>...</td>\n",
       "      <td>1.0</td>\n",
       "      <td>0.0</td>\n",
       "      <td>0.0</td>\n",
       "      <td>0.0</td>\n",
       "      <td>1.0</td>\n",
       "      <td>0.0</td>\n",
       "      <td>0.0</td>\n",
       "      <td>0.0</td>\n",
       "      <td>0.0</td>\n",
       "      <td>0.0</td>\n",
       "    </tr>\n",
       "    <tr>\n",
       "      <th>2</th>\n",
       "      <td>0.0</td>\n",
       "      <td>0.0</td>\n",
       "      <td>0.0</td>\n",
       "      <td>0.0</td>\n",
       "      <td>0.0</td>\n",
       "      <td>0.0</td>\n",
       "      <td>1.0</td>\n",
       "      <td>0.0</td>\n",
       "      <td>0.0</td>\n",
       "      <td>0.0</td>\n",
       "      <td>...</td>\n",
       "      <td>1.0</td>\n",
       "      <td>0.0</td>\n",
       "      <td>0.0</td>\n",
       "      <td>0.0</td>\n",
       "      <td>0.0</td>\n",
       "      <td>0.0</td>\n",
       "      <td>1.0</td>\n",
       "      <td>0.0</td>\n",
       "      <td>0.0</td>\n",
       "      <td>0.0</td>\n",
       "    </tr>\n",
       "    <tr>\n",
       "      <th>3</th>\n",
       "      <td>0.0</td>\n",
       "      <td>0.0</td>\n",
       "      <td>0.0</td>\n",
       "      <td>0.0</td>\n",
       "      <td>1.0</td>\n",
       "      <td>0.0</td>\n",
       "      <td>0.0</td>\n",
       "      <td>1.0</td>\n",
       "      <td>0.0</td>\n",
       "      <td>0.0</td>\n",
       "      <td>...</td>\n",
       "      <td>0.0</td>\n",
       "      <td>1.0</td>\n",
       "      <td>0.0</td>\n",
       "      <td>0.0</td>\n",
       "      <td>0.0</td>\n",
       "      <td>0.0</td>\n",
       "      <td>0.0</td>\n",
       "      <td>0.0</td>\n",
       "      <td>1.0</td>\n",
       "      <td>0.0</td>\n",
       "    </tr>\n",
       "    <tr>\n",
       "      <th>4</th>\n",
       "      <td>0.0</td>\n",
       "      <td>0.0</td>\n",
       "      <td>0.0</td>\n",
       "      <td>0.0</td>\n",
       "      <td>1.0</td>\n",
       "      <td>0.0</td>\n",
       "      <td>1.0</td>\n",
       "      <td>0.0</td>\n",
       "      <td>0.0</td>\n",
       "      <td>0.0</td>\n",
       "      <td>...</td>\n",
       "      <td>0.0</td>\n",
       "      <td>0.0</td>\n",
       "      <td>0.0</td>\n",
       "      <td>0.0</td>\n",
       "      <td>1.0</td>\n",
       "      <td>0.0</td>\n",
       "      <td>0.0</td>\n",
       "      <td>0.0</td>\n",
       "      <td>0.0</td>\n",
       "      <td>0.0</td>\n",
       "    </tr>\n",
       "    <tr>\n",
       "      <th>5</th>\n",
       "      <td>0.0</td>\n",
       "      <td>0.0</td>\n",
       "      <td>0.0</td>\n",
       "      <td>0.0</td>\n",
       "      <td>1.0</td>\n",
       "      <td>0.0</td>\n",
       "      <td>0.0</td>\n",
       "      <td>1.0</td>\n",
       "      <td>0.0</td>\n",
       "      <td>0.0</td>\n",
       "      <td>...</td>\n",
       "      <td>1.0</td>\n",
       "      <td>0.0</td>\n",
       "      <td>0.0</td>\n",
       "      <td>0.0</td>\n",
       "      <td>1.0</td>\n",
       "      <td>0.0</td>\n",
       "      <td>0.0</td>\n",
       "      <td>0.0</td>\n",
       "      <td>0.0</td>\n",
       "      <td>0.0</td>\n",
       "    </tr>\n",
       "    <tr>\n",
       "      <th>6</th>\n",
       "      <td>0.0</td>\n",
       "      <td>0.0</td>\n",
       "      <td>0.0</td>\n",
       "      <td>0.0</td>\n",
       "      <td>0.0</td>\n",
       "      <td>0.0</td>\n",
       "      <td>1.0</td>\n",
       "      <td>0.0</td>\n",
       "      <td>0.0</td>\n",
       "      <td>0.0</td>\n",
       "      <td>...</td>\n",
       "      <td>1.0</td>\n",
       "      <td>0.0</td>\n",
       "      <td>0.0</td>\n",
       "      <td>0.0</td>\n",
       "      <td>0.0</td>\n",
       "      <td>0.0</td>\n",
       "      <td>1.0</td>\n",
       "      <td>0.0</td>\n",
       "      <td>0.0</td>\n",
       "      <td>0.0</td>\n",
       "    </tr>\n",
       "    <tr>\n",
       "      <th>7</th>\n",
       "      <td>0.0</td>\n",
       "      <td>0.0</td>\n",
       "      <td>0.0</td>\n",
       "      <td>0.0</td>\n",
       "      <td>0.0</td>\n",
       "      <td>0.0</td>\n",
       "      <td>0.0</td>\n",
       "      <td>1.0</td>\n",
       "      <td>0.0</td>\n",
       "      <td>0.0</td>\n",
       "      <td>...</td>\n",
       "      <td>0.0</td>\n",
       "      <td>1.0</td>\n",
       "      <td>0.0</td>\n",
       "      <td>0.0</td>\n",
       "      <td>0.0</td>\n",
       "      <td>0.0</td>\n",
       "      <td>1.0</td>\n",
       "      <td>0.0</td>\n",
       "      <td>0.0</td>\n",
       "      <td>0.0</td>\n",
       "    </tr>\n",
       "    <tr>\n",
       "      <th>8</th>\n",
       "      <td>0.0</td>\n",
       "      <td>0.0</td>\n",
       "      <td>0.0</td>\n",
       "      <td>0.0</td>\n",
       "      <td>1.0</td>\n",
       "      <td>0.0</td>\n",
       "      <td>0.0</td>\n",
       "      <td>1.0</td>\n",
       "      <td>0.0</td>\n",
       "      <td>0.0</td>\n",
       "      <td>...</td>\n",
       "      <td>0.0</td>\n",
       "      <td>0.0</td>\n",
       "      <td>1.0</td>\n",
       "      <td>0.0</td>\n",
       "      <td>1.0</td>\n",
       "      <td>0.0</td>\n",
       "      <td>0.0</td>\n",
       "      <td>0.0</td>\n",
       "      <td>0.0</td>\n",
       "      <td>0.0</td>\n",
       "    </tr>\n",
       "    <tr>\n",
       "      <th>9</th>\n",
       "      <td>0.0</td>\n",
       "      <td>0.0</td>\n",
       "      <td>0.0</td>\n",
       "      <td>0.0</td>\n",
       "      <td>0.0</td>\n",
       "      <td>0.0</td>\n",
       "      <td>1.0</td>\n",
       "      <td>0.0</td>\n",
       "      <td>0.0</td>\n",
       "      <td>0.0</td>\n",
       "      <td>...</td>\n",
       "      <td>0.0</td>\n",
       "      <td>1.0</td>\n",
       "      <td>0.0</td>\n",
       "      <td>0.0</td>\n",
       "      <td>0.0</td>\n",
       "      <td>0.0</td>\n",
       "      <td>1.0</td>\n",
       "      <td>0.0</td>\n",
       "      <td>0.0</td>\n",
       "      <td>0.0</td>\n",
       "    </tr>\n",
       "  </tbody>\n",
       "</table>\n",
       "<p>10 rows × 95 columns</p>\n",
       "</div>"
      ],
      "text/plain": [
       "   cap-shape c  cap-shape f  cap-shape k  cap-shape s  cap-shape x  \\\n",
       "0          0.0          0.0          0.0          0.0          1.0   \n",
       "1          0.0          0.0          0.0          0.0          1.0   \n",
       "2          0.0          0.0          0.0          0.0          0.0   \n",
       "3          0.0          0.0          0.0          0.0          1.0   \n",
       "4          0.0          0.0          0.0          0.0          1.0   \n",
       "5          0.0          0.0          0.0          0.0          1.0   \n",
       "6          0.0          0.0          0.0          0.0          0.0   \n",
       "7          0.0          0.0          0.0          0.0          0.0   \n",
       "8          0.0          0.0          0.0          0.0          1.0   \n",
       "9          0.0          0.0          0.0          0.0          0.0   \n",
       "\n",
       "   cap-surface g  cap-surface s  cap-surface y  cap-color c  cap-color e  \\\n",
       "0            0.0            1.0            0.0          0.0          0.0   \n",
       "1            0.0            1.0            0.0          0.0          0.0   \n",
       "2            0.0            1.0            0.0          0.0          0.0   \n",
       "3            0.0            0.0            1.0          0.0          0.0   \n",
       "4            0.0            1.0            0.0          0.0          0.0   \n",
       "5            0.0            0.0            1.0          0.0          0.0   \n",
       "6            0.0            1.0            0.0          0.0          0.0   \n",
       "7            0.0            0.0            1.0          0.0          0.0   \n",
       "8            0.0            0.0            1.0          0.0          0.0   \n",
       "9            0.0            1.0            0.0          0.0          0.0   \n",
       "\n",
       "     ...      population n  population s  population v  population y  \\\n",
       "0    ...               0.0           1.0           0.0           0.0   \n",
       "1    ...               1.0           0.0           0.0           0.0   \n",
       "2    ...               1.0           0.0           0.0           0.0   \n",
       "3    ...               0.0           1.0           0.0           0.0   \n",
       "4    ...               0.0           0.0           0.0           0.0   \n",
       "5    ...               1.0           0.0           0.0           0.0   \n",
       "6    ...               1.0           0.0           0.0           0.0   \n",
       "7    ...               0.0           1.0           0.0           0.0   \n",
       "8    ...               0.0           0.0           1.0           0.0   \n",
       "9    ...               0.0           1.0           0.0           0.0   \n",
       "\n",
       "   habitat g  habitat l  habitat m  habitat p  habitat u  habitat w  \n",
       "0        0.0        0.0        0.0        0.0        1.0        0.0  \n",
       "1        1.0        0.0        0.0        0.0        0.0        0.0  \n",
       "2        0.0        0.0        1.0        0.0        0.0        0.0  \n",
       "3        0.0        0.0        0.0        0.0        1.0        0.0  \n",
       "4        1.0        0.0        0.0        0.0        0.0        0.0  \n",
       "5        1.0        0.0        0.0        0.0        0.0        0.0  \n",
       "6        0.0        0.0        1.0        0.0        0.0        0.0  \n",
       "7        0.0        0.0        1.0        0.0        0.0        0.0  \n",
       "8        1.0        0.0        0.0        0.0        0.0        0.0  \n",
       "9        0.0        0.0        1.0        0.0        0.0        0.0  \n",
       "\n",
       "[10 rows x 95 columns]"
      ]
     },
     "execution_count": 34,
     "metadata": {},
     "output_type": "execute_result"
    }
   ],
   "source": [
    "mushroom_X_df.head(10)"
   ]
  },
  {
   "cell_type": "code",
   "execution_count": 37,
   "metadata": {},
   "outputs": [],
   "source": [
    "mushroom_X_train, mushroom_X_test, mushroom_Y_train, mushroom_Y_test = train_test_split(mushroom_X_df.values, mushroom_Y_fit.reshape(-1,1))\n",
    "\n",
    "sc = StandardScaler()\n",
    "sc = sc.fit(mushroom_X_train)\n",
    "mushroom_X_train_scaled = sc.transform(mushroom_X_train)\n",
    "mushroom_X_test_scaled = sc.transform(mushroom_X_test)"
   ]
  },
  {
   "cell_type": "markdown",
   "metadata": {},
   "source": [
    "## (b) For each dataset, evaluate these classiffiers using 10-fold cross validation: (Code)\n",
    "### (i) Three different classifiers (e.g., SVM, Naive Bayes, Decision Tree, KNN)."
   ]
  },
  {
   "cell_type": "code",
   "execution_count": 98,
   "metadata": {},
   "outputs": [],
   "source": [
    "\n",
    "kf = KFold(n_splits=10, shuffle=False, random_state=1)\n",
    "\n",
    "def knn(X_train, X_test, Y_train, Y_test):\n",
    "    \n",
    "    cv_scores = []\n",
    "    k_list = [5, 10, 20, 30, 50, 80, 120]\n",
    "\n",
    "    for k in k_list:\n",
    "        cv_model = KNeighborsClassifier(n_neighbors=k)\n",
    "        score = np.mean(cross_val_score(cv_model, X_train, Y_train, cv=kf))\n",
    "        cv_scores.append(score)\n",
    "    cv_scores = np.asarray(cv_scores)\n",
    "    print(\"10-fold cross-validated score on training set:\", np.mean(cv_scores))\n",
    "    \n",
    "    best_k = k_list[cv_scores.argmax()]\n",
    "    print(\"Best K =\", best_k)\n",
    "    model = KNeighborsClassifier(n_neighbors=best_k)\n",
    "    model.fit(X_train, Y_train)\n",
    "\n",
    "    print(\"Best score on test set:\", model.score(X_test, Y_test))\n",
    "\n",
    "\n",
    "\n",
    "    \n",
    "\n",
    "def logit(X_train, X_test, Y_train, Y_test):\n",
    "    \n",
    "    cv_scores = []\n",
    "    C_list = [0.5, 1.0, 2.5, 5.0]\n",
    "    \n",
    "    for c in C_list:\n",
    "        cv_model = LogisticRegression(C=c, random_state=2, warm_start=True)\n",
    "        score = np.mean(cross_val_score(cv_model, X_train, Y_train, cv=kf))\n",
    "        cv_scores.append(score)\n",
    "        \n",
    "    cv_scores = np.asarray(cv_scores)\n",
    "    \n",
    "    print(\"10-fold cross-validated score on training set:\", np.mean(cv_scores))\n",
    "    \n",
    "    best_C = C_list[cv_scores.argmax()]\n",
    "    print(\"Best C =\", best_C)\n",
    "    model = LogisticRegression(C=best_C, random_state=2, warm_start=True)\n",
    "    model.fit(X_train, Y_train)\n",
    "    \n",
    "    print(\"Best score on test set:\", model.score(X_test, Y_test))\n",
    "\n",
    "\n",
    "    \n",
    "\n",
    "def lda(X_train, X_test, Y_train, Y_test):\n",
    "    \n",
    "    cv_scores = np.mean(cross_val_score(LinearDiscriminantAnalysis(), X_train, Y_train, cv=kf))\n",
    "    print(\"10-fold cross validation score on training set:\", np.mean(cv_scores))\n",
    "    \n",
    "    model = LinearDiscriminantAnalysis()\n",
    "    model.fit(X_train, Y_train)\n",
    "    \n",
    "    print(\"Best score on test set:\", model.score(X_test, Y_test))"
   ]
  },
  {
   "cell_type": "markdown",
   "metadata": {},
   "source": [
    "#### cooking dataset"
   ]
  },
  {
   "cell_type": "code",
   "execution_count": 99,
   "metadata": {
    "scrolled": true
   },
   "outputs": [
    {
     "name": "stdout",
     "output_type": "stream",
     "text": [
      "10-fold cross-validated score on training set: 0.034999999999999996\n",
      "Best C = 2.5\n",
      "Best score on test set: 0.14\n"
     ]
    }
   ],
   "source": [
    "logit(cooking_X_train_scaled, cooking_X_test_scaled, cooking_Y_train_enc, cooking_Y_test_enc)"
   ]
  },
  {
   "cell_type": "code",
   "execution_count": 100,
   "metadata": {},
   "outputs": [
    {
     "name": "stdout",
     "output_type": "stream",
     "text": [
      "10-fold cross validation score on training set: 0.10266666666666664\n",
      "Best score on test set: 0.176\n"
     ]
    }
   ],
   "source": [
    "lda(cooking_X_train_scaled, cooking_X_test_scaled, cooking_Y_train_enc, cooking_Y_test_enc)"
   ]
  },
  {
   "cell_type": "code",
   "execution_count": 101,
   "metadata": {
    "scrolled": true
   },
   "outputs": [
    {
     "name": "stdout",
     "output_type": "stream",
     "text": [
      "10-fold cross-validated score on training set: 0.1337142857142857\n",
      "Best K = 80\n",
      "Best score on test set: 0.188\n"
     ]
    }
   ],
   "source": [
    "knn(cooking_X_train_scaled, cooking_X_test_scaled, cooking_Y_train_enc, cooking_Y_test_enc)"
   ]
  },
  {
   "cell_type": "markdown",
   "metadata": {},
   "source": [
    "#### mushroom dataset"
   ]
  },
  {
   "cell_type": "code",
   "execution_count": 102,
   "metadata": {
    "scrolled": true
   },
   "outputs": [
    {
     "name": "stdout",
     "output_type": "stream",
     "text": [
      "10-fold cross-validated score on training set: 0.9995894909688013\n",
      "Best C = 2.5\n",
      "Best score on test set: 1.0\n"
     ]
    }
   ],
   "source": [
    "logit(mushroom_X_train, mushroom_X_test, mushroom_Y_train, mushroom_Y_test)"
   ]
  },
  {
   "cell_type": "code",
   "execution_count": 104,
   "metadata": {
    "scrolled": false
   },
   "outputs": [
    {
     "name": "stdout",
     "output_type": "stream",
     "text": [
      "10-fold cross-validated score on training set: 0.9945372880638972\n",
      "Best K = 5\n",
      "Best score on test set: 1.0\n"
     ]
    }
   ],
   "source": [
    "knn(mushroom_X_train_scaled, mushroom_X_test_scaled, mushroom_Y_train, mushroom_Y_test)"
   ]
  },
  {
   "cell_type": "code",
   "execution_count": 105,
   "metadata": {
    "scrolled": true
   },
   "outputs": [
    {
     "name": "stdout",
     "output_type": "stream",
     "text": [
      "10-fold cross-validated score on training set: 1.0\n",
      "Best C = 0.5\n",
      "Best score on test set: 1.0\n"
     ]
    }
   ],
   "source": [
    "logit(mushroom_X_train_scaled, mushroom_X_test_scaled, mushroom_Y_train, mushroom_Y_test)"
   ]
  },
  {
   "cell_type": "markdown",
   "metadata": {},
   "source": [
    "### ii. Majority vote classiffier that uses the three classiffiers from previous step"
   ]
  },
  {
   "cell_type": "code",
   "execution_count": 82,
   "metadata": {},
   "outputs": [],
   "source": [
    "def majority_vote(X_train, X_test, Y_train, Y_test, k, C):\n",
    "    \n",
    "    lda = LinearDiscriminantAnalysis()\n",
    "    knn = KNeighborsClassifier(n_neighbors=k)\n",
    "    logit = LogisticRegression(C=C, random_state=2)\n",
    "    \n",
    "    clf = VotingClassifier(estimators=[('lda',lda),('knn',knn),('logit',logit)], voting='hard')\n",
    "    \n",
    "    cv_scores = cross_val_score(clf, X_train, Y_train, cv=10)\n",
    "    \n",
    "    print(\"10-fold cross validation score on training set:\", np.mean(cv_scores))\n",
    "    \n",
    "    clf.fit(X_train, Y_train)\n",
    "    print(\"Accuracy on test set:\", clf.score(X_test, Y_test))"
   ]
  },
  {
   "cell_type": "code",
   "execution_count": 84,
   "metadata": {},
   "outputs": [
    {
     "name": "stdout",
     "output_type": "stream",
     "text": [
      "10-fold cross validation score on training set: 0.1070529442483233\n",
      "Accuracy on test set: 0.168\n"
     ]
    }
   ],
   "source": [
    "# majority voting, bagging and boosting below\n",
    "# use the optimal tuning params from previous step on each dataset\n",
    "\n",
    "majority_vote(cooking_X_train_scaled, cooking_X_test_scaled, cooking_Y_train_enc, cooking_Y_test_enc, k=80, C=2.5)"
   ]
  },
  {
   "cell_type": "code",
   "execution_count": 83,
   "metadata": {},
   "outputs": [
    {
     "name": "stdout",
     "output_type": "stream",
     "text": [
      "10-fold cross validation score on training set: 0.99934291459287\n",
      "Accuracy on test set: 1.0\n"
     ]
    }
   ],
   "source": [
    "majority_vote(mushroom_X_train_scaled, mushroom_X_test_scaled, mushroom_Y_train, mushroom_Y_test, k=5, C=0.5)"
   ]
  },
  {
   "cell_type": "markdown",
   "metadata": {},
   "source": [
    "### iii. Bagging"
   ]
  },
  {
   "cell_type": "code",
   "execution_count": 121,
   "metadata": {},
   "outputs": [],
   "source": [
    "def bagging(X_train, X_test, Y_train, Y_test, k, C):\n",
    "    \n",
    "    knn = KNeighborsClassifier(n_neighbors=k)\n",
    "    clf = BaggingClassifier(base_estimator=knn, oob_score=True, random_state=24)\n",
    "    clf.fit(X_train, Y_train)\n",
    "    print(\"OOB score, KNN:\", clf.oob_score_)\n",
    "    \n",
    "    print(\"accuracy on test set:\", clf.score(X_test, Y_test))"
   ]
  },
  {
   "cell_type": "code",
   "execution_count": 114,
   "metadata": {
    "scrolled": false
   },
   "outputs": [
    {
     "name": "stdout",
     "output_type": "stream",
     "text": [
      "OOB score, KNN: 0.172\n",
      "accuracy on test set: 0.204\n"
     ]
    }
   ],
   "source": [
    "bagging(cooking_X_train_scaled, cooking_X_test_scaled, cooking_Y_train_enc, cooking_Y_test_enc, k=80, C=2.5)"
   ]
  },
  {
   "cell_type": "code",
   "execution_count": 115,
   "metadata": {
    "scrolled": true
   },
   "outputs": [
    {
     "name": "stdout",
     "output_type": "stream",
     "text": [
      "OOB score, KNN: 0.9955686853766618\n",
      "accuracy on test set: 1.0\n"
     ]
    }
   ],
   "source": [
    "bagging(mushroom_X_train_scaled, mushroom_X_test_scaled, mushroom_Y_train, mushroom_Y_test, k=5, C=0.5)"
   ]
  },
  {
   "cell_type": "markdown",
   "metadata": {},
   "source": [
    "### iv. Boosting"
   ]
  },
  {
   "cell_type": "code",
   "execution_count": 139,
   "metadata": {},
   "outputs": [],
   "source": [
    "def adaboost(X_train, X_test, Y_train, Y_test):\n",
    "    \n",
    "    cv_scores = []\n",
    "    learning_rates = [0.5, 1.0, 2.0]\n",
    "    for n in learning_rates:\n",
    "        clf = AdaBoostClassifier(n_estimators=30, learning_rate=n, random_state=9)\n",
    "        cv_scores.append(np.mean(cross_val_score(clf, X_train, Y_train, cv=kf)))\n",
    "\n",
    "    print(\"Best cross validated score:\", max(cv_scores))\n",
    "    \n",
    "    best_rate = learning_rates[np.argmax(cv_scores)]\n",
    "    AdaBoostClassifier(n_estimators=30, learning_rate=best_rate, random_state=9)\n",
    "    \n",
    "    clf.fit(X_train, Y_train)\n",
    "    print(\"Accuracy on test set:\", clf.score(X_test, Y_test))"
   ]
  },
  {
   "cell_type": "code",
   "execution_count": 140,
   "metadata": {},
   "outputs": [],
   "source": [
    "def gb(X_train, X_test, Y_train, Y_test):\n",
    "    \n",
    "    cv_scores = []\n",
    "    learning_rates = [0.1, 0.5, 1.0]\n",
    "    \n",
    "    for n in learning_rates:\n",
    "        clf = GradientBoostingClassifier(learning_rate=n, subsample=.7, max_features='sqrt', random_state=9, warm_start=True)\n",
    "        cv_scores.append(np.mean(cross_val_score(clf, X_train, Y_train, cv=kf)))\n",
    "    \n",
    "    print(\"Best cross validated score:\", max(cv_scores))\n",
    "    \n",
    "    best_rate = learning_rates[np.argmax(cv_scores)]\n",
    "    GradientBoostingClassifier(learning_rate=best_rate, subsample=.7, max_features='sqrt', random_state=9, warm_start=True)\n",
    "    \n",
    "    clf.fit(X_train, Y_train)\n",
    "    print(\"Accuracy on test set:\", clf.score(X_test, Y_test))"
   ]
  },
  {
   "cell_type": "code",
   "execution_count": 76,
   "metadata": {},
   "outputs": [
    {
     "name": "stdout",
     "output_type": "stream",
     "text": [
      "Best cross validated score: 0.20023021258153656\n",
      "Accuracy on test set: 0.016\n"
     ]
    }
   ],
   "source": [
    "adaboost(cooking_X_train_scaled, cooking_X_test_scaled, cooking_Y_train_enc, cooking_Y_test_enc)"
   ]
  },
  {
   "cell_type": "code",
   "execution_count": 132,
   "metadata": {},
   "outputs": [
    {
     "name": "stdout",
     "output_type": "stream",
     "text": [
      "Best cross validated score: 0.18133333333333332\n",
      "Accuracy on test set: 0.012\n"
     ]
    }
   ],
   "source": [
    "gb(cooking_X_train_scaled, cooking_X_test_scaled, cooking_Y_train_enc, cooking_Y_test_enc)"
   ]
  },
  {
   "cell_type": "code",
   "execution_count": 154,
   "metadata": {},
   "outputs": [
    {
     "name": "stdout",
     "output_type": "stream",
     "text": [
      "Best cross validated score: 1.0\n",
      "Accuracy on test set: 0.8887247661250616\n"
     ]
    }
   ],
   "source": [
    "adaboost(mushroom_X_train_scaled, mushroom_X_test_scaled, mushroom_Y_train, mushroom_Y_test)"
   ]
  },
  {
   "cell_type": "code",
   "execution_count": 133,
   "metadata": {},
   "outputs": [
    {
     "name": "stdout",
     "output_type": "stream",
     "text": [
      "Best cross validated score: 1.0\n",
      "Accuracy on test set: 1.0\n"
     ]
    }
   ],
   "source": [
    "gb(mushroom_X_train_scaled, mushroom_X_test_scaled, mushroom_Y_train, mushroom_Y_test)"
   ]
  },
  {
   "cell_type": "markdown",
   "metadata": {},
   "source": [
    "### (c) Report in a table the mean accuracy of each classi\f",
    "er you evaluated in the previous step for each dataset. Consequently, your report should include two tables that each show six accuracy scores for the six methods. (Write-up)"
   ]
  },
  {
   "cell_type": "markdown",
   "metadata": {},
   "source": [
    "Cooking dataset: \n",
    "\n",
    "| model | avg cv accuracy | test accuracy |\n",
    "| --- | --- | ---| \n",
    "| logistic regression | 0.035 | 0.14 |\n",
    "| LDA | 0.103 | 0.176 |\n",
    "| KNN | 0.134 | 0.188 | \n",
    "| majority vote | 0.107 | 0.168 |\n",
    "| bagging knn | 0.172 | 0.204 | \n",
    "| adaboost | 0.2 | 0.016 |\n",
    "| gradient boosting | 0.18 | 0.012 |\n",
    "\n",
    "Mushroom dataset:\n",
    "\n",
    "| model | avg cv accuracy | test accuracy |\n",
    "| --- | --- | --- |\n",
    "| logistic regression | 1.0 | 1.0 |\n",
    "| LDA | 0.99 | 1.0 | \n",
    "| KNN | 0.99 | 1.0 |\n",
    "| majority vote | 0.99 | 1.0 |\n",
    "| bagging knn | 0.99 | 1.0 |\n",
    "| adaboost | 1.0 | 0.89 |\n",
    "| gradient boosting | 1.0 | 1.0 |"
   ]
  },
  {
   "cell_type": "markdown",
   "metadata": {},
   "source": [
    "### (d) Write a discussion about the performance of the di\u000b",
    "erent ensemble methods. For example, what classi\f",
    "cation approaches did better/worse and why do you think so? How did ensemble methods compare to non-ensemble methods? What can you infer by observing the classi\f",
    "cation performance across the different datasets? Your discussion should consist of two to four paragraphs. (Write-up)"
   ]
  },
  {
   "cell_type": "markdown",
   "metadata": {},
   "source": [
    "With minimal preprocessing, the \"what's cooking\" dataset has lots of null values due to its irregular predictor shape (each recipe has different number of ingredients) and a very high dimensionality ($1000\\times5003$)."
   ]
  },
  {
   "cell_type": "code",
   "execution_count": 136,
   "metadata": {},
   "outputs": [
    {
     "data": {
      "image/png": "[encoded data removed]",
      "text/plain": [
       "<Figure size 432x288 with 1 Axes>"
      ]
     },
     "metadata": {},
     "output_type": "display_data"
    }
   ],
   "source": [
    "def plot_explained_variance(n_feature, X_train):\n",
    "    \n",
    "    pca_full = PCA(n_feature).fit(X_train)\n",
    "    plt.plot(np.cumsum(pca_full.explained_variance_ratio_))\n",
    "    plt.xlabel(\"number of principal components\")\n",
    "    plt.ylabel(\"cumulative explained variance\")\n",
    "    plt.grid(color='grey',linestyle='-',alpha=0.2)\n",
    "    plt.show()\n",
    "\n",
    "plot_explained_variance(5003, cooking_X_train_scaled)"
   ]
  },
  {
   "cell_type": "markdown",
   "metadata": {},
   "source": [
    "This plot indicates that using 600 principal components are sufficient to explain 100% of the variability in the original data. By reducing the dataset from 5003 to 500 principal components.\n",
    "\n",
    "Despite of the overall poor performance, the bagged KNN, an ensemble method, achieved the highest test accuracy on the cooking dataset (0.204) by combining multiple KNN classifiers that are fit with the same data and parameters as the single KNN classifier and achieved a lower accuracy (0.188). The training vs testing accuracies of AdaBoost and gradient boosting classifiers indicates that these two boosting methods probably overfit to the dataset, especially considering the fact that the dataset is noisy and high-dimensional."
   ]
  },
  {
   "cell_type": "code",
   "execution_count": 153,
   "metadata": {},
   "outputs": [
    {
     "data": {
      "text/plain": [
       "odor f                        0.783831\n",
       "stalk-surface-above-ring k    0.774481\n",
       "stalk-surface-below-ring k    0.766109\n",
       "gill-size n                   0.756319\n",
       "spore-print-color h           0.707000\n",
       "stalk-surface-above-ring s    0.680548\n",
       "ring-type l                   0.677461\n",
       "habitat p                     0.625318\n",
       "spore-print-color w           0.609584\n",
       "odor s                        0.588892\n",
       "dtype: float64"
      ]
     },
     "execution_count": 153,
     "metadata": {},
     "output_type": "execute_result"
    }
   ],
   "source": [
    "# sort feature importance according to KNN classifier\n",
    "n = mushroom_X_train_scaled.shape[1]\n",
    "knn_mushroom = KNeighborsClassifier(n_neighbors=5)\n",
    "feature_scores = []\n",
    "for i in range(n):\n",
    "    X_i = np.reshape(mushroom_X_df.iloc[:,i:i+1], -1, 1)\n",
    "    score = np.mean(cross_val_score(knn_mushroom, X_i, mushroom_Y_fit))\n",
    "    feature_scores.append(score)\n",
    "m = pd.Series(feature_scores, index=mushroom_X_df.columns)\n",
    "m.sort_values(ascending=False, inplace=True)\n",
    "m.head(10)"
   ]
  },
  {
   "cell_type": "markdown",
   "metadata": {},
   "source": [
    "Contrary to the cooking dataset, the mushroom dataset yields high performance on all classifiers (a fact also discussed on Kaggle). Sorting feature importance by the cross-validation score on a KNN classifier indicates that several features are very informative in predicting the class (edible or poisonous): \n",
    "- odor ('f' and 's')\n",
    "- stalk surface (above and below ring for 'k' and above rong for 's')\n",
    "- spore print color ('h' and 'w')\n",
    "- ring type 'l'\n",
    "- habitat 'p'"
   ]
  },
  {
   "cell_type": "markdown",
   "metadata": {},
   "source": [
    "Since all classifiers achieved high accuracies on the mushroom dataset, there's not much room for improvement by using ensemble method. One notiable thing is the relatively poor performance of the AdaBoost classifier on the testing dataset (0.89). This is probably due to the small amount of tree used for boosting: by increasing *n_estimators* from 30 to 100 in the codes below, the ensemble classifer is able to achieve an accuracy of 1.0. "
   ]
  },
  {
   "cell_type": "code",
   "execution_count": 152,
   "metadata": {},
   "outputs": [
    {
     "name": "stdout",
     "output_type": "stream",
     "text": [
      "Accuracy on test set: 1.0\n"
     ]
    }
   ],
   "source": [
    "ab = AdaBoostClassifier(n_estimators=100, random_state=9)\n",
    "ab.fit(mushroom_X_train_scaled, mushroom_Y_train)\n",
    "print(\"Accuracy on test set:\", ab.score(mushroom_X_test_scaled, mushroom_Y_test))"
   ]
  }
 ],
 "metadata": {
  "kernelspec": {
   "display_name": "Python 3",
   "language": "python",
   "name": "python3"
  },
  "language_info": {
   "codemirror_mode": {
    "name": "ipython",
    "version": 3
   },
   "file_extension": ".py",
   "mimetype": "text/x-python",
   "name": "python",
   "nbconvert_exporter": "python",
   "pygments_lexer": "ipython3",
   "version": "3.6.5"
  }
 },
 "nbformat": 4,
 "nbformat_minor": 2
}
